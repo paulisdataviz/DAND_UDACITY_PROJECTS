{
 "cells": [
  {
   "cell_type": "markdown",
   "metadata": {},
   "source": [
    "## Project: WeRateDogs - Wrangle and Analyze Data ##\n",
    "### Presented by: Paula Munoz ###\n",
    "\n",
    "### Introduction ###\n",
    "\n",
    "Throughout this project I will gather, assess and clean data related to the Twitter account  @dog_rates, also knowns as WeRateDogs to create an interesting and trustworthy analysis and visualizations.\n",
    "\n",
    "I will be using the Twitter's API to obtain the  retweet and favorite count to complement the analysis.\n",
    "\n",
    "#### About WeRateDogs ####\n",
    "WeRateDogs is a Twitter account that rates people's dogs with a humorous comment about the dog, and these ratings almost always have a denominator of 10. and the numerator is almost always greater than 10. Some examples of ratings are: 11/10, 12/10, 13/10, etc.\n",
    "\n"
   ]
  },
  {
   "cell_type": "markdown",
   "metadata": {},
   "source": [
    "## Data Wrangling ##\n",
    "\n",
    "### Gathering Data ###\n",
    "\n",
    "Importing Libraries and loading the data"
   ]
  },
  {
   "cell_type": "code",
   "execution_count": 1,
   "metadata": {},
   "outputs": [],
   "source": [
    "#Importing Libraries\n",
    "import pandas as pd\n",
    "import numpy as np\n",
    "import requests\n",
    "import tweepy\n",
    "import json\n",
    "import warnings\n",
    "import matplotlib.pyplot as plt\n",
    "import seaborn as sns\n",
    "%matplotlib inline"
   ]
  },
  {
   "cell_type": "code",
   "execution_count": 2,
   "metadata": {},
   "outputs": [],
   "source": [
    "#Load twitter Archive dataset\n",
    "df = pd.read_csv('twitter-archive-enhanced.csv')"
   ]
  },
  {
   "cell_type": "code",
   "execution_count": 3,
   "metadata": {},
   "outputs": [],
   "source": [
    "#Download tweet image predictions tsv file from Internet by using requests library\n",
    "url= \"https://d17h27t6h515a5.cloudfront.net/topher/2017/August/599fd2ad_image-predictions/image-predictions.tsv\"\n",
    "\n",
    "response = requests.get(url)\n",
    "\n",
    "with open('image_predictions.tsv', mode = 'wb') as file:\n",
    "    file.write(response.content)\n",
    "    \n",
    "#Load tsv file\n",
    "df_images = pd.read_csv('image_predictions.tsv', sep = '\\t')"
   ]
  },
  {
   "cell_type": "code",
   "execution_count": 612,
   "metadata": {},
   "outputs": [],
   "source": [
    "#Personal Twitter API Key and tokens (Information removed for Project submission)\n",
    "\n",
    "consumer_key = 'MY_CONSUMER_KEY'\n",
    "consumer_secret = 'MY_CONSUMER_SECRET'\n",
    "access_token = 'MY_ACCESS_TOKEN'\n",
    "access_secret = 'MY_ACCESS_SECRET'\n",
    "\n",
    "auth = tweepy.OAuthHandler(consumer_key, consumer_secret)\n",
    "auth.set_access_token(access_token, access_secret)\n",
    "\n",
    "api = tweepy.API(auth, wait_on_rate_limit= True, wait_on_rate_limit_notify= True)\n"
   ]
  },
  {
   "cell_type": "code",
   "execution_count": 4,
   "metadata": {},
   "outputs": [],
   "source": [
    "#Retweet and favorite count for tweet_ids\n",
    "with open ('tweet_json.txt', 'a', encoding = 'utf-8') as file2:\n",
    "    for id in df['tweet_id']:\n",
    "        try:\n",
    "            tweet = api.get_status(id, tweet_mode = 'extended')\n",
    "            json.dump(tweet._json, file2)\n",
    "            file2.write('\\n')\n",
    "        except:\n",
    "            continue"
   ]
  },
  {
   "cell_type": "code",
   "execution_count": 5,
   "metadata": {},
   "outputs": [],
   "source": [
    "#Each tweet's JSON data should be written to its own line\n",
    "tweets_list = []\n",
    "with open('tweet_json.txt', 'r') as file3:\n",
    "    for line in file3:\n",
    "        try:\n",
    "            tweet = json.loads(line)\n",
    "            tweets_list.append(tweet)\n",
    "        except:\n",
    "            continue\n"
   ]
  },
  {
   "cell_type": "code",
   "execution_count": 6,
   "metadata": {},
   "outputs": [],
   "source": [
    "#Creating Dataframe with tweet's information\n",
    "df_tweets = pd.DataFrame(tweets_list, columns = ['id', 'retweet_count', 'favorite_count'])"
   ]
  },
  {
   "cell_type": "markdown",
   "metadata": {},
   "source": [
    "## Assessing Data ##\n",
    "\n",
    "I will make an in depth assessment for the three following datasets:\n",
    "\n",
    "* df: Contains the twitter Archive data\n",
    "* df_images: Contains Image Predictions data\n",
    "* df_tweets: Contains retweet and favorite counts data\n",
    "\n",
    "The assesment will be done *Visually* and *Programatically*\n",
    "\n",
    "### Visual Assessment ###\n",
    "\n",
    "By quickly visually inspecting the datasets I was able to identify some quality and tidiness issues, such as:\n",
    "\n",
    "#### Quality ####\n",
    "o\t“Source” field from archived dataset (df) is difficult to read, it has unnecessary html tags\n",
    "\n",
    "#### Tidiness ####\n",
    "o\tDog stages are listed separately instead of having one column called “Stage”\n",
    "\n",
    "\n",
    "### Programmatic Assessment ####"
   ]
  },
  {
   "cell_type": "code",
   "execution_count": 7,
   "metadata": {},
   "outputs": [
    {
     "data": {
      "text/html": [
       "<div>\n",
       "<style>\n",
       "    .dataframe thead tr:only-child th {\n",
       "        text-align: right;\n",
       "    }\n",
       "\n",
       "    .dataframe thead th {\n",
       "        text-align: left;\n",
       "    }\n",
       "\n",
       "    .dataframe tbody tr th {\n",
       "        vertical-align: top;\n",
       "    }\n",
       "</style>\n",
       "<table border=\"1\" class=\"dataframe\">\n",
       "  <thead>\n",
       "    <tr style=\"text-align: right;\">\n",
       "      <th></th>\n",
       "      <th>tweet_id</th>\n",
       "      <th>in_reply_to_status_id</th>\n",
       "      <th>in_reply_to_user_id</th>\n",
       "      <th>timestamp</th>\n",
       "      <th>source</th>\n",
       "      <th>text</th>\n",
       "      <th>retweeted_status_id</th>\n",
       "      <th>retweeted_status_user_id</th>\n",
       "      <th>retweeted_status_timestamp</th>\n",
       "      <th>expanded_urls</th>\n",
       "      <th>rating_numerator</th>\n",
       "      <th>rating_denominator</th>\n",
       "      <th>name</th>\n",
       "      <th>doggo</th>\n",
       "      <th>floofer</th>\n",
       "      <th>pupper</th>\n",
       "      <th>puppo</th>\n",
       "    </tr>\n",
       "  </thead>\n",
       "  <tbody>\n",
       "    <tr>\n",
       "      <th>0</th>\n",
       "      <td>892420643555336193</td>\n",
       "      <td>NaN</td>\n",
       "      <td>NaN</td>\n",
       "      <td>2017-08-01 16:23:56 +0000</td>\n",
       "      <td>&lt;a href=\"http://twitter.com/download/iphone\" r...</td>\n",
       "      <td>This is Phineas. He's a mystical boy. Only eve...</td>\n",
       "      <td>NaN</td>\n",
       "      <td>NaN</td>\n",
       "      <td>NaN</td>\n",
       "      <td>https://twitter.com/dog_rates/status/892420643...</td>\n",
       "      <td>13</td>\n",
       "      <td>10</td>\n",
       "      <td>Phineas</td>\n",
       "      <td>None</td>\n",
       "      <td>None</td>\n",
       "      <td>None</td>\n",
       "      <td>None</td>\n",
       "    </tr>\n",
       "    <tr>\n",
       "      <th>1</th>\n",
       "      <td>892177421306343426</td>\n",
       "      <td>NaN</td>\n",
       "      <td>NaN</td>\n",
       "      <td>2017-08-01 00:17:27 +0000</td>\n",
       "      <td>&lt;a href=\"http://twitter.com/download/iphone\" r...</td>\n",
       "      <td>This is Tilly. She's just checking pup on you....</td>\n",
       "      <td>NaN</td>\n",
       "      <td>NaN</td>\n",
       "      <td>NaN</td>\n",
       "      <td>https://twitter.com/dog_rates/status/892177421...</td>\n",
       "      <td>13</td>\n",
       "      <td>10</td>\n",
       "      <td>Tilly</td>\n",
       "      <td>None</td>\n",
       "      <td>None</td>\n",
       "      <td>None</td>\n",
       "      <td>None</td>\n",
       "    </tr>\n",
       "    <tr>\n",
       "      <th>2</th>\n",
       "      <td>891815181378084864</td>\n",
       "      <td>NaN</td>\n",
       "      <td>NaN</td>\n",
       "      <td>2017-07-31 00:18:03 +0000</td>\n",
       "      <td>&lt;a href=\"http://twitter.com/download/iphone\" r...</td>\n",
       "      <td>This is Archie. He is a rare Norwegian Pouncin...</td>\n",
       "      <td>NaN</td>\n",
       "      <td>NaN</td>\n",
       "      <td>NaN</td>\n",
       "      <td>https://twitter.com/dog_rates/status/891815181...</td>\n",
       "      <td>12</td>\n",
       "      <td>10</td>\n",
       "      <td>Archie</td>\n",
       "      <td>None</td>\n",
       "      <td>None</td>\n",
       "      <td>None</td>\n",
       "      <td>None</td>\n",
       "    </tr>\n",
       "    <tr>\n",
       "      <th>3</th>\n",
       "      <td>891689557279858688</td>\n",
       "      <td>NaN</td>\n",
       "      <td>NaN</td>\n",
       "      <td>2017-07-30 15:58:51 +0000</td>\n",
       "      <td>&lt;a href=\"http://twitter.com/download/iphone\" r...</td>\n",
       "      <td>This is Darla. She commenced a snooze mid meal...</td>\n",
       "      <td>NaN</td>\n",
       "      <td>NaN</td>\n",
       "      <td>NaN</td>\n",
       "      <td>https://twitter.com/dog_rates/status/891689557...</td>\n",
       "      <td>13</td>\n",
       "      <td>10</td>\n",
       "      <td>Darla</td>\n",
       "      <td>None</td>\n",
       "      <td>None</td>\n",
       "      <td>None</td>\n",
       "      <td>None</td>\n",
       "    </tr>\n",
       "    <tr>\n",
       "      <th>4</th>\n",
       "      <td>891327558926688256</td>\n",
       "      <td>NaN</td>\n",
       "      <td>NaN</td>\n",
       "      <td>2017-07-29 16:00:24 +0000</td>\n",
       "      <td>&lt;a href=\"http://twitter.com/download/iphone\" r...</td>\n",
       "      <td>This is Franklin. He would like you to stop ca...</td>\n",
       "      <td>NaN</td>\n",
       "      <td>NaN</td>\n",
       "      <td>NaN</td>\n",
       "      <td>https://twitter.com/dog_rates/status/891327558...</td>\n",
       "      <td>12</td>\n",
       "      <td>10</td>\n",
       "      <td>Franklin</td>\n",
       "      <td>None</td>\n",
       "      <td>None</td>\n",
       "      <td>None</td>\n",
       "      <td>None</td>\n",
       "    </tr>\n",
       "  </tbody>\n",
       "</table>\n",
       "</div>"
      ],
      "text/plain": [
       "             tweet_id  in_reply_to_status_id  in_reply_to_user_id  \\\n",
       "0  892420643555336193                    NaN                  NaN   \n",
       "1  892177421306343426                    NaN                  NaN   \n",
       "2  891815181378084864                    NaN                  NaN   \n",
       "3  891689557279858688                    NaN                  NaN   \n",
       "4  891327558926688256                    NaN                  NaN   \n",
       "\n",
       "                   timestamp  \\\n",
       "0  2017-08-01 16:23:56 +0000   \n",
       "1  2017-08-01 00:17:27 +0000   \n",
       "2  2017-07-31 00:18:03 +0000   \n",
       "3  2017-07-30 15:58:51 +0000   \n",
       "4  2017-07-29 16:00:24 +0000   \n",
       "\n",
       "                                              source  \\\n",
       "0  <a href=\"http://twitter.com/download/iphone\" r...   \n",
       "1  <a href=\"http://twitter.com/download/iphone\" r...   \n",
       "2  <a href=\"http://twitter.com/download/iphone\" r...   \n",
       "3  <a href=\"http://twitter.com/download/iphone\" r...   \n",
       "4  <a href=\"http://twitter.com/download/iphone\" r...   \n",
       "\n",
       "                                                text  retweeted_status_id  \\\n",
       "0  This is Phineas. He's a mystical boy. Only eve...                  NaN   \n",
       "1  This is Tilly. She's just checking pup on you....                  NaN   \n",
       "2  This is Archie. He is a rare Norwegian Pouncin...                  NaN   \n",
       "3  This is Darla. She commenced a snooze mid meal...                  NaN   \n",
       "4  This is Franklin. He would like you to stop ca...                  NaN   \n",
       "\n",
       "   retweeted_status_user_id retweeted_status_timestamp  \\\n",
       "0                       NaN                        NaN   \n",
       "1                       NaN                        NaN   \n",
       "2                       NaN                        NaN   \n",
       "3                       NaN                        NaN   \n",
       "4                       NaN                        NaN   \n",
       "\n",
       "                                       expanded_urls  rating_numerator  \\\n",
       "0  https://twitter.com/dog_rates/status/892420643...                13   \n",
       "1  https://twitter.com/dog_rates/status/892177421...                13   \n",
       "2  https://twitter.com/dog_rates/status/891815181...                12   \n",
       "3  https://twitter.com/dog_rates/status/891689557...                13   \n",
       "4  https://twitter.com/dog_rates/status/891327558...                12   \n",
       "\n",
       "   rating_denominator      name doggo floofer pupper puppo  \n",
       "0                  10   Phineas  None    None   None  None  \n",
       "1                  10     Tilly  None    None   None  None  \n",
       "2                  10    Archie  None    None   None  None  \n",
       "3                  10     Darla  None    None   None  None  \n",
       "4                  10  Franklin  None    None   None  None  "
      ]
     },
     "execution_count": 7,
     "metadata": {},
     "output_type": "execute_result"
    }
   ],
   "source": [
    "#Checking the first five rows of df dataframe\n",
    "df.head()"
   ]
  },
  {
   "cell_type": "code",
   "execution_count": 8,
   "metadata": {},
   "outputs": [
    {
     "data": {
      "text/html": [
       "<div>\n",
       "<style>\n",
       "    .dataframe thead tr:only-child th {\n",
       "        text-align: right;\n",
       "    }\n",
       "\n",
       "    .dataframe thead th {\n",
       "        text-align: left;\n",
       "    }\n",
       "\n",
       "    .dataframe tbody tr th {\n",
       "        vertical-align: top;\n",
       "    }\n",
       "</style>\n",
       "<table border=\"1\" class=\"dataframe\">\n",
       "  <thead>\n",
       "    <tr style=\"text-align: right;\">\n",
       "      <th></th>\n",
       "      <th>tweet_id</th>\n",
       "      <th>jpg_url</th>\n",
       "      <th>img_num</th>\n",
       "      <th>p1</th>\n",
       "      <th>p1_conf</th>\n",
       "      <th>p1_dog</th>\n",
       "      <th>p2</th>\n",
       "      <th>p2_conf</th>\n",
       "      <th>p2_dog</th>\n",
       "      <th>p3</th>\n",
       "      <th>p3_conf</th>\n",
       "      <th>p3_dog</th>\n",
       "    </tr>\n",
       "  </thead>\n",
       "  <tbody>\n",
       "    <tr>\n",
       "      <th>0</th>\n",
       "      <td>666020888022790149</td>\n",
       "      <td>https://pbs.twimg.com/media/CT4udn0WwAA0aMy.jpg</td>\n",
       "      <td>1</td>\n",
       "      <td>Welsh_springer_spaniel</td>\n",
       "      <td>0.465074</td>\n",
       "      <td>True</td>\n",
       "      <td>collie</td>\n",
       "      <td>0.156665</td>\n",
       "      <td>True</td>\n",
       "      <td>Shetland_sheepdog</td>\n",
       "      <td>0.061428</td>\n",
       "      <td>True</td>\n",
       "    </tr>\n",
       "    <tr>\n",
       "      <th>1</th>\n",
       "      <td>666029285002620928</td>\n",
       "      <td>https://pbs.twimg.com/media/CT42GRgUYAA5iDo.jpg</td>\n",
       "      <td>1</td>\n",
       "      <td>redbone</td>\n",
       "      <td>0.506826</td>\n",
       "      <td>True</td>\n",
       "      <td>miniature_pinscher</td>\n",
       "      <td>0.074192</td>\n",
       "      <td>True</td>\n",
       "      <td>Rhodesian_ridgeback</td>\n",
       "      <td>0.072010</td>\n",
       "      <td>True</td>\n",
       "    </tr>\n",
       "    <tr>\n",
       "      <th>2</th>\n",
       "      <td>666033412701032449</td>\n",
       "      <td>https://pbs.twimg.com/media/CT4521TWwAEvMyu.jpg</td>\n",
       "      <td>1</td>\n",
       "      <td>German_shepherd</td>\n",
       "      <td>0.596461</td>\n",
       "      <td>True</td>\n",
       "      <td>malinois</td>\n",
       "      <td>0.138584</td>\n",
       "      <td>True</td>\n",
       "      <td>bloodhound</td>\n",
       "      <td>0.116197</td>\n",
       "      <td>True</td>\n",
       "    </tr>\n",
       "    <tr>\n",
       "      <th>3</th>\n",
       "      <td>666044226329800704</td>\n",
       "      <td>https://pbs.twimg.com/media/CT5Dr8HUEAA-lEu.jpg</td>\n",
       "      <td>1</td>\n",
       "      <td>Rhodesian_ridgeback</td>\n",
       "      <td>0.408143</td>\n",
       "      <td>True</td>\n",
       "      <td>redbone</td>\n",
       "      <td>0.360687</td>\n",
       "      <td>True</td>\n",
       "      <td>miniature_pinscher</td>\n",
       "      <td>0.222752</td>\n",
       "      <td>True</td>\n",
       "    </tr>\n",
       "    <tr>\n",
       "      <th>4</th>\n",
       "      <td>666049248165822465</td>\n",
       "      <td>https://pbs.twimg.com/media/CT5IQmsXIAAKY4A.jpg</td>\n",
       "      <td>1</td>\n",
       "      <td>miniature_pinscher</td>\n",
       "      <td>0.560311</td>\n",
       "      <td>True</td>\n",
       "      <td>Rottweiler</td>\n",
       "      <td>0.243682</td>\n",
       "      <td>True</td>\n",
       "      <td>Doberman</td>\n",
       "      <td>0.154629</td>\n",
       "      <td>True</td>\n",
       "    </tr>\n",
       "  </tbody>\n",
       "</table>\n",
       "</div>"
      ],
      "text/plain": [
       "             tweet_id                                          jpg_url  \\\n",
       "0  666020888022790149  https://pbs.twimg.com/media/CT4udn0WwAA0aMy.jpg   \n",
       "1  666029285002620928  https://pbs.twimg.com/media/CT42GRgUYAA5iDo.jpg   \n",
       "2  666033412701032449  https://pbs.twimg.com/media/CT4521TWwAEvMyu.jpg   \n",
       "3  666044226329800704  https://pbs.twimg.com/media/CT5Dr8HUEAA-lEu.jpg   \n",
       "4  666049248165822465  https://pbs.twimg.com/media/CT5IQmsXIAAKY4A.jpg   \n",
       "\n",
       "   img_num                      p1   p1_conf  p1_dog                  p2  \\\n",
       "0        1  Welsh_springer_spaniel  0.465074    True              collie   \n",
       "1        1                 redbone  0.506826    True  miniature_pinscher   \n",
       "2        1         German_shepherd  0.596461    True            malinois   \n",
       "3        1     Rhodesian_ridgeback  0.408143    True             redbone   \n",
       "4        1      miniature_pinscher  0.560311    True          Rottweiler   \n",
       "\n",
       "    p2_conf  p2_dog                   p3   p3_conf  p3_dog  \n",
       "0  0.156665    True    Shetland_sheepdog  0.061428    True  \n",
       "1  0.074192    True  Rhodesian_ridgeback  0.072010    True  \n",
       "2  0.138584    True           bloodhound  0.116197    True  \n",
       "3  0.360687    True   miniature_pinscher  0.222752    True  \n",
       "4  0.243682    True             Doberman  0.154629    True  "
      ]
     },
     "execution_count": 8,
     "metadata": {},
     "output_type": "execute_result"
    }
   ],
   "source": [
    "#Checking the first five rows of df_images dataframe\n",
    "df_images.head()"
   ]
  },
  {
   "cell_type": "code",
   "execution_count": 9,
   "metadata": {},
   "outputs": [
    {
     "data": {
      "text/html": [
       "<div>\n",
       "<style>\n",
       "    .dataframe thead tr:only-child th {\n",
       "        text-align: right;\n",
       "    }\n",
       "\n",
       "    .dataframe thead th {\n",
       "        text-align: left;\n",
       "    }\n",
       "\n",
       "    .dataframe tbody tr th {\n",
       "        vertical-align: top;\n",
       "    }\n",
       "</style>\n",
       "<table border=\"1\" class=\"dataframe\">\n",
       "  <thead>\n",
       "    <tr style=\"text-align: right;\">\n",
       "      <th></th>\n",
       "      <th>id</th>\n",
       "      <th>retweet_count</th>\n",
       "      <th>favorite_count</th>\n",
       "    </tr>\n",
       "  </thead>\n",
       "  <tbody>\n",
       "    <tr>\n",
       "      <th>0</th>\n",
       "      <td>892420643555336193</td>\n",
       "      <td>8279</td>\n",
       "      <td>37912</td>\n",
       "    </tr>\n",
       "    <tr>\n",
       "      <th>1</th>\n",
       "      <td>892177421306343426</td>\n",
       "      <td>6117</td>\n",
       "      <td>32564</td>\n",
       "    </tr>\n",
       "    <tr>\n",
       "      <th>2</th>\n",
       "      <td>891815181378084864</td>\n",
       "      <td>4051</td>\n",
       "      <td>24517</td>\n",
       "    </tr>\n",
       "    <tr>\n",
       "      <th>3</th>\n",
       "      <td>891689557279858688</td>\n",
       "      <td>8421</td>\n",
       "      <td>41266</td>\n",
       "    </tr>\n",
       "    <tr>\n",
       "      <th>4</th>\n",
       "      <td>891327558926688256</td>\n",
       "      <td>9121</td>\n",
       "      <td>39440</td>\n",
       "    </tr>\n",
       "  </tbody>\n",
       "</table>\n",
       "</div>"
      ],
      "text/plain": [
       "                   id  retweet_count  favorite_count\n",
       "0  892420643555336193           8279           37912\n",
       "1  892177421306343426           6117           32564\n",
       "2  891815181378084864           4051           24517\n",
       "3  891689557279858688           8421           41266\n",
       "4  891327558926688256           9121           39440"
      ]
     },
     "execution_count": 9,
     "metadata": {},
     "output_type": "execute_result"
    }
   ],
   "source": [
    "#Checking the first five rows of df_tweets dataframe\n",
    "df_tweets.head()"
   ]
  },
  {
   "cell_type": "code",
   "execution_count": 10,
   "metadata": {},
   "outputs": [
    {
     "data": {
      "text/html": [
       "<div>\n",
       "<style>\n",
       "    .dataframe thead tr:only-child th {\n",
       "        text-align: right;\n",
       "    }\n",
       "\n",
       "    .dataframe thead th {\n",
       "        text-align: left;\n",
       "    }\n",
       "\n",
       "    .dataframe tbody tr th {\n",
       "        vertical-align: top;\n",
       "    }\n",
       "</style>\n",
       "<table border=\"1\" class=\"dataframe\">\n",
       "  <thead>\n",
       "    <tr style=\"text-align: right;\">\n",
       "      <th></th>\n",
       "      <th>tweet_id</th>\n",
       "      <th>in_reply_to_status_id</th>\n",
       "      <th>in_reply_to_user_id</th>\n",
       "      <th>timestamp</th>\n",
       "      <th>source</th>\n",
       "      <th>text</th>\n",
       "      <th>retweeted_status_id</th>\n",
       "      <th>retweeted_status_user_id</th>\n",
       "      <th>retweeted_status_timestamp</th>\n",
       "      <th>expanded_urls</th>\n",
       "      <th>rating_numerator</th>\n",
       "      <th>rating_denominator</th>\n",
       "      <th>name</th>\n",
       "      <th>doggo</th>\n",
       "      <th>floofer</th>\n",
       "      <th>pupper</th>\n",
       "      <th>puppo</th>\n",
       "    </tr>\n",
       "  </thead>\n",
       "  <tbody>\n",
       "    <tr>\n",
       "      <th>2351</th>\n",
       "      <td>666049248165822465</td>\n",
       "      <td>NaN</td>\n",
       "      <td>NaN</td>\n",
       "      <td>2015-11-16 00:24:50 +0000</td>\n",
       "      <td>&lt;a href=\"http://twitter.com/download/iphone\" r...</td>\n",
       "      <td>Here we have a 1949 1st generation vulpix. Enj...</td>\n",
       "      <td>NaN</td>\n",
       "      <td>NaN</td>\n",
       "      <td>NaN</td>\n",
       "      <td>https://twitter.com/dog_rates/status/666049248...</td>\n",
       "      <td>5</td>\n",
       "      <td>10</td>\n",
       "      <td>None</td>\n",
       "      <td>None</td>\n",
       "      <td>None</td>\n",
       "      <td>None</td>\n",
       "      <td>None</td>\n",
       "    </tr>\n",
       "    <tr>\n",
       "      <th>2352</th>\n",
       "      <td>666044226329800704</td>\n",
       "      <td>NaN</td>\n",
       "      <td>NaN</td>\n",
       "      <td>2015-11-16 00:04:52 +0000</td>\n",
       "      <td>&lt;a href=\"http://twitter.com/download/iphone\" r...</td>\n",
       "      <td>This is a purebred Piers Morgan. Loves to Netf...</td>\n",
       "      <td>NaN</td>\n",
       "      <td>NaN</td>\n",
       "      <td>NaN</td>\n",
       "      <td>https://twitter.com/dog_rates/status/666044226...</td>\n",
       "      <td>6</td>\n",
       "      <td>10</td>\n",
       "      <td>a</td>\n",
       "      <td>None</td>\n",
       "      <td>None</td>\n",
       "      <td>None</td>\n",
       "      <td>None</td>\n",
       "    </tr>\n",
       "    <tr>\n",
       "      <th>2353</th>\n",
       "      <td>666033412701032449</td>\n",
       "      <td>NaN</td>\n",
       "      <td>NaN</td>\n",
       "      <td>2015-11-15 23:21:54 +0000</td>\n",
       "      <td>&lt;a href=\"http://twitter.com/download/iphone\" r...</td>\n",
       "      <td>Here is a very happy pup. Big fan of well-main...</td>\n",
       "      <td>NaN</td>\n",
       "      <td>NaN</td>\n",
       "      <td>NaN</td>\n",
       "      <td>https://twitter.com/dog_rates/status/666033412...</td>\n",
       "      <td>9</td>\n",
       "      <td>10</td>\n",
       "      <td>a</td>\n",
       "      <td>None</td>\n",
       "      <td>None</td>\n",
       "      <td>None</td>\n",
       "      <td>None</td>\n",
       "    </tr>\n",
       "    <tr>\n",
       "      <th>2354</th>\n",
       "      <td>666029285002620928</td>\n",
       "      <td>NaN</td>\n",
       "      <td>NaN</td>\n",
       "      <td>2015-11-15 23:05:30 +0000</td>\n",
       "      <td>&lt;a href=\"http://twitter.com/download/iphone\" r...</td>\n",
       "      <td>This is a western brown Mitsubishi terrier. Up...</td>\n",
       "      <td>NaN</td>\n",
       "      <td>NaN</td>\n",
       "      <td>NaN</td>\n",
       "      <td>https://twitter.com/dog_rates/status/666029285...</td>\n",
       "      <td>7</td>\n",
       "      <td>10</td>\n",
       "      <td>a</td>\n",
       "      <td>None</td>\n",
       "      <td>None</td>\n",
       "      <td>None</td>\n",
       "      <td>None</td>\n",
       "    </tr>\n",
       "    <tr>\n",
       "      <th>2355</th>\n",
       "      <td>666020888022790149</td>\n",
       "      <td>NaN</td>\n",
       "      <td>NaN</td>\n",
       "      <td>2015-11-15 22:32:08 +0000</td>\n",
       "      <td>&lt;a href=\"http://twitter.com/download/iphone\" r...</td>\n",
       "      <td>Here we have a Japanese Irish Setter. Lost eye...</td>\n",
       "      <td>NaN</td>\n",
       "      <td>NaN</td>\n",
       "      <td>NaN</td>\n",
       "      <td>https://twitter.com/dog_rates/status/666020888...</td>\n",
       "      <td>8</td>\n",
       "      <td>10</td>\n",
       "      <td>None</td>\n",
       "      <td>None</td>\n",
       "      <td>None</td>\n",
       "      <td>None</td>\n",
       "      <td>None</td>\n",
       "    </tr>\n",
       "  </tbody>\n",
       "</table>\n",
       "</div>"
      ],
      "text/plain": [
       "                tweet_id  in_reply_to_status_id  in_reply_to_user_id  \\\n",
       "2351  666049248165822465                    NaN                  NaN   \n",
       "2352  666044226329800704                    NaN                  NaN   \n",
       "2353  666033412701032449                    NaN                  NaN   \n",
       "2354  666029285002620928                    NaN                  NaN   \n",
       "2355  666020888022790149                    NaN                  NaN   \n",
       "\n",
       "                      timestamp  \\\n",
       "2351  2015-11-16 00:24:50 +0000   \n",
       "2352  2015-11-16 00:04:52 +0000   \n",
       "2353  2015-11-15 23:21:54 +0000   \n",
       "2354  2015-11-15 23:05:30 +0000   \n",
       "2355  2015-11-15 22:32:08 +0000   \n",
       "\n",
       "                                                 source  \\\n",
       "2351  <a href=\"http://twitter.com/download/iphone\" r...   \n",
       "2352  <a href=\"http://twitter.com/download/iphone\" r...   \n",
       "2353  <a href=\"http://twitter.com/download/iphone\" r...   \n",
       "2354  <a href=\"http://twitter.com/download/iphone\" r...   \n",
       "2355  <a href=\"http://twitter.com/download/iphone\" r...   \n",
       "\n",
       "                                                   text  retweeted_status_id  \\\n",
       "2351  Here we have a 1949 1st generation vulpix. Enj...                  NaN   \n",
       "2352  This is a purebred Piers Morgan. Loves to Netf...                  NaN   \n",
       "2353  Here is a very happy pup. Big fan of well-main...                  NaN   \n",
       "2354  This is a western brown Mitsubishi terrier. Up...                  NaN   \n",
       "2355  Here we have a Japanese Irish Setter. Lost eye...                  NaN   \n",
       "\n",
       "      retweeted_status_user_id retweeted_status_timestamp  \\\n",
       "2351                       NaN                        NaN   \n",
       "2352                       NaN                        NaN   \n",
       "2353                       NaN                        NaN   \n",
       "2354                       NaN                        NaN   \n",
       "2355                       NaN                        NaN   \n",
       "\n",
       "                                          expanded_urls  rating_numerator  \\\n",
       "2351  https://twitter.com/dog_rates/status/666049248...                 5   \n",
       "2352  https://twitter.com/dog_rates/status/666044226...                 6   \n",
       "2353  https://twitter.com/dog_rates/status/666033412...                 9   \n",
       "2354  https://twitter.com/dog_rates/status/666029285...                 7   \n",
       "2355  https://twitter.com/dog_rates/status/666020888...                 8   \n",
       "\n",
       "      rating_denominator  name doggo floofer pupper puppo  \n",
       "2351                  10  None  None    None   None  None  \n",
       "2352                  10     a  None    None   None  None  \n",
       "2353                  10     a  None    None   None  None  \n",
       "2354                  10     a  None    None   None  None  \n",
       "2355                  10  None  None    None   None  None  "
      ]
     },
     "execution_count": 10,
     "metadata": {},
     "output_type": "execute_result"
    }
   ],
   "source": [
    "#Checking the last five rows of df dataframe\n",
    "df.tail()"
   ]
  },
  {
   "cell_type": "code",
   "execution_count": 11,
   "metadata": {},
   "outputs": [
    {
     "data": {
      "text/html": [
       "<div>\n",
       "<style>\n",
       "    .dataframe thead tr:only-child th {\n",
       "        text-align: right;\n",
       "    }\n",
       "\n",
       "    .dataframe thead th {\n",
       "        text-align: left;\n",
       "    }\n",
       "\n",
       "    .dataframe tbody tr th {\n",
       "        vertical-align: top;\n",
       "    }\n",
       "</style>\n",
       "<table border=\"1\" class=\"dataframe\">\n",
       "  <thead>\n",
       "    <tr style=\"text-align: right;\">\n",
       "      <th></th>\n",
       "      <th>tweet_id</th>\n",
       "      <th>jpg_url</th>\n",
       "      <th>img_num</th>\n",
       "      <th>p1</th>\n",
       "      <th>p1_conf</th>\n",
       "      <th>p1_dog</th>\n",
       "      <th>p2</th>\n",
       "      <th>p2_conf</th>\n",
       "      <th>p2_dog</th>\n",
       "      <th>p3</th>\n",
       "      <th>p3_conf</th>\n",
       "      <th>p3_dog</th>\n",
       "    </tr>\n",
       "  </thead>\n",
       "  <tbody>\n",
       "    <tr>\n",
       "      <th>2070</th>\n",
       "      <td>891327558926688256</td>\n",
       "      <td>https://pbs.twimg.com/media/DF6hr6BUMAAzZgT.jpg</td>\n",
       "      <td>2</td>\n",
       "      <td>basset</td>\n",
       "      <td>0.555712</td>\n",
       "      <td>True</td>\n",
       "      <td>English_springer</td>\n",
       "      <td>0.225770</td>\n",
       "      <td>True</td>\n",
       "      <td>German_short-haired_pointer</td>\n",
       "      <td>0.175219</td>\n",
       "      <td>True</td>\n",
       "    </tr>\n",
       "    <tr>\n",
       "      <th>2071</th>\n",
       "      <td>891689557279858688</td>\n",
       "      <td>https://pbs.twimg.com/media/DF_q7IAWsAEuuN8.jpg</td>\n",
       "      <td>1</td>\n",
       "      <td>paper_towel</td>\n",
       "      <td>0.170278</td>\n",
       "      <td>False</td>\n",
       "      <td>Labrador_retriever</td>\n",
       "      <td>0.168086</td>\n",
       "      <td>True</td>\n",
       "      <td>spatula</td>\n",
       "      <td>0.040836</td>\n",
       "      <td>False</td>\n",
       "    </tr>\n",
       "    <tr>\n",
       "      <th>2072</th>\n",
       "      <td>891815181378084864</td>\n",
       "      <td>https://pbs.twimg.com/media/DGBdLU1WsAANxJ9.jpg</td>\n",
       "      <td>1</td>\n",
       "      <td>Chihuahua</td>\n",
       "      <td>0.716012</td>\n",
       "      <td>True</td>\n",
       "      <td>malamute</td>\n",
       "      <td>0.078253</td>\n",
       "      <td>True</td>\n",
       "      <td>kelpie</td>\n",
       "      <td>0.031379</td>\n",
       "      <td>True</td>\n",
       "    </tr>\n",
       "    <tr>\n",
       "      <th>2073</th>\n",
       "      <td>892177421306343426</td>\n",
       "      <td>https://pbs.twimg.com/media/DGGmoV4XsAAUL6n.jpg</td>\n",
       "      <td>1</td>\n",
       "      <td>Chihuahua</td>\n",
       "      <td>0.323581</td>\n",
       "      <td>True</td>\n",
       "      <td>Pekinese</td>\n",
       "      <td>0.090647</td>\n",
       "      <td>True</td>\n",
       "      <td>papillon</td>\n",
       "      <td>0.068957</td>\n",
       "      <td>True</td>\n",
       "    </tr>\n",
       "    <tr>\n",
       "      <th>2074</th>\n",
       "      <td>892420643555336193</td>\n",
       "      <td>https://pbs.twimg.com/media/DGKD1-bXoAAIAUK.jpg</td>\n",
       "      <td>1</td>\n",
       "      <td>orange</td>\n",
       "      <td>0.097049</td>\n",
       "      <td>False</td>\n",
       "      <td>bagel</td>\n",
       "      <td>0.085851</td>\n",
       "      <td>False</td>\n",
       "      <td>banana</td>\n",
       "      <td>0.076110</td>\n",
       "      <td>False</td>\n",
       "    </tr>\n",
       "  </tbody>\n",
       "</table>\n",
       "</div>"
      ],
      "text/plain": [
       "                tweet_id                                          jpg_url  \\\n",
       "2070  891327558926688256  https://pbs.twimg.com/media/DF6hr6BUMAAzZgT.jpg   \n",
       "2071  891689557279858688  https://pbs.twimg.com/media/DF_q7IAWsAEuuN8.jpg   \n",
       "2072  891815181378084864  https://pbs.twimg.com/media/DGBdLU1WsAANxJ9.jpg   \n",
       "2073  892177421306343426  https://pbs.twimg.com/media/DGGmoV4XsAAUL6n.jpg   \n",
       "2074  892420643555336193  https://pbs.twimg.com/media/DGKD1-bXoAAIAUK.jpg   \n",
       "\n",
       "      img_num           p1   p1_conf  p1_dog                  p2   p2_conf  \\\n",
       "2070        2       basset  0.555712    True    English_springer  0.225770   \n",
       "2071        1  paper_towel  0.170278   False  Labrador_retriever  0.168086   \n",
       "2072        1    Chihuahua  0.716012    True            malamute  0.078253   \n",
       "2073        1    Chihuahua  0.323581    True            Pekinese  0.090647   \n",
       "2074        1       orange  0.097049   False               bagel  0.085851   \n",
       "\n",
       "      p2_dog                           p3   p3_conf  p3_dog  \n",
       "2070    True  German_short-haired_pointer  0.175219    True  \n",
       "2071    True                      spatula  0.040836   False  \n",
       "2072    True                       kelpie  0.031379    True  \n",
       "2073    True                     papillon  0.068957    True  \n",
       "2074   False                       banana  0.076110   False  "
      ]
     },
     "execution_count": 11,
     "metadata": {},
     "output_type": "execute_result"
    }
   ],
   "source": [
    "#Checking the last five rows of df_images dataframe\n",
    "df_images.tail()"
   ]
  },
  {
   "cell_type": "code",
   "execution_count": 12,
   "metadata": {},
   "outputs": [
    {
     "data": {
      "text/html": [
       "<div>\n",
       "<style>\n",
       "    .dataframe thead tr:only-child th {\n",
       "        text-align: right;\n",
       "    }\n",
       "\n",
       "    .dataframe thead th {\n",
       "        text-align: left;\n",
       "    }\n",
       "\n",
       "    .dataframe tbody tr th {\n",
       "        vertical-align: top;\n",
       "    }\n",
       "</style>\n",
       "<table border=\"1\" class=\"dataframe\">\n",
       "  <thead>\n",
       "    <tr style=\"text-align: right;\">\n",
       "      <th></th>\n",
       "      <th>id</th>\n",
       "      <th>retweet_count</th>\n",
       "      <th>favorite_count</th>\n",
       "    </tr>\n",
       "  </thead>\n",
       "  <tbody>\n",
       "    <tr>\n",
       "      <th>2335</th>\n",
       "      <td>666049248165822465</td>\n",
       "      <td>42</td>\n",
       "      <td>106</td>\n",
       "    </tr>\n",
       "    <tr>\n",
       "      <th>2336</th>\n",
       "      <td>666044226329800704</td>\n",
       "      <td>136</td>\n",
       "      <td>292</td>\n",
       "    </tr>\n",
       "    <tr>\n",
       "      <th>2337</th>\n",
       "      <td>666033412701032449</td>\n",
       "      <td>43</td>\n",
       "      <td>123</td>\n",
       "    </tr>\n",
       "    <tr>\n",
       "      <th>2338</th>\n",
       "      <td>666029285002620928</td>\n",
       "      <td>46</td>\n",
       "      <td>126</td>\n",
       "    </tr>\n",
       "    <tr>\n",
       "      <th>2339</th>\n",
       "      <td>666020888022790149</td>\n",
       "      <td>498</td>\n",
       "      <td>2532</td>\n",
       "    </tr>\n",
       "  </tbody>\n",
       "</table>\n",
       "</div>"
      ],
      "text/plain": [
       "                      id  retweet_count  favorite_count\n",
       "2335  666049248165822465             42             106\n",
       "2336  666044226329800704            136             292\n",
       "2337  666033412701032449             43             123\n",
       "2338  666029285002620928             46             126\n",
       "2339  666020888022790149            498            2532"
      ]
     },
     "execution_count": 12,
     "metadata": {},
     "output_type": "execute_result"
    }
   ],
   "source": [
    "#Checking the last five rows of df_tweets dataframe\n",
    "df_tweets.tail()"
   ]
  },
  {
   "cell_type": "code",
   "execution_count": 13,
   "metadata": {},
   "outputs": [
    {
     "data": {
      "text/plain": [
       "(2356, 17)"
      ]
     },
     "execution_count": 13,
     "metadata": {},
     "output_type": "execute_result"
    }
   ],
   "source": [
    "#Checking the dimensions of df dataframe\n",
    "df.shape"
   ]
  },
  {
   "cell_type": "code",
   "execution_count": 14,
   "metadata": {},
   "outputs": [
    {
     "data": {
      "text/plain": [
       "(2075, 12)"
      ]
     },
     "execution_count": 14,
     "metadata": {},
     "output_type": "execute_result"
    }
   ],
   "source": [
    "#Checking the dimensions of df_images dataframe\n",
    "df_images.shape"
   ]
  },
  {
   "cell_type": "code",
   "execution_count": 15,
   "metadata": {},
   "outputs": [
    {
     "data": {
      "text/plain": [
       "(2340, 3)"
      ]
     },
     "execution_count": 15,
     "metadata": {},
     "output_type": "execute_result"
    }
   ],
   "source": [
    "#Checking the dimensions of df_tweets dataframe\n",
    "df_tweets.shape"
   ]
  },
  {
   "cell_type": "code",
   "execution_count": 16,
   "metadata": {},
   "outputs": [
    {
     "name": "stdout",
     "output_type": "stream",
     "text": [
      "<class 'pandas.core.frame.DataFrame'>\n",
      "RangeIndex: 2356 entries, 0 to 2355\n",
      "Data columns (total 17 columns):\n",
      "tweet_id                      2356 non-null int64\n",
      "in_reply_to_status_id         78 non-null float64\n",
      "in_reply_to_user_id           78 non-null float64\n",
      "timestamp                     2356 non-null object\n",
      "source                        2356 non-null object\n",
      "text                          2356 non-null object\n",
      "retweeted_status_id           181 non-null float64\n",
      "retweeted_status_user_id      181 non-null float64\n",
      "retweeted_status_timestamp    181 non-null object\n",
      "expanded_urls                 2297 non-null object\n",
      "rating_numerator              2356 non-null int64\n",
      "rating_denominator            2356 non-null int64\n",
      "name                          2356 non-null object\n",
      "doggo                         2356 non-null object\n",
      "floofer                       2356 non-null object\n",
      "pupper                        2356 non-null object\n",
      "puppo                         2356 non-null object\n",
      "dtypes: float64(4), int64(3), object(10)\n",
      "memory usage: 313.0+ KB\n"
     ]
    }
   ],
   "source": [
    "#Checking summary of df dataframe as well as the number of non-Null values and Datatypes of the fields\n",
    "df.info()"
   ]
  },
  {
   "cell_type": "code",
   "execution_count": 17,
   "metadata": {},
   "outputs": [
    {
     "name": "stdout",
     "output_type": "stream",
     "text": [
      "<class 'pandas.core.frame.DataFrame'>\n",
      "RangeIndex: 2075 entries, 0 to 2074\n",
      "Data columns (total 12 columns):\n",
      "tweet_id    2075 non-null int64\n",
      "jpg_url     2075 non-null object\n",
      "img_num     2075 non-null int64\n",
      "p1          2075 non-null object\n",
      "p1_conf     2075 non-null float64\n",
      "p1_dog      2075 non-null bool\n",
      "p2          2075 non-null object\n",
      "p2_conf     2075 non-null float64\n",
      "p2_dog      2075 non-null bool\n",
      "p3          2075 non-null object\n",
      "p3_conf     2075 non-null float64\n",
      "p3_dog      2075 non-null bool\n",
      "dtypes: bool(3), float64(3), int64(2), object(4)\n",
      "memory usage: 152.1+ KB\n"
     ]
    }
   ],
   "source": [
    "#Checking summary of df_images dataframe as well as the number of non-Null values and Datatypes of the fields\n",
    "df_images.info()"
   ]
  },
  {
   "cell_type": "code",
   "execution_count": 18,
   "metadata": {},
   "outputs": [
    {
     "name": "stdout",
     "output_type": "stream",
     "text": [
      "<class 'pandas.core.frame.DataFrame'>\n",
      "RangeIndex: 2340 entries, 0 to 2339\n",
      "Data columns (total 3 columns):\n",
      "id                2340 non-null int64\n",
      "retweet_count     2340 non-null int64\n",
      "favorite_count    2340 non-null int64\n",
      "dtypes: int64(3)\n",
      "memory usage: 54.9 KB\n"
     ]
    }
   ],
   "source": [
    "#Checking summary of df_tweets dataframe as well as the number of non-Null values and Datatypes of the fields\n",
    "df_tweets.info()"
   ]
  },
  {
   "cell_type": "code",
   "execution_count": 19,
   "metadata": {},
   "outputs": [
    {
     "data": {
      "text/html": [
       "<div>\n",
       "<style>\n",
       "    .dataframe thead tr:only-child th {\n",
       "        text-align: right;\n",
       "    }\n",
       "\n",
       "    .dataframe thead th {\n",
       "        text-align: left;\n",
       "    }\n",
       "\n",
       "    .dataframe tbody tr th {\n",
       "        vertical-align: top;\n",
       "    }\n",
       "</style>\n",
       "<table border=\"1\" class=\"dataframe\">\n",
       "  <thead>\n",
       "    <tr style=\"text-align: right;\">\n",
       "      <th></th>\n",
       "      <th>tweet_id</th>\n",
       "      <th>in_reply_to_status_id</th>\n",
       "      <th>in_reply_to_user_id</th>\n",
       "      <th>retweeted_status_id</th>\n",
       "      <th>retweeted_status_user_id</th>\n",
       "      <th>rating_numerator</th>\n",
       "      <th>rating_denominator</th>\n",
       "    </tr>\n",
       "  </thead>\n",
       "  <tbody>\n",
       "    <tr>\n",
       "      <th>count</th>\n",
       "      <td>2.356000e+03</td>\n",
       "      <td>7.800000e+01</td>\n",
       "      <td>7.800000e+01</td>\n",
       "      <td>1.810000e+02</td>\n",
       "      <td>1.810000e+02</td>\n",
       "      <td>2356.000000</td>\n",
       "      <td>2356.000000</td>\n",
       "    </tr>\n",
       "    <tr>\n",
       "      <th>mean</th>\n",
       "      <td>7.427716e+17</td>\n",
       "      <td>7.455079e+17</td>\n",
       "      <td>2.014171e+16</td>\n",
       "      <td>7.720400e+17</td>\n",
       "      <td>1.241698e+16</td>\n",
       "      <td>13.126486</td>\n",
       "      <td>10.455433</td>\n",
       "    </tr>\n",
       "    <tr>\n",
       "      <th>std</th>\n",
       "      <td>6.856705e+16</td>\n",
       "      <td>7.582492e+16</td>\n",
       "      <td>1.252797e+17</td>\n",
       "      <td>6.236928e+16</td>\n",
       "      <td>9.599254e+16</td>\n",
       "      <td>45.876648</td>\n",
       "      <td>6.745237</td>\n",
       "    </tr>\n",
       "    <tr>\n",
       "      <th>min</th>\n",
       "      <td>6.660209e+17</td>\n",
       "      <td>6.658147e+17</td>\n",
       "      <td>1.185634e+07</td>\n",
       "      <td>6.661041e+17</td>\n",
       "      <td>7.832140e+05</td>\n",
       "      <td>0.000000</td>\n",
       "      <td>0.000000</td>\n",
       "    </tr>\n",
       "    <tr>\n",
       "      <th>25%</th>\n",
       "      <td>6.783989e+17</td>\n",
       "      <td>6.757419e+17</td>\n",
       "      <td>3.086374e+08</td>\n",
       "      <td>7.186315e+17</td>\n",
       "      <td>4.196984e+09</td>\n",
       "      <td>10.000000</td>\n",
       "      <td>10.000000</td>\n",
       "    </tr>\n",
       "    <tr>\n",
       "      <th>50%</th>\n",
       "      <td>7.196279e+17</td>\n",
       "      <td>7.038708e+17</td>\n",
       "      <td>4.196984e+09</td>\n",
       "      <td>7.804657e+17</td>\n",
       "      <td>4.196984e+09</td>\n",
       "      <td>11.000000</td>\n",
       "      <td>10.000000</td>\n",
       "    </tr>\n",
       "    <tr>\n",
       "      <th>75%</th>\n",
       "      <td>7.993373e+17</td>\n",
       "      <td>8.257804e+17</td>\n",
       "      <td>4.196984e+09</td>\n",
       "      <td>8.203146e+17</td>\n",
       "      <td>4.196984e+09</td>\n",
       "      <td>12.000000</td>\n",
       "      <td>10.000000</td>\n",
       "    </tr>\n",
       "    <tr>\n",
       "      <th>max</th>\n",
       "      <td>8.924206e+17</td>\n",
       "      <td>8.862664e+17</td>\n",
       "      <td>8.405479e+17</td>\n",
       "      <td>8.874740e+17</td>\n",
       "      <td>7.874618e+17</td>\n",
       "      <td>1776.000000</td>\n",
       "      <td>170.000000</td>\n",
       "    </tr>\n",
       "  </tbody>\n",
       "</table>\n",
       "</div>"
      ],
      "text/plain": [
       "           tweet_id  in_reply_to_status_id  in_reply_to_user_id  \\\n",
       "count  2.356000e+03           7.800000e+01         7.800000e+01   \n",
       "mean   7.427716e+17           7.455079e+17         2.014171e+16   \n",
       "std    6.856705e+16           7.582492e+16         1.252797e+17   \n",
       "min    6.660209e+17           6.658147e+17         1.185634e+07   \n",
       "25%    6.783989e+17           6.757419e+17         3.086374e+08   \n",
       "50%    7.196279e+17           7.038708e+17         4.196984e+09   \n",
       "75%    7.993373e+17           8.257804e+17         4.196984e+09   \n",
       "max    8.924206e+17           8.862664e+17         8.405479e+17   \n",
       "\n",
       "       retweeted_status_id  retweeted_status_user_id  rating_numerator  \\\n",
       "count         1.810000e+02              1.810000e+02       2356.000000   \n",
       "mean          7.720400e+17              1.241698e+16         13.126486   \n",
       "std           6.236928e+16              9.599254e+16         45.876648   \n",
       "min           6.661041e+17              7.832140e+05          0.000000   \n",
       "25%           7.186315e+17              4.196984e+09         10.000000   \n",
       "50%           7.804657e+17              4.196984e+09         11.000000   \n",
       "75%           8.203146e+17              4.196984e+09         12.000000   \n",
       "max           8.874740e+17              7.874618e+17       1776.000000   \n",
       "\n",
       "       rating_denominator  \n",
       "count         2356.000000  \n",
       "mean            10.455433  \n",
       "std              6.745237  \n",
       "min              0.000000  \n",
       "25%             10.000000  \n",
       "50%             10.000000  \n",
       "75%             10.000000  \n",
       "max            170.000000  "
      ]
     },
     "execution_count": 19,
     "metadata": {},
     "output_type": "execute_result"
    }
   ],
   "source": [
    "#Checking summary statistics of df dataframe \n",
    "df.describe()"
   ]
  },
  {
   "cell_type": "code",
   "execution_count": 20,
   "metadata": {},
   "outputs": [
    {
     "data": {
      "text/html": [
       "<div>\n",
       "<style>\n",
       "    .dataframe thead tr:only-child th {\n",
       "        text-align: right;\n",
       "    }\n",
       "\n",
       "    .dataframe thead th {\n",
       "        text-align: left;\n",
       "    }\n",
       "\n",
       "    .dataframe tbody tr th {\n",
       "        vertical-align: top;\n",
       "    }\n",
       "</style>\n",
       "<table border=\"1\" class=\"dataframe\">\n",
       "  <thead>\n",
       "    <tr style=\"text-align: right;\">\n",
       "      <th></th>\n",
       "      <th>tweet_id</th>\n",
       "      <th>img_num</th>\n",
       "      <th>p1_conf</th>\n",
       "      <th>p2_conf</th>\n",
       "      <th>p3_conf</th>\n",
       "    </tr>\n",
       "  </thead>\n",
       "  <tbody>\n",
       "    <tr>\n",
       "      <th>count</th>\n",
       "      <td>2.075000e+03</td>\n",
       "      <td>2075.000000</td>\n",
       "      <td>2075.000000</td>\n",
       "      <td>2.075000e+03</td>\n",
       "      <td>2.075000e+03</td>\n",
       "    </tr>\n",
       "    <tr>\n",
       "      <th>mean</th>\n",
       "      <td>7.384514e+17</td>\n",
       "      <td>1.203855</td>\n",
       "      <td>0.594548</td>\n",
       "      <td>1.345886e-01</td>\n",
       "      <td>6.032417e-02</td>\n",
       "    </tr>\n",
       "    <tr>\n",
       "      <th>std</th>\n",
       "      <td>6.785203e+16</td>\n",
       "      <td>0.561875</td>\n",
       "      <td>0.271174</td>\n",
       "      <td>1.006657e-01</td>\n",
       "      <td>5.090593e-02</td>\n",
       "    </tr>\n",
       "    <tr>\n",
       "      <th>min</th>\n",
       "      <td>6.660209e+17</td>\n",
       "      <td>1.000000</td>\n",
       "      <td>0.044333</td>\n",
       "      <td>1.011300e-08</td>\n",
       "      <td>1.740170e-10</td>\n",
       "    </tr>\n",
       "    <tr>\n",
       "      <th>25%</th>\n",
       "      <td>6.764835e+17</td>\n",
       "      <td>1.000000</td>\n",
       "      <td>0.364412</td>\n",
       "      <td>5.388625e-02</td>\n",
       "      <td>1.622240e-02</td>\n",
       "    </tr>\n",
       "    <tr>\n",
       "      <th>50%</th>\n",
       "      <td>7.119988e+17</td>\n",
       "      <td>1.000000</td>\n",
       "      <td>0.588230</td>\n",
       "      <td>1.181810e-01</td>\n",
       "      <td>4.944380e-02</td>\n",
       "    </tr>\n",
       "    <tr>\n",
       "      <th>75%</th>\n",
       "      <td>7.932034e+17</td>\n",
       "      <td>1.000000</td>\n",
       "      <td>0.843855</td>\n",
       "      <td>1.955655e-01</td>\n",
       "      <td>9.180755e-02</td>\n",
       "    </tr>\n",
       "    <tr>\n",
       "      <th>max</th>\n",
       "      <td>8.924206e+17</td>\n",
       "      <td>4.000000</td>\n",
       "      <td>1.000000</td>\n",
       "      <td>4.880140e-01</td>\n",
       "      <td>2.734190e-01</td>\n",
       "    </tr>\n",
       "  </tbody>\n",
       "</table>\n",
       "</div>"
      ],
      "text/plain": [
       "           tweet_id      img_num      p1_conf       p2_conf       p3_conf\n",
       "count  2.075000e+03  2075.000000  2075.000000  2.075000e+03  2.075000e+03\n",
       "mean   7.384514e+17     1.203855     0.594548  1.345886e-01  6.032417e-02\n",
       "std    6.785203e+16     0.561875     0.271174  1.006657e-01  5.090593e-02\n",
       "min    6.660209e+17     1.000000     0.044333  1.011300e-08  1.740170e-10\n",
       "25%    6.764835e+17     1.000000     0.364412  5.388625e-02  1.622240e-02\n",
       "50%    7.119988e+17     1.000000     0.588230  1.181810e-01  4.944380e-02\n",
       "75%    7.932034e+17     1.000000     0.843855  1.955655e-01  9.180755e-02\n",
       "max    8.924206e+17     4.000000     1.000000  4.880140e-01  2.734190e-01"
      ]
     },
     "execution_count": 20,
     "metadata": {},
     "output_type": "execute_result"
    }
   ],
   "source": [
    "#Checking summary statistics of df_images dataframe \n",
    "df_images.describe()"
   ]
  },
  {
   "cell_type": "code",
   "execution_count": 21,
   "metadata": {},
   "outputs": [
    {
     "data": {
      "text/html": [
       "<div>\n",
       "<style>\n",
       "    .dataframe thead tr:only-child th {\n",
       "        text-align: right;\n",
       "    }\n",
       "\n",
       "    .dataframe thead th {\n",
       "        text-align: left;\n",
       "    }\n",
       "\n",
       "    .dataframe tbody tr th {\n",
       "        vertical-align: top;\n",
       "    }\n",
       "</style>\n",
       "<table border=\"1\" class=\"dataframe\">\n",
       "  <thead>\n",
       "    <tr style=\"text-align: right;\">\n",
       "      <th></th>\n",
       "      <th>id</th>\n",
       "      <th>retweet_count</th>\n",
       "      <th>favorite_count</th>\n",
       "    </tr>\n",
       "  </thead>\n",
       "  <tbody>\n",
       "    <tr>\n",
       "      <th>count</th>\n",
       "      <td>2.340000e+03</td>\n",
       "      <td>2340.000000</td>\n",
       "      <td>2340.000000</td>\n",
       "    </tr>\n",
       "    <tr>\n",
       "      <th>mean</th>\n",
       "      <td>7.422176e+17</td>\n",
       "      <td>2915.453846</td>\n",
       "      <td>7934.817094</td>\n",
       "    </tr>\n",
       "    <tr>\n",
       "      <th>std</th>\n",
       "      <td>6.832564e+16</td>\n",
       "      <td>4912.093787</td>\n",
       "      <td>12291.490833</td>\n",
       "    </tr>\n",
       "    <tr>\n",
       "      <th>min</th>\n",
       "      <td>6.660209e+17</td>\n",
       "      <td>0.000000</td>\n",
       "      <td>0.000000</td>\n",
       "    </tr>\n",
       "    <tr>\n",
       "      <th>25%</th>\n",
       "      <td>6.783394e+17</td>\n",
       "      <td>584.500000</td>\n",
       "      <td>1369.750000</td>\n",
       "    </tr>\n",
       "    <tr>\n",
       "      <th>50%</th>\n",
       "      <td>7.186224e+17</td>\n",
       "      <td>1361.000000</td>\n",
       "      <td>3450.500000</td>\n",
       "    </tr>\n",
       "    <tr>\n",
       "      <th>75%</th>\n",
       "      <td>7.986954e+17</td>\n",
       "      <td>3395.250000</td>\n",
       "      <td>9709.500000</td>\n",
       "    </tr>\n",
       "    <tr>\n",
       "      <th>max</th>\n",
       "      <td>8.924206e+17</td>\n",
       "      <td>83264.000000</td>\n",
       "      <td>163731.000000</td>\n",
       "    </tr>\n",
       "  </tbody>\n",
       "</table>\n",
       "</div>"
      ],
      "text/plain": [
       "                 id  retweet_count  favorite_count\n",
       "count  2.340000e+03    2340.000000     2340.000000\n",
       "mean   7.422176e+17    2915.453846     7934.817094\n",
       "std    6.832564e+16    4912.093787    12291.490833\n",
       "min    6.660209e+17       0.000000        0.000000\n",
       "25%    6.783394e+17     584.500000     1369.750000\n",
       "50%    7.186224e+17    1361.000000     3450.500000\n",
       "75%    7.986954e+17    3395.250000     9709.500000\n",
       "max    8.924206e+17   83264.000000   163731.000000"
      ]
     },
     "execution_count": 21,
     "metadata": {},
     "output_type": "execute_result"
    }
   ],
   "source": [
    "#Checking summary statistics of df_tweets dataframe \n",
    "df_tweets.describe()"
   ]
  },
  {
   "cell_type": "code",
   "execution_count": 22,
   "metadata": {},
   "outputs": [
    {
     "data": {
      "text/plain": [
       "tweet_id                      2356\n",
       "in_reply_to_status_id           77\n",
       "in_reply_to_user_id             31\n",
       "timestamp                     2356\n",
       "source                           4\n",
       "text                          2356\n",
       "retweeted_status_id            181\n",
       "retweeted_status_user_id        25\n",
       "retweeted_status_timestamp     181\n",
       "expanded_urls                 2218\n",
       "rating_numerator                40\n",
       "rating_denominator              18\n",
       "name                           957\n",
       "doggo                            2\n",
       "floofer                          2\n",
       "pupper                           2\n",
       "puppo                            2\n",
       "dtype: int64"
      ]
     },
     "execution_count": 22,
     "metadata": {},
     "output_type": "execute_result"
    }
   ],
   "source": [
    "#Checking the number of unique values in each column of df dataframe \n",
    "df.nunique()"
   ]
  },
  {
   "cell_type": "code",
   "execution_count": 23,
   "metadata": {},
   "outputs": [
    {
     "data": {
      "text/plain": [
       "tweet_id    2075\n",
       "jpg_url     2009\n",
       "img_num        4\n",
       "p1           378\n",
       "p1_conf     2006\n",
       "p1_dog         2\n",
       "p2           405\n",
       "p2_conf     2004\n",
       "p2_dog         2\n",
       "p3           408\n",
       "p3_conf     2006\n",
       "p3_dog         2\n",
       "dtype: int64"
      ]
     },
     "execution_count": 23,
     "metadata": {},
     "output_type": "execute_result"
    }
   ],
   "source": [
    "#Checking the number of unique values in each column of df_images dataframe \n",
    "df_images.nunique()"
   ]
  },
  {
   "cell_type": "code",
   "execution_count": 24,
   "metadata": {},
   "outputs": [
    {
     "data": {
      "text/plain": [
       "id                2340\n",
       "retweet_count     1718\n",
       "favorite_count    2001\n",
       "dtype: int64"
      ]
     },
     "execution_count": 24,
     "metadata": {},
     "output_type": "execute_result"
    }
   ],
   "source": [
    "#Checking the number of unique values in each column of df_tweets dataframe \n",
    "df_tweets.nunique()"
   ]
  },
  {
   "cell_type": "code",
   "execution_count": 25,
   "metadata": {},
   "outputs": [
    {
     "data": {
      "text/plain": [
       "0"
      ]
     },
     "execution_count": 25,
     "metadata": {},
     "output_type": "execute_result"
    }
   ],
   "source": [
    "#Checking for duplicates in df dataframe \n",
    "sum(df.duplicated())"
   ]
  },
  {
   "cell_type": "code",
   "execution_count": 26,
   "metadata": {},
   "outputs": [
    {
     "data": {
      "text/plain": [
       "0"
      ]
     },
     "execution_count": 26,
     "metadata": {},
     "output_type": "execute_result"
    }
   ],
   "source": [
    "#Checking for duplicates in df_images dataframe \n",
    "sum(df_images.duplicated())"
   ]
  },
  {
   "cell_type": "code",
   "execution_count": 27,
   "metadata": {},
   "outputs": [
    {
     "data": {
      "text/plain": [
       "0"
      ]
     },
     "execution_count": 27,
     "metadata": {},
     "output_type": "execute_result"
    }
   ],
   "source": [
    "#Checking for duplicates in df_tweets dataframe \n",
    "sum(df_tweets.duplicated())"
   ]
  },
  {
   "cell_type": "code",
   "execution_count": 28,
   "metadata": {},
   "outputs": [
    {
     "data": {
      "text/plain": [
       "None          745\n",
       "a              55\n",
       "Charlie        12\n",
       "Cooper         11\n",
       "Oliver         11\n",
       "Lucy           11\n",
       "Tucker         10\n",
       "Penny          10\n",
       "Lola           10\n",
       "Winston         9\n",
       "Bo              9\n",
       "the             8\n",
       "Sadie           8\n",
       "Buddy           7\n",
       "an              7\n",
       "Daisy           7\n",
       "Toby            7\n",
       "Bailey          7\n",
       "Jack            6\n",
       "Scout           6\n",
       "Koda            6\n",
       "Stanley         6\n",
       "Bella           6\n",
       "Leo             6\n",
       "Oscar           6\n",
       "Rusty           6\n",
       "Dave            6\n",
       "Jax             6\n",
       "Milo            6\n",
       "Larry           5\n",
       "             ... \n",
       "Jiminus         1\n",
       "Kobe            1\n",
       "Wishes          1\n",
       "Glacier         1\n",
       "Asher           1\n",
       "Georgie         1\n",
       "Tess            1\n",
       "Marq            1\n",
       "Joey            1\n",
       "Chesterson      1\n",
       "Gert            1\n",
       "Chesney         1\n",
       "Tedders         1\n",
       "Jeffrie         1\n",
       "Nico            1\n",
       "Bobbay          1\n",
       "Bauer           1\n",
       "Nugget          1\n",
       "Tycho           1\n",
       "Rooney          1\n",
       "Alfy            1\n",
       "Marvin          1\n",
       "Sage            1\n",
       "Raphael         1\n",
       "Walker          1\n",
       "Yoda            1\n",
       "old             1\n",
       "Wiggles         1\n",
       "Hubertson       1\n",
       "Tito            1\n",
       "Name: name, Length: 957, dtype: int64"
      ]
     },
     "execution_count": 28,
     "metadata": {},
     "output_type": "execute_result"
    }
   ],
   "source": [
    "#Checking value counts of name from df dataframe\n",
    "df.name.value_counts()"
   ]
  },
  {
   "cell_type": "code",
   "execution_count": 29,
   "metadata": {},
   "outputs": [
    {
     "data": {
      "text/plain": [
       "Abby             2\n",
       "Ace              1\n",
       "Acro             1\n",
       "Adele            1\n",
       "Aiden            1\n",
       "Aja              1\n",
       "Akumi            1\n",
       "Al               1\n",
       "Albert           2\n",
       "Albus            2\n",
       "Aldrick          1\n",
       "Alejandro        1\n",
       "Alexander        1\n",
       "Alexanderson     1\n",
       "Alf              1\n",
       "Alfie            5\n",
       "Alfy             1\n",
       "Alice            2\n",
       "Amber            1\n",
       "Ambrose          1\n",
       "Amy              1\n",
       "Amélie           1\n",
       "Anakin           2\n",
       "Andru            1\n",
       "Andy             1\n",
       "Angel            1\n",
       "Anna             1\n",
       "Anthony          1\n",
       "Antony           1\n",
       "Apollo           1\n",
       "                ..\n",
       "Ziva             1\n",
       "Zoe              1\n",
       "Zoey             3\n",
       "Zooey            1\n",
       "Zuzu             1\n",
       "a               55\n",
       "actually         2\n",
       "all              1\n",
       "an               7\n",
       "by               1\n",
       "getting          2\n",
       "his              1\n",
       "incredibly       1\n",
       "infuriating      1\n",
       "just             4\n",
       "life             1\n",
       "light            1\n",
       "mad              2\n",
       "my               1\n",
       "not              2\n",
       "officially       1\n",
       "old              1\n",
       "one              4\n",
       "quite            4\n",
       "space            1\n",
       "such             1\n",
       "the              8\n",
       "this             1\n",
       "unacceptable     1\n",
       "very             5\n",
       "Name: name, Length: 957, dtype: int64"
      ]
     },
     "execution_count": 29,
     "metadata": {},
     "output_type": "execute_result"
    }
   ],
   "source": [
    "#More Checking on name field df dataframe\n",
    "df.name.value_counts().sort_index()"
   ]
  },
  {
   "cell_type": "code",
   "execution_count": 30,
   "metadata": {},
   "outputs": [
    {
     "data": {
      "text/plain": [
       "0         2\n",
       "1         9\n",
       "2         9\n",
       "3        19\n",
       "4        17\n",
       "5        37\n",
       "6        32\n",
       "7        55\n",
       "8       102\n",
       "9       158\n",
       "10      461\n",
       "11      464\n",
       "12      558\n",
       "13      351\n",
       "14       54\n",
       "15        2\n",
       "17        1\n",
       "20        1\n",
       "24        1\n",
       "26        1\n",
       "27        1\n",
       "44        1\n",
       "45        1\n",
       "50        1\n",
       "60        1\n",
       "75        2\n",
       "80        1\n",
       "84        1\n",
       "88        1\n",
       "99        1\n",
       "121       1\n",
       "143       1\n",
       "144       1\n",
       "165       1\n",
       "182       1\n",
       "204       1\n",
       "420       2\n",
       "666       1\n",
       "960       1\n",
       "1776      1\n",
       "Name: rating_numerator, dtype: int64"
      ]
     },
     "execution_count": 30,
     "metadata": {},
     "output_type": "execute_result"
    }
   ],
   "source": [
    "#Checking value counts for rating_numerator from df dataframe\n",
    "df.rating_numerator.value_counts().sort_index()"
   ]
  },
  {
   "cell_type": "code",
   "execution_count": 31,
   "metadata": {},
   "outputs": [
    {
     "data": {
      "text/plain": [
       "0         1\n",
       "2         1\n",
       "7         1\n",
       "10     2333\n",
       "11        3\n",
       "15        1\n",
       "16        1\n",
       "20        2\n",
       "40        1\n",
       "50        3\n",
       "70        1\n",
       "80        2\n",
       "90        1\n",
       "110       1\n",
       "120       1\n",
       "130       1\n",
       "150       1\n",
       "170       1\n",
       "Name: rating_denominator, dtype: int64"
      ]
     },
     "execution_count": 31,
     "metadata": {},
     "output_type": "execute_result"
    }
   ],
   "source": [
    "#Checking value counts for rating_denominator from df dataframe\n",
    "df.rating_denominator.value_counts().sort_index()"
   ]
  },
  {
   "cell_type": "markdown",
   "metadata": {},
   "source": [
    "### Quality ###\n",
    "\n",
    "#### df dataframe ####\n",
    "\n",
    "* name field has entries that are not real names such as \"a\", \"actually\", \"the\"\n",
    "* There are tweets not related to dogs, but instead related to other animals and other things.\n",
    "* Several records showing \"None\" for name field\n",
    "* rating_numerator has values with less than \"10\" or too high (with three or more digits)\n",
    "* rating_denominator has values different than \"10\"\n",
    "* Data contains retweets which means there are duplicates\n",
    "* Source field difficult to read/ understand\n",
    "\n",
    "#### df_images dataframe ####\n",
    "\n",
    "* Values showing under P1, P2, and P3 which are meant to be dog's breed may not be an actual dog breed\n",
    "\n",
    "#### df_tweets dataframe ####\n",
    "\n",
    "* Column referring to tweet id is called \"id\" instead of \"tweet_id\"\n",
    "\n",
    "\n",
    "### Tidiness ###\n",
    "\n",
    "#### df dataframe ####\n",
    "\n",
    "* Dog stages such as: doggo, floofer, pupper and puppo showing in separate columns\n",
    "\n",
    "#### df_images dataframe ####\n",
    "\n",
    "* P1, P2, and P3 which are meant to be dog's breed are in different columns."
   ]
  },
  {
   "cell_type": "markdown",
   "metadata": {},
   "source": [
    "# Cleaning Data #"
   ]
  },
  {
   "cell_type": "code",
   "execution_count": 136,
   "metadata": {},
   "outputs": [],
   "source": [
    "#Before starting with cleaning tasks, I will make a copy of all three datasets to preserve original data\n",
    "\n",
    "df_clean = df.copy()\n",
    "df_images_clean = df_images.copy()\n",
    "df_tweets_clean = df_tweets.copy()"
   ]
  },
  {
   "cell_type": "markdown",
   "metadata": {},
   "source": [
    "## Quality - 1 ##"
   ]
  },
  {
   "cell_type": "markdown",
   "metadata": {},
   "source": [
    "#### Define ####\n",
    "\n",
    "Correct column name from df_tweets_clean referring to tweet id which is currently called \"id\" to \"tweet_id\" to keep consistency with other two datasets and help the join process to be smoother\n",
    "\n",
    "#### Code ####"
   ]
  },
  {
   "cell_type": "code",
   "execution_count": 137,
   "metadata": {},
   "outputs": [],
   "source": [
    "#renaming id to tweet_id for consistency with other datasets\n",
    "df_tweets_clean = df_tweets_clean.rename(columns={\"id\": \"tweet_id\"})"
   ]
  },
  {
   "cell_type": "markdown",
   "metadata": {},
   "source": [
    "#### Test ####"
   ]
  },
  {
   "cell_type": "code",
   "execution_count": 138,
   "metadata": {},
   "outputs": [
    {
     "data": {
      "text/html": [
       "<div>\n",
       "<style>\n",
       "    .dataframe thead tr:only-child th {\n",
       "        text-align: right;\n",
       "    }\n",
       "\n",
       "    .dataframe thead th {\n",
       "        text-align: left;\n",
       "    }\n",
       "\n",
       "    .dataframe tbody tr th {\n",
       "        vertical-align: top;\n",
       "    }\n",
       "</style>\n",
       "<table border=\"1\" class=\"dataframe\">\n",
       "  <thead>\n",
       "    <tr style=\"text-align: right;\">\n",
       "      <th></th>\n",
       "      <th>tweet_id</th>\n",
       "      <th>retweet_count</th>\n",
       "      <th>favorite_count</th>\n",
       "    </tr>\n",
       "  </thead>\n",
       "  <tbody>\n",
       "    <tr>\n",
       "      <th>0</th>\n",
       "      <td>892420643555336193</td>\n",
       "      <td>8279</td>\n",
       "      <td>37912</td>\n",
       "    </tr>\n",
       "    <tr>\n",
       "      <th>1</th>\n",
       "      <td>892177421306343426</td>\n",
       "      <td>6117</td>\n",
       "      <td>32564</td>\n",
       "    </tr>\n",
       "    <tr>\n",
       "      <th>2</th>\n",
       "      <td>891815181378084864</td>\n",
       "      <td>4051</td>\n",
       "      <td>24517</td>\n",
       "    </tr>\n",
       "    <tr>\n",
       "      <th>3</th>\n",
       "      <td>891689557279858688</td>\n",
       "      <td>8421</td>\n",
       "      <td>41266</td>\n",
       "    </tr>\n",
       "    <tr>\n",
       "      <th>4</th>\n",
       "      <td>891327558926688256</td>\n",
       "      <td>9121</td>\n",
       "      <td>39440</td>\n",
       "    </tr>\n",
       "  </tbody>\n",
       "</table>\n",
       "</div>"
      ],
      "text/plain": [
       "             tweet_id  retweet_count  favorite_count\n",
       "0  892420643555336193           8279           37912\n",
       "1  892177421306343426           6117           32564\n",
       "2  891815181378084864           4051           24517\n",
       "3  891689557279858688           8421           41266\n",
       "4  891327558926688256           9121           39440"
      ]
     },
     "execution_count": 138,
     "metadata": {},
     "output_type": "execute_result"
    }
   ],
   "source": [
    "df_tweets_clean.head()"
   ]
  },
  {
   "cell_type": "markdown",
   "metadata": {},
   "source": [
    "## Tidiness  - 1 ##\n",
    "\n",
    "#### Define ####\n",
    "\n",
    "Join/ merge all three dataframes for better understanding of the data\n",
    "\n",
    "#### Code ####"
   ]
  },
  {
   "cell_type": "code",
   "execution_count": 139,
   "metadata": {},
   "outputs": [],
   "source": [
    "#Joining df_clean with df_images_clean and dropping records with missing images\n",
    "df_clean = pd.merge(df_clean, df_images_clean, on = 'tweet_id', how = 'inner')\n",
    "\n",
    "#Joining df_clean with df_tweets_clean and dropping records with missing images\n",
    "df_clean = pd.merge(df_clean, df_tweets_clean, on = 'tweet_id', how = 'inner')"
   ]
  },
  {
   "cell_type": "markdown",
   "metadata": {},
   "source": [
    "#### Test ####"
   ]
  },
  {
   "cell_type": "code",
   "execution_count": 140,
   "metadata": {},
   "outputs": [
    {
     "name": "stdout",
     "output_type": "stream",
     "text": [
      "<class 'pandas.core.frame.DataFrame'>\n",
      "Int64Index: 2067 entries, 0 to 2066\n",
      "Data columns (total 30 columns):\n",
      "tweet_id                      2067 non-null int64\n",
      "in_reply_to_status_id         23 non-null float64\n",
      "in_reply_to_user_id           23 non-null float64\n",
      "timestamp                     2067 non-null object\n",
      "source                        2067 non-null object\n",
      "text                          2067 non-null object\n",
      "retweeted_status_id           75 non-null float64\n",
      "retweeted_status_user_id      75 non-null float64\n",
      "retweeted_status_timestamp    75 non-null object\n",
      "expanded_urls                 2067 non-null object\n",
      "rating_numerator              2067 non-null int64\n",
      "rating_denominator            2067 non-null int64\n",
      "name                          2067 non-null object\n",
      "doggo                         2067 non-null object\n",
      "floofer                       2067 non-null object\n",
      "pupper                        2067 non-null object\n",
      "puppo                         2067 non-null object\n",
      "jpg_url                       2067 non-null object\n",
      "img_num                       2067 non-null int64\n",
      "p1                            2067 non-null object\n",
      "p1_conf                       2067 non-null float64\n",
      "p1_dog                        2067 non-null bool\n",
      "p2                            2067 non-null object\n",
      "p2_conf                       2067 non-null float64\n",
      "p2_dog                        2067 non-null bool\n",
      "p3                            2067 non-null object\n",
      "p3_conf                       2067 non-null float64\n",
      "p3_dog                        2067 non-null bool\n",
      "retweet_count                 2067 non-null int64\n",
      "favorite_count                2067 non-null int64\n",
      "dtypes: bool(3), float64(7), int64(6), object(14)\n",
      "memory usage: 458.2+ KB\n"
     ]
    }
   ],
   "source": [
    "df_clean.info()"
   ]
  },
  {
   "cell_type": "markdown",
   "metadata": {},
   "source": [
    "## Tidiness - 2 ##\n",
    "\n",
    "#### Define ####\n",
    "\n",
    "Create a *breed* Column to remove individual columns related to breed, such as p1, p1_conf, p1_dog...\n",
    "\n",
    "#### Code ####"
   ]
  },
  {
   "cell_type": "code",
   "execution_count": 141,
   "metadata": {},
   "outputs": [],
   "source": [
    "#Creating separate breeds_df dataframe to investigate different breeds columns\n",
    "#to later keep the best match\n",
    "#The best match will be determined based on 'px_dog' == True\n",
    "\n",
    "breeds_df = df_clean\n",
    "\n",
    "breeds_df['breed'] = [i['p1'] if i['p1_dog'] == True\n",
    "                          else i['p2'] if i['p2_dog'] == True\n",
    "                          else i['p3'] if i['p3_dog'] == True\n",
    "                          else 'None' for index, i in breeds_df.iterrows() ]"
   ]
  },
  {
   "cell_type": "code",
   "execution_count": 142,
   "metadata": {
    "scrolled": true
   },
   "outputs": [
    {
     "data": {
      "text/plain": [
       "None                              323\n",
       "golden_retriever                  173\n",
       "Labrador_retriever                113\n",
       "Pembroke                           95\n",
       "Chihuahua                          93\n",
       "pug                                65\n",
       "toy_poodle                         52\n",
       "chow                               51\n",
       "Samoyed                            45\n",
       "Pomeranian                         42\n",
       "malamute                           34\n",
       "cocker_spaniel                     33\n",
       "Chesapeake_Bay_retriever           31\n",
       "French_bulldog                     30\n",
       "miniature_pinscher                 26\n",
       "Cardigan                           23\n",
       "Eskimo_dog                         22\n",
       "Staffordshire_bullterrier          22\n",
       "beagle                             21\n",
       "German_shepherd                    21\n",
       "Shih-Tzu                           20\n",
       "Siberian_husky                     20\n",
       "Lakeland_terrier                   19\n",
       "Maltese_dog                        19\n",
       "Shetland_sheepdog                  19\n",
       "Rottweiler                         19\n",
       "kuvasz                             19\n",
       "Italian_greyhound                  17\n",
       "basset                             17\n",
       "American_Staffordshire_terrier     16\n",
       "                                 ... \n",
       "Weimaraner                          4\n",
       "Tibetan_terrier                     4\n",
       "Rhodesian_ridgeback                 4\n",
       "keeshond                            4\n",
       "Scottish_deerhound                  4\n",
       "giant_schnauzer                     4\n",
       "Afghan_hound                        4\n",
       "komondor                            3\n",
       "Brabancon_griffon                   3\n",
       "curly-coated_retriever              3\n",
       "toy_terrier                         3\n",
       "cairn                               3\n",
       "Leonberg                            3\n",
       "Irish_water_spaniel                 3\n",
       "briard                              3\n",
       "Greater_Swiss_Mountain_dog          3\n",
       "Sussex_spaniel                      2\n",
       "black-and-tan_coonhound             2\n",
       "Australian_terrier                  2\n",
       "groenendael                         2\n",
       "Appenzeller                         2\n",
       "wire-haired_fox_terrier             2\n",
       "silky_terrier                       1\n",
       "Irish_wolfhound                     1\n",
       "Bouvier_des_Flandres                1\n",
       "standard_schnauzer                  1\n",
       "EntleBucher                         1\n",
       "Scotch_terrier                      1\n",
       "Japanese_spaniel                    1\n",
       "clumber                             1\n",
       "Name: breed, Length: 114, dtype: int64"
      ]
     },
     "execution_count": 142,
     "metadata": {},
     "output_type": "execute_result"
    }
   ],
   "source": [
    "#Cheking best_breed values\n",
    "breeds_df.breed.value_counts()"
   ]
  },
  {
   "cell_type": "code",
   "execution_count": 143,
   "metadata": {},
   "outputs": [],
   "source": [
    "#Updating df_clean dataframe to keep only relevant records\n",
    "df_clean= pd.concat([df_clean, breeds_df]).drop_duplicates(['tweet_id'],keep='last')"
   ]
  },
  {
   "cell_type": "code",
   "execution_count": 144,
   "metadata": {},
   "outputs": [],
   "source": [
    "#Keep records where breed is different to \"None\" \n",
    "df_clean = df_clean[df_clean.breed != 'None']"
   ]
  },
  {
   "cell_type": "code",
   "execution_count": 145,
   "metadata": {},
   "outputs": [],
   "source": [
    "#Drop individual columns related to breed\n",
    "columns = ['p1', 'p1_conf', 'p1_dog', 'p2', 'p2_conf', 'p2_dog', 'p3', 'p3_conf', 'p3_dog']\n",
    "df_clean = df_clean.drop(columns, axis = 1)"
   ]
  },
  {
   "cell_type": "markdown",
   "metadata": {},
   "source": [
    "#### Test ####"
   ]
  },
  {
   "cell_type": "code",
   "execution_count": 146,
   "metadata": {
    "scrolled": true
   },
   "outputs": [
    {
     "data": {
      "text/plain": [
       "golden_retriever                  173\n",
       "Labrador_retriever                113\n",
       "Pembroke                           95\n",
       "Chihuahua                          93\n",
       "pug                                65\n",
       "toy_poodle                         52\n",
       "chow                               51\n",
       "Samoyed                            45\n",
       "Pomeranian                         42\n",
       "malamute                           34\n",
       "cocker_spaniel                     33\n",
       "Chesapeake_Bay_retriever           31\n",
       "French_bulldog                     30\n",
       "miniature_pinscher                 26\n",
       "Cardigan                           23\n",
       "Eskimo_dog                         22\n",
       "Staffordshire_bullterrier          22\n",
       "beagle                             21\n",
       "German_shepherd                    21\n",
       "Shih-Tzu                           20\n",
       "Siberian_husky                     20\n",
       "Lakeland_terrier                   19\n",
       "Maltese_dog                        19\n",
       "Shetland_sheepdog                  19\n",
       "Rottweiler                         19\n",
       "kuvasz                             19\n",
       "Italian_greyhound                  17\n",
       "basset                             17\n",
       "American_Staffordshire_terrier     16\n",
       "West_Highland_white_terrier        16\n",
       "                                 ... \n",
       "Weimaraner                          4\n",
       "Tibetan_terrier                     4\n",
       "Rhodesian_ridgeback                 4\n",
       "keeshond                            4\n",
       "Scottish_deerhound                  4\n",
       "giant_schnauzer                     4\n",
       "Afghan_hound                        4\n",
       "komondor                            3\n",
       "Brabancon_griffon                   3\n",
       "curly-coated_retriever              3\n",
       "toy_terrier                         3\n",
       "cairn                               3\n",
       "Leonberg                            3\n",
       "Irish_water_spaniel                 3\n",
       "briard                              3\n",
       "Greater_Swiss_Mountain_dog          3\n",
       "Sussex_spaniel                      2\n",
       "black-and-tan_coonhound             2\n",
       "Australian_terrier                  2\n",
       "groenendael                         2\n",
       "Appenzeller                         2\n",
       "wire-haired_fox_terrier             2\n",
       "silky_terrier                       1\n",
       "Irish_wolfhound                     1\n",
       "Bouvier_des_Flandres                1\n",
       "standard_schnauzer                  1\n",
       "EntleBucher                         1\n",
       "Scotch_terrier                      1\n",
       "Japanese_spaniel                    1\n",
       "clumber                             1\n",
       "Name: breed, Length: 113, dtype: int64"
      ]
     },
     "execution_count": 146,
     "metadata": {},
     "output_type": "execute_result"
    }
   ],
   "source": [
    "df_clean.breed.value_counts()"
   ]
  },
  {
   "cell_type": "code",
   "execution_count": 147,
   "metadata": {},
   "outputs": [
    {
     "name": "stdout",
     "output_type": "stream",
     "text": [
      "<class 'pandas.core.frame.DataFrame'>\n",
      "Int64Index: 1744 entries, 1 to 2066\n",
      "Data columns (total 22 columns):\n",
      "tweet_id                      1744 non-null int64\n",
      "in_reply_to_status_id         20 non-null float64\n",
      "in_reply_to_user_id           20 non-null float64\n",
      "timestamp                     1744 non-null object\n",
      "source                        1744 non-null object\n",
      "text                          1744 non-null object\n",
      "retweeted_status_id           60 non-null float64\n",
      "retweeted_status_user_id      60 non-null float64\n",
      "retweeted_status_timestamp    60 non-null object\n",
      "expanded_urls                 1744 non-null object\n",
      "rating_numerator              1744 non-null int64\n",
      "rating_denominator            1744 non-null int64\n",
      "name                          1744 non-null object\n",
      "doggo                         1744 non-null object\n",
      "floofer                       1744 non-null object\n",
      "pupper                        1744 non-null object\n",
      "puppo                         1744 non-null object\n",
      "jpg_url                       1744 non-null object\n",
      "img_num                       1744 non-null int64\n",
      "retweet_count                 1744 non-null int64\n",
      "favorite_count                1744 non-null int64\n",
      "breed                         1744 non-null object\n",
      "dtypes: float64(4), int64(6), object(12)\n",
      "memory usage: 313.4+ KB\n"
     ]
    }
   ],
   "source": [
    "df_clean.info()"
   ]
  },
  {
   "cell_type": "markdown",
   "metadata": {},
   "source": [
    "## Quality - 2 ##\n",
    "\n",
    "#### Define ####\n",
    "\n",
    "Remove records from df_clean dataframe that contains retweets, thus will help to remove duplicate records\n",
    "\n",
    "#### Code ####"
   ]
  },
  {
   "cell_type": "code",
   "execution_count": 148,
   "metadata": {},
   "outputs": [
    {
     "data": {
      "text/plain": [
       "60"
      ]
     },
     "execution_count": 148,
     "metadata": {},
     "output_type": "execute_result"
    }
   ],
   "source": [
    "#Checking the number of records that contains data on retweeted_status_id\n",
    "len(df_clean[df_clean.retweeted_status_id.isnull() == False])"
   ]
  },
  {
   "cell_type": "code",
   "execution_count": 149,
   "metadata": {},
   "outputs": [],
   "source": [
    "#Removing the records that contains data on retweeted_status_id\n",
    "df_clean = df_clean[df_clean.retweeted_status_id.isnull()]"
   ]
  },
  {
   "cell_type": "markdown",
   "metadata": {},
   "source": [
    "#### Test ####"
   ]
  },
  {
   "cell_type": "code",
   "execution_count": 150,
   "metadata": {},
   "outputs": [
    {
     "data": {
      "text/plain": [
       "0"
      ]
     },
     "execution_count": 150,
     "metadata": {},
     "output_type": "execute_result"
    }
   ],
   "source": [
    "#Checking to make sure that there are no records that contains data on retweeted_status_id\n",
    "len(df_clean[df_clean.retweeted_status_id.isnull() == False])"
   ]
  },
  {
   "cell_type": "code",
   "execution_count": 151,
   "metadata": {},
   "outputs": [
    {
     "name": "stdout",
     "output_type": "stream",
     "text": [
      "<class 'pandas.core.frame.DataFrame'>\n",
      "Int64Index: 1684 entries, 1 to 2066\n",
      "Data columns (total 22 columns):\n",
      "tweet_id                      1684 non-null int64\n",
      "in_reply_to_status_id         20 non-null float64\n",
      "in_reply_to_user_id           20 non-null float64\n",
      "timestamp                     1684 non-null object\n",
      "source                        1684 non-null object\n",
      "text                          1684 non-null object\n",
      "retweeted_status_id           0 non-null float64\n",
      "retweeted_status_user_id      0 non-null float64\n",
      "retweeted_status_timestamp    0 non-null object\n",
      "expanded_urls                 1684 non-null object\n",
      "rating_numerator              1684 non-null int64\n",
      "rating_denominator            1684 non-null int64\n",
      "name                          1684 non-null object\n",
      "doggo                         1684 non-null object\n",
      "floofer                       1684 non-null object\n",
      "pupper                        1684 non-null object\n",
      "puppo                         1684 non-null object\n",
      "jpg_url                       1684 non-null object\n",
      "img_num                       1684 non-null int64\n",
      "retweet_count                 1684 non-null int64\n",
      "favorite_count                1684 non-null int64\n",
      "breed                         1684 non-null object\n",
      "dtypes: float64(4), int64(6), object(12)\n",
      "memory usage: 302.6+ KB\n"
     ]
    }
   ],
   "source": [
    "#Checking info\n",
    "df_clean.info()"
   ]
  },
  {
   "cell_type": "markdown",
   "metadata": {},
   "source": [
    "## Quality - 3 ##\n",
    "\n",
    "#### Define ####\n",
    "\n",
    "After removing retweets records the fields: *retweeted_status_id*, *retweeted_status_user_id* and *retweeted_status_timestamp* now contains no information, thus we should proceed to remove these columns, since they are no longer relevant.\n",
    "\n",
    "#### Code ####"
   ]
  },
  {
   "cell_type": "code",
   "execution_count": 152,
   "metadata": {},
   "outputs": [],
   "source": [
    "#Dropping Columns\n",
    "df_clean.drop(['retweeted_status_id', 'retweeted_status_user_id', 'retweeted_status_timestamp'], axis=1, inplace=True)"
   ]
  },
  {
   "cell_type": "markdown",
   "metadata": {},
   "source": [
    "#### Test ####"
   ]
  },
  {
   "cell_type": "code",
   "execution_count": 153,
   "metadata": {},
   "outputs": [
    {
     "name": "stdout",
     "output_type": "stream",
     "text": [
      "<class 'pandas.core.frame.DataFrame'>\n",
      "Int64Index: 1684 entries, 1 to 2066\n",
      "Data columns (total 19 columns):\n",
      "tweet_id                 1684 non-null int64\n",
      "in_reply_to_status_id    20 non-null float64\n",
      "in_reply_to_user_id      20 non-null float64\n",
      "timestamp                1684 non-null object\n",
      "source                   1684 non-null object\n",
      "text                     1684 non-null object\n",
      "expanded_urls            1684 non-null object\n",
      "rating_numerator         1684 non-null int64\n",
      "rating_denominator       1684 non-null int64\n",
      "name                     1684 non-null object\n",
      "doggo                    1684 non-null object\n",
      "floofer                  1684 non-null object\n",
      "pupper                   1684 non-null object\n",
      "puppo                    1684 non-null object\n",
      "jpg_url                  1684 non-null object\n",
      "img_num                  1684 non-null int64\n",
      "retweet_count            1684 non-null int64\n",
      "favorite_count           1684 non-null int64\n",
      "breed                    1684 non-null object\n",
      "dtypes: float64(2), int64(6), object(11)\n",
      "memory usage: 263.1+ KB\n"
     ]
    }
   ],
   "source": [
    "#Checking Info to make sure the three columns were removed\n",
    "df_clean.info()"
   ]
  },
  {
   "cell_type": "markdown",
   "metadata": {},
   "source": [
    "## Quality - 4 ##\n",
    "\n",
    "#### Define ####\n",
    "\n",
    "Clean the *source* field from df_clean dataframe to remove URLs and tags and make the *source* field is more readable \n",
    "\n",
    "#### Code ####"
   ]
  },
  {
   "cell_type": "code",
   "execution_count": 154,
   "metadata": {},
   "outputs": [
    {
     "data": {
      "text/plain": [
       "<a href=\"http://twitter.com/download/iphone\" rel=\"nofollow\">Twitter for iPhone</a>     1654\n",
       "<a href=\"http://twitter.com\" rel=\"nofollow\">Twitter Web Client</a>                       22\n",
       "<a href=\"https://about.twitter.com/products/tweetdeck\" rel=\"nofollow\">TweetDeck</a>       8\n",
       "Name: source, dtype: int64"
      ]
     },
     "execution_count": 154,
     "metadata": {},
     "output_type": "execute_result"
    }
   ],
   "source": [
    "#Checking source field from df_clean\n",
    "df_clean['source'].value_counts()"
   ]
  },
  {
   "cell_type": "code",
   "execution_count": 155,
   "metadata": {},
   "outputs": [],
   "source": [
    "#Clean Twitter for iPhone records\n",
    "df_clean['source'] = df_clean['source'].str.replace('<a href=\"http://twitter.com/download/iphone\" rel=\"nofollow\">Twitter for iPhone</a>','Twitter for iPhone' )\n",
    "\n",
    "#Clean Twitter Web Client records\n",
    "df_clean['source'] = df_clean['source'].str.replace('<a href=\"http://twitter.com\" rel=\"nofollow\">Twitter Web Client</a>', 'Twitter Web Client' )\n",
    "\n",
    "#Clean Twieet Deck records\n",
    "df_clean['source'] = df_clean['source'].str.replace('<a href=\"https://about.twitter.com/products/tweetdeck\" rel=\"nofollow\">TweetDeck</a>', 'TweetDeck')"
   ]
  },
  {
   "cell_type": "markdown",
   "metadata": {},
   "source": [
    "#### Test ####"
   ]
  },
  {
   "cell_type": "code",
   "execution_count": 156,
   "metadata": {},
   "outputs": [
    {
     "data": {
      "text/plain": [
       "Twitter for iPhone    1654\n",
       "Twitter Web Client      22\n",
       "TweetDeck                8\n",
       "Name: source, dtype: int64"
      ]
     },
     "execution_count": 156,
     "metadata": {},
     "output_type": "execute_result"
    }
   ],
   "source": [
    "#Veryfying Source fields are now clean\n",
    "df_clean['source'].value_counts()\n"
   ]
  },
  {
   "cell_type": "markdown",
   "metadata": {},
   "source": [
    "## Quality - 5 ##\n",
    "\n",
    "#### Define ####\n",
    "\n",
    "Clean *name* field which has entries that are not real names such as \"a\", \"actually\", \"the\", and do some research by looking at the *text* field to find out if there are real Dog names\n",
    "\n",
    "#### Code ####"
   ]
  },
  {
   "cell_type": "code",
   "execution_count": 157,
   "metadata": {},
   "outputs": [
    {
     "data": {
      "text/plain": [
       "80"
      ]
     },
     "execution_count": 157,
     "metadata": {},
     "output_type": "execute_result"
    }
   ],
   "source": [
    "#Number of records that contain names with lowercase which may be incorrect names\n",
    "#such as \"a\", \"actually\", \"the\"\n",
    "len(df_clean[df_clean.name.str.islower()])"
   ]
  },
  {
   "cell_type": "code",
   "execution_count": 158,
   "metadata": {},
   "outputs": [
    {
     "data": {
      "text/plain": [
       "833       This is an Iraqi Speed Kangaroo. It is not a dog. Please only send in dogs. I'm very angry with all of you ...9/10 https://t.co/5qpBTTpgUt\n",
       "2059    Here is a Siberian heavily armored polar bear mix. Strong owner. 10/10 I would do unspeakable things to pet this dog https://t.co/rdivxLiqEt\n",
       "686           This is my dog. Her name is Zoey. She knows I've been rating other dogs. She's not happy. 13/10 no bias at all https://t.co/ep1NkYoiwB\n",
       "897     We only rate dogs. Please stop sending in non-canines like this Alaskan Flop Turtle. This is very frustrating. 10/10 https://t.co/qXteK6Atxc\n",
       "810     This is one of the most reckless puppers I've ever seen. How she got a license in the first place is beyond me. 6/10 https://t.co/z5bAdtn9kd\n",
       "817     This is a mighty rare blue-tailed hammer sherk. Human almost lost a limb trying to take these. Be careful guys. 8/10 https://t.co/TGenMeXreW\n",
       "1347    This is the newly formed pupper a capella group. They're just starting out but I see tons of potential. 8/10 for all https://t.co/wbAcvFoNtn\n",
       "1999          This is a Dasani Kingfisher from Maine. His name is Daryl. Daryl doesn't like being swallowed by a panda. 8/10 https://t.co/jpaeu6LNmW\n",
       "1781    This is a Helvetica Listerine named Rufus. This time Rufus will be ready for the UPS guy. He'll never expect it 9/10 https://t.co/34OhVhMkVr\n",
       "1281                               Stop sending in lobsters. This is the final warning. We only rate dogs. Thank you... 9/10 https://t.co/B9ZXXKJYNx\n",
       "Name: text, dtype: object"
      ]
     },
     "execution_count": 158,
     "metadata": {},
     "output_type": "execute_result"
    }
   ],
   "source": [
    "#Save these specific records (with lowercase names) to a dataframe for further analysis\n",
    "lowercase_names = df_clean[df_clean.name.str.islower()]\n",
    "\n",
    "#Modifying max_colwidth to read sample text to see if there is a different way to identify dog's name\n",
    "pd.options.display.max_colwidth =180\n",
    "\n",
    "#Get sample tweets to analyze text and search for patterns that would help\n",
    "#us identify the real dog name\n",
    "lowercase_names['text'].sample(10)"
   ]
  },
  {
   "cell_type": "code",
   "execution_count": 159,
   "metadata": {},
   "outputs": [
    {
     "data": {
      "text/html": [
       "<div>\n",
       "<style>\n",
       "    .dataframe thead tr:only-child th {\n",
       "        text-align: right;\n",
       "    }\n",
       "\n",
       "    .dataframe thead th {\n",
       "        text-align: left;\n",
       "    }\n",
       "\n",
       "    .dataframe tbody tr th {\n",
       "        vertical-align: top;\n",
       "    }\n",
       "</style>\n",
       "<table border=\"1\" class=\"dataframe\">\n",
       "  <thead>\n",
       "    <tr style=\"text-align: right;\">\n",
       "      <th></th>\n",
       "      <th>tweet_id</th>\n",
       "      <th>in_reply_to_status_id</th>\n",
       "      <th>in_reply_to_user_id</th>\n",
       "      <th>timestamp</th>\n",
       "      <th>source</th>\n",
       "      <th>text</th>\n",
       "      <th>expanded_urls</th>\n",
       "      <th>rating_numerator</th>\n",
       "      <th>rating_denominator</th>\n",
       "      <th>name</th>\n",
       "      <th>doggo</th>\n",
       "      <th>floofer</th>\n",
       "      <th>pupper</th>\n",
       "      <th>puppo</th>\n",
       "      <th>jpg_url</th>\n",
       "      <th>img_num</th>\n",
       "      <th>retweet_count</th>\n",
       "      <th>favorite_count</th>\n",
       "      <th>breed</th>\n",
       "    </tr>\n",
       "  </thead>\n",
       "  <tbody>\n",
       "    <tr>\n",
       "      <th>686</th>\n",
       "      <td>765395769549590528</td>\n",
       "      <td>NaN</td>\n",
       "      <td>NaN</td>\n",
       "      <td>2016-08-16 03:52:26 +0000</td>\n",
       "      <td>Twitter for iPhone</td>\n",
       "      <td>This is my dog. Her name is Zoey. She knows I've been rating other dogs. She's not happy. 13/10 no bias at all https://t.co/ep1NkYoiwB</td>\n",
       "      <td>https://twitter.com/dog_rates/status/765395769549590528/photo/1</td>\n",
       "      <td>13</td>\n",
       "      <td>10</td>\n",
       "      <td>my</td>\n",
       "      <td>None</td>\n",
       "      <td>None</td>\n",
       "      <td>None</td>\n",
       "      <td>None</td>\n",
       "      <td>https://pbs.twimg.com/media/Cp87Y0jXYAQyjuV.jpg</td>\n",
       "      <td>1</td>\n",
       "      <td>3663</td>\n",
       "      <td>27941</td>\n",
       "      <td>Pembroke</td>\n",
       "    </tr>\n",
       "    <tr>\n",
       "      <th>1574</th>\n",
       "      <td>675706639471788032</td>\n",
       "      <td>NaN</td>\n",
       "      <td>NaN</td>\n",
       "      <td>2015-12-12 15:59:51 +0000</td>\n",
       "      <td>Twitter for iPhone</td>\n",
       "      <td>This is a Sizzlin Menorah spaniel from Brooklyn named Wylie. Lovable eyes. Chiller as hell. 10/10 and I'm out.. poof https://t.co/7E0AiJXPmI</td>\n",
       "      <td>https://twitter.com/dog_rates/status/675706639471788032/photo/1</td>\n",
       "      <td>10</td>\n",
       "      <td>10</td>\n",
       "      <td>a</td>\n",
       "      <td>None</td>\n",
       "      <td>None</td>\n",
       "      <td>None</td>\n",
       "      <td>None</td>\n",
       "      <td>https://pbs.twimg.com/media/CWCXj35VEAIFvtk.jpg</td>\n",
       "      <td>1</td>\n",
       "      <td>102</td>\n",
       "      <td>662</td>\n",
       "      <td>English_springer</td>\n",
       "    </tr>\n",
       "    <tr>\n",
       "      <th>1671</th>\n",
       "      <td>673636718965334016</td>\n",
       "      <td>NaN</td>\n",
       "      <td>NaN</td>\n",
       "      <td>2015-12-06 22:54:44 +0000</td>\n",
       "      <td>Twitter for iPhone</td>\n",
       "      <td>This is a Lofted Aphrodisiac Terrier named Kip. Big fan of bed n breakfasts. Fits perfectly. 10/10 would pet firmly https://t.co/gKlLpNzIl3</td>\n",
       "      <td>https://twitter.com/dog_rates/status/673636718965334016/photo/1</td>\n",
       "      <td>10</td>\n",
       "      <td>10</td>\n",
       "      <td>a</td>\n",
       "      <td>None</td>\n",
       "      <td>None</td>\n",
       "      <td>None</td>\n",
       "      <td>None</td>\n",
       "      <td>https://pbs.twimg.com/media/CVk9ApFWUAA-S1s.jpg</td>\n",
       "      <td>1</td>\n",
       "      <td>371</td>\n",
       "      <td>1127</td>\n",
       "      <td>pug</td>\n",
       "    </tr>\n",
       "    <tr>\n",
       "      <th>1750</th>\n",
       "      <td>671743150407421952</td>\n",
       "      <td>NaN</td>\n",
       "      <td>NaN</td>\n",
       "      <td>2015-12-01 17:30:22 +0000</td>\n",
       "      <td>Twitter for iPhone</td>\n",
       "      <td>This is a Tuscaloosa Alcatraz named Jacob (Yacōb). Loves to sit in swing. Stellar tongue. 11/10 look at his feet https://t.co/2IslQ8ZSc7</td>\n",
       "      <td>https://twitter.com/dog_rates/status/671743150407421952/photo/1</td>\n",
       "      <td>11</td>\n",
       "      <td>10</td>\n",
       "      <td>a</td>\n",
       "      <td>None</td>\n",
       "      <td>None</td>\n",
       "      <td>None</td>\n",
       "      <td>None</td>\n",
       "      <td>https://pbs.twimg.com/media/CVKC1IfWIAAsQks.jpg</td>\n",
       "      <td>1</td>\n",
       "      <td>236</td>\n",
       "      <td>747</td>\n",
       "      <td>toy_poodle</td>\n",
       "    </tr>\n",
       "    <tr>\n",
       "      <th>1781</th>\n",
       "      <td>671147085991960577</td>\n",
       "      <td>NaN</td>\n",
       "      <td>NaN</td>\n",
       "      <td>2015-11-30 02:01:49 +0000</td>\n",
       "      <td>Twitter for iPhone</td>\n",
       "      <td>This is a Helvetica Listerine named Rufus. This time Rufus will be ready for the UPS guy. He'll never expect it 9/10 https://t.co/34OhVhMkVr</td>\n",
       "      <td>https://twitter.com/dog_rates/status/671147085991960577/photo/1</td>\n",
       "      <td>9</td>\n",
       "      <td>10</td>\n",
       "      <td>a</td>\n",
       "      <td>None</td>\n",
       "      <td>None</td>\n",
       "      <td>None</td>\n",
       "      <td>None</td>\n",
       "      <td>https://pbs.twimg.com/media/CVBktzQXAAAPpUA.jpg</td>\n",
       "      <td>1</td>\n",
       "      <td>230</td>\n",
       "      <td>683</td>\n",
       "      <td>Yorkshire_terrier</td>\n",
       "    </tr>\n",
       "    <tr>\n",
       "      <th>1831</th>\n",
       "      <td>670427002554466305</td>\n",
       "      <td>NaN</td>\n",
       "      <td>NaN</td>\n",
       "      <td>2015-11-28 02:20:27 +0000</td>\n",
       "      <td>Twitter for iPhone</td>\n",
       "      <td>This is a Deciduous Trimester mix named Spork. Only 1 ear works. No seat belt. Incredibly reckless. 9/10 still cute https://t.co/CtuJoLHiDo</td>\n",
       "      <td>https://twitter.com/dog_rates/status/670427002554466305/photo/1</td>\n",
       "      <td>9</td>\n",
       "      <td>10</td>\n",
       "      <td>a</td>\n",
       "      <td>None</td>\n",
       "      <td>None</td>\n",
       "      <td>None</td>\n",
       "      <td>None</td>\n",
       "      <td>https://pbs.twimg.com/media/CU3VzVwWwAAAsst.jpg</td>\n",
       "      <td>1</td>\n",
       "      <td>167</td>\n",
       "      <td>525</td>\n",
       "      <td>toy_terrier</td>\n",
       "    </tr>\n",
       "    <tr>\n",
       "      <th>1843</th>\n",
       "      <td>670303360680108032</td>\n",
       "      <td>NaN</td>\n",
       "      <td>NaN</td>\n",
       "      <td>2015-11-27 18:09:09 +0000</td>\n",
       "      <td>Twitter for iPhone</td>\n",
       "      <td>This is a Speckled Cauliflower Yosemite named Hemry. He's terrified of intruder dog. Not one bit comfortable. 9/10 https://t.co/yV3Qgjh8iN</td>\n",
       "      <td>https://twitter.com/dog_rates/status/670303360680108032/photo/1</td>\n",
       "      <td>9</td>\n",
       "      <td>10</td>\n",
       "      <td>a</td>\n",
       "      <td>None</td>\n",
       "      <td>None</td>\n",
       "      <td>None</td>\n",
       "      <td>None</td>\n",
       "      <td>https://pbs.twimg.com/media/CU1lWFaVAAAl0HG.jpg</td>\n",
       "      <td>1</td>\n",
       "      <td>139</td>\n",
       "      <td>433</td>\n",
       "      <td>Shetland_sheepdog</td>\n",
       "    </tr>\n",
       "    <tr>\n",
       "      <th>1875</th>\n",
       "      <td>669564461267722241</td>\n",
       "      <td>NaN</td>\n",
       "      <td>NaN</td>\n",
       "      <td>2015-11-25 17:13:02 +0000</td>\n",
       "      <td>Twitter for iPhone</td>\n",
       "      <td>This is a Coriander Baton Rouge named Alfredo. Loves to cuddle with smaller well-dressed dog. 10/10 would hug lots https://t.co/eCRdwouKCl</td>\n",
       "      <td>https://twitter.com/dog_rates/status/669564461267722241/photo/1</td>\n",
       "      <td>10</td>\n",
       "      <td>10</td>\n",
       "      <td>a</td>\n",
       "      <td>None</td>\n",
       "      <td>None</td>\n",
       "      <td>None</td>\n",
       "      <td>None</td>\n",
       "      <td>https://pbs.twimg.com/media/CUrFUvDVAAA9H-F.jpg</td>\n",
       "      <td>1</td>\n",
       "      <td>127</td>\n",
       "      <td>391</td>\n",
       "      <td>toy_poodle</td>\n",
       "    </tr>\n",
       "    <tr>\n",
       "      <th>1904</th>\n",
       "      <td>668955713004314625</td>\n",
       "      <td>NaN</td>\n",
       "      <td>NaN</td>\n",
       "      <td>2015-11-24 00:54:05 +0000</td>\n",
       "      <td>Twitter for iPhone</td>\n",
       "      <td>This is a Slovakian Helter Skelter Feta named Leroi. Likes to skip on roofs. Good traction. Much balance. 10/10 wow! https://t.co/Dmy2mY2Qj5</td>\n",
       "      <td>https://twitter.com/dog_rates/status/668955713004314625/photo/1</td>\n",
       "      <td>10</td>\n",
       "      <td>10</td>\n",
       "      <td>a</td>\n",
       "      <td>None</td>\n",
       "      <td>None</td>\n",
       "      <td>None</td>\n",
       "      <td>None</td>\n",
       "      <td>https://pbs.twimg.com/media/CUibq3uVAAAup_O.jpg</td>\n",
       "      <td>1</td>\n",
       "      <td>73</td>\n",
       "      <td>283</td>\n",
       "      <td>cocker_spaniel</td>\n",
       "    </tr>\n",
       "    <tr>\n",
       "      <th>1917</th>\n",
       "      <td>668636665813057536</td>\n",
       "      <td>NaN</td>\n",
       "      <td>NaN</td>\n",
       "      <td>2015-11-23 03:46:18 +0000</td>\n",
       "      <td>Twitter for iPhone</td>\n",
       "      <td>This is an Irish Rigatoni terrier named Berta. Completely made of rope. No eyes. Quite large. Loves to dance. 10/10 https://t.co/EM5fDykrJg</td>\n",
       "      <td>https://twitter.com/dog_rates/status/668636665813057536/photo/1</td>\n",
       "      <td>10</td>\n",
       "      <td>10</td>\n",
       "      <td>an</td>\n",
       "      <td>None</td>\n",
       "      <td>None</td>\n",
       "      <td>None</td>\n",
       "      <td>None</td>\n",
       "      <td>https://pbs.twimg.com/media/CUd5gBGWwAA0IVA.jpg</td>\n",
       "      <td>1</td>\n",
       "      <td>499</td>\n",
       "      <td>1052</td>\n",
       "      <td>komondor</td>\n",
       "    </tr>\n",
       "    <tr>\n",
       "      <th>1930</th>\n",
       "      <td>668507509523615744</td>\n",
       "      <td>NaN</td>\n",
       "      <td>NaN</td>\n",
       "      <td>2015-11-22 19:13:05 +0000</td>\n",
       "      <td>Twitter for iPhone</td>\n",
       "      <td>This is a Birmingham Quagmire named Chuk. Loves to relax and watch the game while sippin on that iced mocha. 10/10 https://t.co/HvNg9JWxFt</td>\n",
       "      <td>https://twitter.com/dog_rates/status/668507509523615744/photo/1</td>\n",
       "      <td>10</td>\n",
       "      <td>10</td>\n",
       "      <td>a</td>\n",
       "      <td>None</td>\n",
       "      <td>None</td>\n",
       "      <td>None</td>\n",
       "      <td>None</td>\n",
       "      <td>https://pbs.twimg.com/media/CUcECBYWcAAzFRg.jpg</td>\n",
       "      <td>1</td>\n",
       "      <td>111</td>\n",
       "      <td>330</td>\n",
       "      <td>basenji</td>\n",
       "    </tr>\n",
       "    <tr>\n",
       "      <th>1947</th>\n",
       "      <td>668171859951755264</td>\n",
       "      <td>NaN</td>\n",
       "      <td>NaN</td>\n",
       "      <td>2015-11-21 20:59:20 +0000</td>\n",
       "      <td>Twitter for iPhone</td>\n",
       "      <td>This is a Trans Siberian Kellogg named Alfonso. Huge ass eyeballs. Actually Dobby from Harry Potter. 7/10 https://t.co/XpseHBlAAb</td>\n",
       "      <td>https://twitter.com/dog_rates/status/668171859951755264/photo/1</td>\n",
       "      <td>7</td>\n",
       "      <td>10</td>\n",
       "      <td>a</td>\n",
       "      <td>None</td>\n",
       "      <td>None</td>\n",
       "      <td>None</td>\n",
       "      <td>None</td>\n",
       "      <td>https://pbs.twimg.com/media/CUXSwy8W4AA6uet.jpg</td>\n",
       "      <td>1</td>\n",
       "      <td>199</td>\n",
       "      <td>498</td>\n",
       "      <td>Chihuahua</td>\n",
       "    </tr>\n",
       "    <tr>\n",
       "      <th>1961</th>\n",
       "      <td>667861340749471744</td>\n",
       "      <td>NaN</td>\n",
       "      <td>NaN</td>\n",
       "      <td>2015-11-21 00:25:26 +0000</td>\n",
       "      <td>Twitter for iPhone</td>\n",
       "      <td>This is a Shotokon Macadamia mix named Cheryl. Sophisticated af. Looks like a disappointed librarian. Shh (lol) 9/10 https://t.co/J4GnJ5Swba</td>\n",
       "      <td>https://twitter.com/dog_rates/status/667861340749471744/photo/1</td>\n",
       "      <td>9</td>\n",
       "      <td>10</td>\n",
       "      <td>a</td>\n",
       "      <td>None</td>\n",
       "      <td>None</td>\n",
       "      <td>None</td>\n",
       "      <td>None</td>\n",
       "      <td>https://pbs.twimg.com/media/CUS4WJ-UsAEJj10.jpg</td>\n",
       "      <td>1</td>\n",
       "      <td>78</td>\n",
       "      <td>244</td>\n",
       "      <td>malamute</td>\n",
       "    </tr>\n",
       "    <tr>\n",
       "      <th>1967</th>\n",
       "      <td>667773195014021121</td>\n",
       "      <td>NaN</td>\n",
       "      <td>NaN</td>\n",
       "      <td>2015-11-20 18:35:10 +0000</td>\n",
       "      <td>Twitter Web Client</td>\n",
       "      <td>This is a rare Hungarian Pinot named Jessiga. She is either mid-stroke or got stuck in the washing machine. 8/10 https://t.co/ZU0i0KJyqD</td>\n",
       "      <td>https://twitter.com/dog_rates/status/667773195014021121/photo/1</td>\n",
       "      <td>8</td>\n",
       "      <td>10</td>\n",
       "      <td>a</td>\n",
       "      <td>None</td>\n",
       "      <td>None</td>\n",
       "      <td>None</td>\n",
       "      <td>None</td>\n",
       "      <td>https://pbs.twimg.com/media/CURoLrOVEAAaWdR.jpg</td>\n",
       "      <td>1</td>\n",
       "      <td>57</td>\n",
       "      <td>236</td>\n",
       "      <td>West_Highland_white_terrier</td>\n",
       "    </tr>\n",
       "    <tr>\n",
       "      <th>1976</th>\n",
       "      <td>667538891197542400</td>\n",
       "      <td>NaN</td>\n",
       "      <td>NaN</td>\n",
       "      <td>2015-11-20 03:04:08 +0000</td>\n",
       "      <td>Twitter Web Client</td>\n",
       "      <td>This is a southwest Coriander named Klint. Hat looks expensive. Still on house arrest :(\\n9/10 https://t.co/IQTOMqDUIe</td>\n",
       "      <td>https://twitter.com/dog_rates/status/667538891197542400/photo/1</td>\n",
       "      <td>9</td>\n",
       "      <td>10</td>\n",
       "      <td>a</td>\n",
       "      <td>None</td>\n",
       "      <td>None</td>\n",
       "      <td>None</td>\n",
       "      <td>None</td>\n",
       "      <td>https://pbs.twimg.com/media/CUOTFZOW4AABsfW.jpg</td>\n",
       "      <td>1</td>\n",
       "      <td>65</td>\n",
       "      <td>204</td>\n",
       "      <td>Yorkshire_terrier</td>\n",
       "    </tr>\n",
       "    <tr>\n",
       "      <th>1985</th>\n",
       "      <td>667470559035432960</td>\n",
       "      <td>NaN</td>\n",
       "      <td>NaN</td>\n",
       "      <td>2015-11-19 22:32:36 +0000</td>\n",
       "      <td>Twitter Web Client</td>\n",
       "      <td>This is a northern Wahoo named Kohl. He runs this town. Chases tumbleweeds. Draws gun wicked fast. 11/10 legendary https://t.co/J4vn2rOYFk</td>\n",
       "      <td>https://twitter.com/dog_rates/status/667470559035432960/photo/1</td>\n",
       "      <td>11</td>\n",
       "      <td>10</td>\n",
       "      <td>a</td>\n",
       "      <td>None</td>\n",
       "      <td>None</td>\n",
       "      <td>None</td>\n",
       "      <td>None</td>\n",
       "      <td>https://pbs.twimg.com/media/CUNU78YWEAECmpB.jpg</td>\n",
       "      <td>1</td>\n",
       "      <td>100</td>\n",
       "      <td>258</td>\n",
       "      <td>toy_poodle</td>\n",
       "    </tr>\n",
       "    <tr>\n",
       "      <th>1999</th>\n",
       "      <td>667177989038297088</td>\n",
       "      <td>NaN</td>\n",
       "      <td>NaN</td>\n",
       "      <td>2015-11-19 03:10:02 +0000</td>\n",
       "      <td>Twitter for iPhone</td>\n",
       "      <td>This is a Dasani Kingfisher from Maine. His name is Daryl. Daryl doesn't like being swallowed by a panda. 8/10 https://t.co/jpaeu6LNmW</td>\n",
       "      <td>https://twitter.com/dog_rates/status/667177989038297088/photo/1</td>\n",
       "      <td>8</td>\n",
       "      <td>10</td>\n",
       "      <td>a</td>\n",
       "      <td>None</td>\n",
       "      <td>None</td>\n",
       "      <td>None</td>\n",
       "      <td>None</td>\n",
       "      <td>https://pbs.twimg.com/media/CUJK18UWEAEg7AR.jpg</td>\n",
       "      <td>1</td>\n",
       "      <td>55</td>\n",
       "      <td>190</td>\n",
       "      <td>vizsla</td>\n",
       "    </tr>\n",
       "    <tr>\n",
       "      <th>2022</th>\n",
       "      <td>666781792255496192</td>\n",
       "      <td>NaN</td>\n",
       "      <td>NaN</td>\n",
       "      <td>2015-11-18 00:55:42 +0000</td>\n",
       "      <td>Twitter for iPhone</td>\n",
       "      <td>This is a purebred Bacardi named Octaviath. Can shoot spaghetti out of mouth. 10/10 https://t.co/uEvsGLOFHa</td>\n",
       "      <td>https://twitter.com/dog_rates/status/666781792255496192/photo/1</td>\n",
       "      <td>10</td>\n",
       "      <td>10</td>\n",
       "      <td>a</td>\n",
       "      <td>None</td>\n",
       "      <td>None</td>\n",
       "      <td>None</td>\n",
       "      <td>None</td>\n",
       "      <td>https://pbs.twimg.com/media/CUDigRXXIAATI_H.jpg</td>\n",
       "      <td>1</td>\n",
       "      <td>192</td>\n",
       "      <td>383</td>\n",
       "      <td>Italian_greyhound</td>\n",
       "    </tr>\n",
       "    <tr>\n",
       "      <th>2025</th>\n",
       "      <td>666701168228331520</td>\n",
       "      <td>NaN</td>\n",
       "      <td>NaN</td>\n",
       "      <td>2015-11-17 19:35:19 +0000</td>\n",
       "      <td>Twitter for iPhone</td>\n",
       "      <td>This is a golden Buckminsterfullerene named Johm. Drives trucks. Lumberjack (?). Enjoys wall. 8/10 would hug softly https://t.co/uQbZJM2DQB</td>\n",
       "      <td>https://twitter.com/dog_rates/status/666701168228331520/photo/1</td>\n",
       "      <td>8</td>\n",
       "      <td>10</td>\n",
       "      <td>a</td>\n",
       "      <td>None</td>\n",
       "      <td>None</td>\n",
       "      <td>None</td>\n",
       "      <td>None</td>\n",
       "      <td>https://pbs.twimg.com/media/CUCZLHlUAAAeAig.jpg</td>\n",
       "      <td>1</td>\n",
       "      <td>219</td>\n",
       "      <td>425</td>\n",
       "      <td>Labrador_retriever</td>\n",
       "    </tr>\n",
       "  </tbody>\n",
       "</table>\n",
       "</div>"
      ],
      "text/plain": [
       "                tweet_id  in_reply_to_status_id  in_reply_to_user_id  \\\n",
       "686   765395769549590528                    NaN                  NaN   \n",
       "1574  675706639471788032                    NaN                  NaN   \n",
       "1671  673636718965334016                    NaN                  NaN   \n",
       "1750  671743150407421952                    NaN                  NaN   \n",
       "1781  671147085991960577                    NaN                  NaN   \n",
       "1831  670427002554466305                    NaN                  NaN   \n",
       "1843  670303360680108032                    NaN                  NaN   \n",
       "1875  669564461267722241                    NaN                  NaN   \n",
       "1904  668955713004314625                    NaN                  NaN   \n",
       "1917  668636665813057536                    NaN                  NaN   \n",
       "1930  668507509523615744                    NaN                  NaN   \n",
       "1947  668171859951755264                    NaN                  NaN   \n",
       "1961  667861340749471744                    NaN                  NaN   \n",
       "1967  667773195014021121                    NaN                  NaN   \n",
       "1976  667538891197542400                    NaN                  NaN   \n",
       "1985  667470559035432960                    NaN                  NaN   \n",
       "1999  667177989038297088                    NaN                  NaN   \n",
       "2022  666781792255496192                    NaN                  NaN   \n",
       "2025  666701168228331520                    NaN                  NaN   \n",
       "\n",
       "                      timestamp              source  \\\n",
       "686   2016-08-16 03:52:26 +0000  Twitter for iPhone   \n",
       "1574  2015-12-12 15:59:51 +0000  Twitter for iPhone   \n",
       "1671  2015-12-06 22:54:44 +0000  Twitter for iPhone   \n",
       "1750  2015-12-01 17:30:22 +0000  Twitter for iPhone   \n",
       "1781  2015-11-30 02:01:49 +0000  Twitter for iPhone   \n",
       "1831  2015-11-28 02:20:27 +0000  Twitter for iPhone   \n",
       "1843  2015-11-27 18:09:09 +0000  Twitter for iPhone   \n",
       "1875  2015-11-25 17:13:02 +0000  Twitter for iPhone   \n",
       "1904  2015-11-24 00:54:05 +0000  Twitter for iPhone   \n",
       "1917  2015-11-23 03:46:18 +0000  Twitter for iPhone   \n",
       "1930  2015-11-22 19:13:05 +0000  Twitter for iPhone   \n",
       "1947  2015-11-21 20:59:20 +0000  Twitter for iPhone   \n",
       "1961  2015-11-21 00:25:26 +0000  Twitter for iPhone   \n",
       "1967  2015-11-20 18:35:10 +0000  Twitter Web Client   \n",
       "1976  2015-11-20 03:04:08 +0000  Twitter Web Client   \n",
       "1985  2015-11-19 22:32:36 +0000  Twitter Web Client   \n",
       "1999  2015-11-19 03:10:02 +0000  Twitter for iPhone   \n",
       "2022  2015-11-18 00:55:42 +0000  Twitter for iPhone   \n",
       "2025  2015-11-17 19:35:19 +0000  Twitter for iPhone   \n",
       "\n",
       "                                                                                                                                              text  \\\n",
       "686         This is my dog. Her name is Zoey. She knows I've been rating other dogs. She's not happy. 13/10 no bias at all https://t.co/ep1NkYoiwB   \n",
       "1574  This is a Sizzlin Menorah spaniel from Brooklyn named Wylie. Lovable eyes. Chiller as hell. 10/10 and I'm out.. poof https://t.co/7E0AiJXPmI   \n",
       "1671   This is a Lofted Aphrodisiac Terrier named Kip. Big fan of bed n breakfasts. Fits perfectly. 10/10 would pet firmly https://t.co/gKlLpNzIl3   \n",
       "1750      This is a Tuscaloosa Alcatraz named Jacob (Yacōb). Loves to sit in swing. Stellar tongue. 11/10 look at his feet https://t.co/2IslQ8ZSc7   \n",
       "1781  This is a Helvetica Listerine named Rufus. This time Rufus will be ready for the UPS guy. He'll never expect it 9/10 https://t.co/34OhVhMkVr   \n",
       "1831   This is a Deciduous Trimester mix named Spork. Only 1 ear works. No seat belt. Incredibly reckless. 9/10 still cute https://t.co/CtuJoLHiDo   \n",
       "1843    This is a Speckled Cauliflower Yosemite named Hemry. He's terrified of intruder dog. Not one bit comfortable. 9/10 https://t.co/yV3Qgjh8iN   \n",
       "1875    This is a Coriander Baton Rouge named Alfredo. Loves to cuddle with smaller well-dressed dog. 10/10 would hug lots https://t.co/eCRdwouKCl   \n",
       "1904  This is a Slovakian Helter Skelter Feta named Leroi. Likes to skip on roofs. Good traction. Much balance. 10/10 wow! https://t.co/Dmy2mY2Qj5   \n",
       "1917   This is an Irish Rigatoni terrier named Berta. Completely made of rope. No eyes. Quite large. Loves to dance. 10/10 https://t.co/EM5fDykrJg   \n",
       "1930    This is a Birmingham Quagmire named Chuk. Loves to relax and watch the game while sippin on that iced mocha. 10/10 https://t.co/HvNg9JWxFt   \n",
       "1947             This is a Trans Siberian Kellogg named Alfonso. Huge ass eyeballs. Actually Dobby from Harry Potter. 7/10 https://t.co/XpseHBlAAb   \n",
       "1961  This is a Shotokon Macadamia mix named Cheryl. Sophisticated af. Looks like a disappointed librarian. Shh (lol) 9/10 https://t.co/J4GnJ5Swba   \n",
       "1967      This is a rare Hungarian Pinot named Jessiga. She is either mid-stroke or got stuck in the washing machine. 8/10 https://t.co/ZU0i0KJyqD   \n",
       "1976                        This is a southwest Coriander named Klint. Hat looks expensive. Still on house arrest :(\\n9/10 https://t.co/IQTOMqDUIe   \n",
       "1985    This is a northern Wahoo named Kohl. He runs this town. Chases tumbleweeds. Draws gun wicked fast. 11/10 legendary https://t.co/J4vn2rOYFk   \n",
       "1999        This is a Dasani Kingfisher from Maine. His name is Daryl. Daryl doesn't like being swallowed by a panda. 8/10 https://t.co/jpaeu6LNmW   \n",
       "2022                                   This is a purebred Bacardi named Octaviath. Can shoot spaghetti out of mouth. 10/10 https://t.co/uEvsGLOFHa   \n",
       "2025   This is a golden Buckminsterfullerene named Johm. Drives trucks. Lumberjack (?). Enjoys wall. 8/10 would hug softly https://t.co/uQbZJM2DQB   \n",
       "\n",
       "                                                        expanded_urls  \\\n",
       "686   https://twitter.com/dog_rates/status/765395769549590528/photo/1   \n",
       "1574  https://twitter.com/dog_rates/status/675706639471788032/photo/1   \n",
       "1671  https://twitter.com/dog_rates/status/673636718965334016/photo/1   \n",
       "1750  https://twitter.com/dog_rates/status/671743150407421952/photo/1   \n",
       "1781  https://twitter.com/dog_rates/status/671147085991960577/photo/1   \n",
       "1831  https://twitter.com/dog_rates/status/670427002554466305/photo/1   \n",
       "1843  https://twitter.com/dog_rates/status/670303360680108032/photo/1   \n",
       "1875  https://twitter.com/dog_rates/status/669564461267722241/photo/1   \n",
       "1904  https://twitter.com/dog_rates/status/668955713004314625/photo/1   \n",
       "1917  https://twitter.com/dog_rates/status/668636665813057536/photo/1   \n",
       "1930  https://twitter.com/dog_rates/status/668507509523615744/photo/1   \n",
       "1947  https://twitter.com/dog_rates/status/668171859951755264/photo/1   \n",
       "1961  https://twitter.com/dog_rates/status/667861340749471744/photo/1   \n",
       "1967  https://twitter.com/dog_rates/status/667773195014021121/photo/1   \n",
       "1976  https://twitter.com/dog_rates/status/667538891197542400/photo/1   \n",
       "1985  https://twitter.com/dog_rates/status/667470559035432960/photo/1   \n",
       "1999  https://twitter.com/dog_rates/status/667177989038297088/photo/1   \n",
       "2022  https://twitter.com/dog_rates/status/666781792255496192/photo/1   \n",
       "2025  https://twitter.com/dog_rates/status/666701168228331520/photo/1   \n",
       "\n",
       "      rating_numerator  rating_denominator name doggo floofer pupper puppo  \\\n",
       "686                 13                  10   my  None    None   None  None   \n",
       "1574                10                  10    a  None    None   None  None   \n",
       "1671                10                  10    a  None    None   None  None   \n",
       "1750                11                  10    a  None    None   None  None   \n",
       "1781                 9                  10    a  None    None   None  None   \n",
       "1831                 9                  10    a  None    None   None  None   \n",
       "1843                 9                  10    a  None    None   None  None   \n",
       "1875                10                  10    a  None    None   None  None   \n",
       "1904                10                  10    a  None    None   None  None   \n",
       "1917                10                  10   an  None    None   None  None   \n",
       "1930                10                  10    a  None    None   None  None   \n",
       "1947                 7                  10    a  None    None   None  None   \n",
       "1961                 9                  10    a  None    None   None  None   \n",
       "1967                 8                  10    a  None    None   None  None   \n",
       "1976                 9                  10    a  None    None   None  None   \n",
       "1985                11                  10    a  None    None   None  None   \n",
       "1999                 8                  10    a  None    None   None  None   \n",
       "2022                10                  10    a  None    None   None  None   \n",
       "2025                 8                  10    a  None    None   None  None   \n",
       "\n",
       "                                              jpg_url  img_num  retweet_count  \\\n",
       "686   https://pbs.twimg.com/media/Cp87Y0jXYAQyjuV.jpg        1           3663   \n",
       "1574  https://pbs.twimg.com/media/CWCXj35VEAIFvtk.jpg        1            102   \n",
       "1671  https://pbs.twimg.com/media/CVk9ApFWUAA-S1s.jpg        1            371   \n",
       "1750  https://pbs.twimg.com/media/CVKC1IfWIAAsQks.jpg        1            236   \n",
       "1781  https://pbs.twimg.com/media/CVBktzQXAAAPpUA.jpg        1            230   \n",
       "1831  https://pbs.twimg.com/media/CU3VzVwWwAAAsst.jpg        1            167   \n",
       "1843  https://pbs.twimg.com/media/CU1lWFaVAAAl0HG.jpg        1            139   \n",
       "1875  https://pbs.twimg.com/media/CUrFUvDVAAA9H-F.jpg        1            127   \n",
       "1904  https://pbs.twimg.com/media/CUibq3uVAAAup_O.jpg        1             73   \n",
       "1917  https://pbs.twimg.com/media/CUd5gBGWwAA0IVA.jpg        1            499   \n",
       "1930  https://pbs.twimg.com/media/CUcECBYWcAAzFRg.jpg        1            111   \n",
       "1947  https://pbs.twimg.com/media/CUXSwy8W4AA6uet.jpg        1            199   \n",
       "1961  https://pbs.twimg.com/media/CUS4WJ-UsAEJj10.jpg        1             78   \n",
       "1967  https://pbs.twimg.com/media/CURoLrOVEAAaWdR.jpg        1             57   \n",
       "1976  https://pbs.twimg.com/media/CUOTFZOW4AABsfW.jpg        1             65   \n",
       "1985  https://pbs.twimg.com/media/CUNU78YWEAECmpB.jpg        1            100   \n",
       "1999  https://pbs.twimg.com/media/CUJK18UWEAEg7AR.jpg        1             55   \n",
       "2022  https://pbs.twimg.com/media/CUDigRXXIAATI_H.jpg        1            192   \n",
       "2025  https://pbs.twimg.com/media/CUCZLHlUAAAeAig.jpg        1            219   \n",
       "\n",
       "      favorite_count                        breed  \n",
       "686            27941                     Pembroke  \n",
       "1574             662             English_springer  \n",
       "1671            1127                          pug  \n",
       "1750             747                   toy_poodle  \n",
       "1781             683            Yorkshire_terrier  \n",
       "1831             525                  toy_terrier  \n",
       "1843             433            Shetland_sheepdog  \n",
       "1875             391                   toy_poodle  \n",
       "1904             283               cocker_spaniel  \n",
       "1917            1052                     komondor  \n",
       "1930             330                      basenji  \n",
       "1947             498                    Chihuahua  \n",
       "1961             244                     malamute  \n",
       "1967             236  West_Highland_white_terrier  \n",
       "1976             204            Yorkshire_terrier  \n",
       "1985             258                   toy_poodle  \n",
       "1999             190                       vizsla  \n",
       "2022             383            Italian_greyhound  \n",
       "2025             425           Labrador_retriever  "
      ]
     },
     "execution_count": 159,
     "metadata": {},
     "output_type": "execute_result"
    }
   ],
   "source": [
    "#By looking at the sample texts, we can see that there could be tweets with real Dog names\n",
    "#and most of these tweets contained the words \"name\" or \"named\"\n",
    "\n",
    "#Retrieving the records from lowercase_names that contain words \"name\", this will also inclued \"named\"\n",
    "\n",
    "lowercase_names[lowercase_names.text.str.contains(\"name\")]"
   ]
  },
  {
   "cell_type": "code",
   "execution_count": 160,
   "metadata": {},
   "outputs": [
    {
     "data": {
      "text/plain": [
       "19"
      ]
     },
     "execution_count": 160,
     "metadata": {},
     "output_type": "execute_result"
    }
   ],
   "source": [
    "#Assign to new lowercase_names dataframe only the 22 records that contain a name:\n",
    "\n",
    "lowercase_names = lowercase_names[lowercase_names.text.str.contains(\"name\")]\n",
    "\n",
    "len(lowercase_names)"
   ]
  },
  {
   "cell_type": "code",
   "execution_count": 161,
   "metadata": {},
   "outputs": [],
   "source": [
    "#ignore warnings\n",
    "warnings.filterwarnings(\"ignore\")"
   ]
  },
  {
   "cell_type": "code",
   "execution_count": 162,
   "metadata": {},
   "outputs": [
    {
     "data": {
      "text/plain": [
       "1574        Wylie\n",
       "1671          Kip\n",
       "1750        Jacob\n",
       "1781        Rufus\n",
       "1831        Spork\n",
       "1843        Hemry\n",
       "1875      Alfredo\n",
       "1904        Leroi\n",
       "1917        Berta\n",
       "1930         Chuk\n",
       "1947      Alfonso\n",
       "1961       Cheryl\n",
       "1967      Jessiga\n",
       "1976        Klint\n",
       "1985         Kohl\n",
       "2022    Octaviath\n",
       "2025         Johm\n",
       "Name: text, dtype: object"
      ]
     },
     "execution_count": 162,
     "metadata": {},
     "output_type": "execute_result"
    }
   ],
   "source": [
    "#Extracting dog names where text contains the word \"named\"\n",
    "extract_name = lowercase_names[lowercase_names.text.str.contains(\"name\")]\n",
    "\n",
    "named =extract_name['text'].str.extract(r\"named\\s(\\w+)\")\n",
    "named =named[named.isnull()==False]\n",
    "named"
   ]
  },
  {
   "cell_type": "code",
   "execution_count": 163,
   "metadata": {},
   "outputs": [
    {
     "data": {
      "text/plain": [
       "686      Zoey\n",
       "1999    Daryl\n",
       "Name: text, dtype: object"
      ]
     },
     "execution_count": 163,
     "metadata": {},
     "output_type": "execute_result"
    }
   ],
   "source": [
    "#Extracting dog names where text contains \"name is\"\n",
    "name_is =extract_name['text'].str.extract(r\"name is\\s(\\w+)\")\n",
    "name_is = name_is[name_is.isnull()== False]\n",
    "name_is"
   ]
  },
  {
   "cell_type": "code",
   "execution_count": 164,
   "metadata": {},
   "outputs": [
    {
     "data": {
      "text/plain": [
       "1574        Wylie\n",
       "1671          Kip\n",
       "1750        Jacob\n",
       "1781        Rufus\n",
       "1831        Spork\n",
       "1843        Hemry\n",
       "1875      Alfredo\n",
       "1904        Leroi\n",
       "1917        Berta\n",
       "1930         Chuk\n",
       "1947      Alfonso\n",
       "1961       Cheryl\n",
       "1967      Jessiga\n",
       "1976        Klint\n",
       "1985         Kohl\n",
       "2022    Octaviath\n",
       "2025         Johm\n",
       "686          Zoey\n",
       "1999        Daryl\n",
       "Name: text, dtype: object"
      ]
     },
     "execution_count": 164,
     "metadata": {},
     "output_type": "execute_result"
    }
   ],
   "source": [
    "#Appending name and name is results to new name\n",
    "new_name =named.append(name_is)\n",
    "new_name"
   ]
  },
  {
   "cell_type": "code",
   "execution_count": 165,
   "metadata": {},
   "outputs": [
    {
     "data": {
      "text/html": [
       "<div>\n",
       "<style>\n",
       "    .dataframe thead tr:only-child th {\n",
       "        text-align: right;\n",
       "    }\n",
       "\n",
       "    .dataframe thead th {\n",
       "        text-align: left;\n",
       "    }\n",
       "\n",
       "    .dataframe tbody tr th {\n",
       "        vertical-align: top;\n",
       "    }\n",
       "</style>\n",
       "<table border=\"1\" class=\"dataframe\">\n",
       "  <thead>\n",
       "    <tr style=\"text-align: right;\">\n",
       "      <th></th>\n",
       "      <th>tweet_id</th>\n",
       "      <th>in_reply_to_status_id</th>\n",
       "      <th>in_reply_to_user_id</th>\n",
       "      <th>timestamp</th>\n",
       "      <th>source</th>\n",
       "      <th>text</th>\n",
       "      <th>expanded_urls</th>\n",
       "      <th>rating_numerator</th>\n",
       "      <th>rating_denominator</th>\n",
       "      <th>name</th>\n",
       "      <th>doggo</th>\n",
       "      <th>floofer</th>\n",
       "      <th>pupper</th>\n",
       "      <th>puppo</th>\n",
       "      <th>jpg_url</th>\n",
       "      <th>img_num</th>\n",
       "      <th>retweet_count</th>\n",
       "      <th>favorite_count</th>\n",
       "      <th>breed</th>\n",
       "    </tr>\n",
       "  </thead>\n",
       "  <tbody>\n",
       "    <tr>\n",
       "      <th>686</th>\n",
       "      <td>765395769549590528</td>\n",
       "      <td>NaN</td>\n",
       "      <td>NaN</td>\n",
       "      <td>2016-08-16 03:52:26 +0000</td>\n",
       "      <td>Twitter for iPhone</td>\n",
       "      <td>This is my dog. Her name is Zoey. She knows I've been rating other dogs. She's not happy. 13/10 no bias at all https://t.co/ep1NkYoiwB</td>\n",
       "      <td>https://twitter.com/dog_rates/status/765395769549590528/photo/1</td>\n",
       "      <td>13</td>\n",
       "      <td>10</td>\n",
       "      <td>Zoey</td>\n",
       "      <td>None</td>\n",
       "      <td>None</td>\n",
       "      <td>None</td>\n",
       "      <td>None</td>\n",
       "      <td>https://pbs.twimg.com/media/Cp87Y0jXYAQyjuV.jpg</td>\n",
       "      <td>1</td>\n",
       "      <td>3663</td>\n",
       "      <td>27941</td>\n",
       "      <td>Pembroke</td>\n",
       "    </tr>\n",
       "    <tr>\n",
       "      <th>1574</th>\n",
       "      <td>675706639471788032</td>\n",
       "      <td>NaN</td>\n",
       "      <td>NaN</td>\n",
       "      <td>2015-12-12 15:59:51 +0000</td>\n",
       "      <td>Twitter for iPhone</td>\n",
       "      <td>This is a Sizzlin Menorah spaniel from Brooklyn named Wylie. Lovable eyes. Chiller as hell. 10/10 and I'm out.. poof https://t.co/7E0AiJXPmI</td>\n",
       "      <td>https://twitter.com/dog_rates/status/675706639471788032/photo/1</td>\n",
       "      <td>10</td>\n",
       "      <td>10</td>\n",
       "      <td>Wylie</td>\n",
       "      <td>None</td>\n",
       "      <td>None</td>\n",
       "      <td>None</td>\n",
       "      <td>None</td>\n",
       "      <td>https://pbs.twimg.com/media/CWCXj35VEAIFvtk.jpg</td>\n",
       "      <td>1</td>\n",
       "      <td>102</td>\n",
       "      <td>662</td>\n",
       "      <td>English_springer</td>\n",
       "    </tr>\n",
       "    <tr>\n",
       "      <th>1671</th>\n",
       "      <td>673636718965334016</td>\n",
       "      <td>NaN</td>\n",
       "      <td>NaN</td>\n",
       "      <td>2015-12-06 22:54:44 +0000</td>\n",
       "      <td>Twitter for iPhone</td>\n",
       "      <td>This is a Lofted Aphrodisiac Terrier named Kip. Big fan of bed n breakfasts. Fits perfectly. 10/10 would pet firmly https://t.co/gKlLpNzIl3</td>\n",
       "      <td>https://twitter.com/dog_rates/status/673636718965334016/photo/1</td>\n",
       "      <td>10</td>\n",
       "      <td>10</td>\n",
       "      <td>Kip</td>\n",
       "      <td>None</td>\n",
       "      <td>None</td>\n",
       "      <td>None</td>\n",
       "      <td>None</td>\n",
       "      <td>https://pbs.twimg.com/media/CVk9ApFWUAA-S1s.jpg</td>\n",
       "      <td>1</td>\n",
       "      <td>371</td>\n",
       "      <td>1127</td>\n",
       "      <td>pug</td>\n",
       "    </tr>\n",
       "    <tr>\n",
       "      <th>1750</th>\n",
       "      <td>671743150407421952</td>\n",
       "      <td>NaN</td>\n",
       "      <td>NaN</td>\n",
       "      <td>2015-12-01 17:30:22 +0000</td>\n",
       "      <td>Twitter for iPhone</td>\n",
       "      <td>This is a Tuscaloosa Alcatraz named Jacob (Yacōb). Loves to sit in swing. Stellar tongue. 11/10 look at his feet https://t.co/2IslQ8ZSc7</td>\n",
       "      <td>https://twitter.com/dog_rates/status/671743150407421952/photo/1</td>\n",
       "      <td>11</td>\n",
       "      <td>10</td>\n",
       "      <td>Jacob</td>\n",
       "      <td>None</td>\n",
       "      <td>None</td>\n",
       "      <td>None</td>\n",
       "      <td>None</td>\n",
       "      <td>https://pbs.twimg.com/media/CVKC1IfWIAAsQks.jpg</td>\n",
       "      <td>1</td>\n",
       "      <td>236</td>\n",
       "      <td>747</td>\n",
       "      <td>toy_poodle</td>\n",
       "    </tr>\n",
       "    <tr>\n",
       "      <th>1781</th>\n",
       "      <td>671147085991960577</td>\n",
       "      <td>NaN</td>\n",
       "      <td>NaN</td>\n",
       "      <td>2015-11-30 02:01:49 +0000</td>\n",
       "      <td>Twitter for iPhone</td>\n",
       "      <td>This is a Helvetica Listerine named Rufus. This time Rufus will be ready for the UPS guy. He'll never expect it 9/10 https://t.co/34OhVhMkVr</td>\n",
       "      <td>https://twitter.com/dog_rates/status/671147085991960577/photo/1</td>\n",
       "      <td>9</td>\n",
       "      <td>10</td>\n",
       "      <td>Rufus</td>\n",
       "      <td>None</td>\n",
       "      <td>None</td>\n",
       "      <td>None</td>\n",
       "      <td>None</td>\n",
       "      <td>https://pbs.twimg.com/media/CVBktzQXAAAPpUA.jpg</td>\n",
       "      <td>1</td>\n",
       "      <td>230</td>\n",
       "      <td>683</td>\n",
       "      <td>Yorkshire_terrier</td>\n",
       "    </tr>\n",
       "  </tbody>\n",
       "</table>\n",
       "</div>"
      ],
      "text/plain": [
       "                tweet_id  in_reply_to_status_id  in_reply_to_user_id  \\\n",
       "686   765395769549590528                    NaN                  NaN   \n",
       "1574  675706639471788032                    NaN                  NaN   \n",
       "1671  673636718965334016                    NaN                  NaN   \n",
       "1750  671743150407421952                    NaN                  NaN   \n",
       "1781  671147085991960577                    NaN                  NaN   \n",
       "\n",
       "                      timestamp              source  \\\n",
       "686   2016-08-16 03:52:26 +0000  Twitter for iPhone   \n",
       "1574  2015-12-12 15:59:51 +0000  Twitter for iPhone   \n",
       "1671  2015-12-06 22:54:44 +0000  Twitter for iPhone   \n",
       "1750  2015-12-01 17:30:22 +0000  Twitter for iPhone   \n",
       "1781  2015-11-30 02:01:49 +0000  Twitter for iPhone   \n",
       "\n",
       "                                                                                                                                              text  \\\n",
       "686         This is my dog. Her name is Zoey. She knows I've been rating other dogs. She's not happy. 13/10 no bias at all https://t.co/ep1NkYoiwB   \n",
       "1574  This is a Sizzlin Menorah spaniel from Brooklyn named Wylie. Lovable eyes. Chiller as hell. 10/10 and I'm out.. poof https://t.co/7E0AiJXPmI   \n",
       "1671   This is a Lofted Aphrodisiac Terrier named Kip. Big fan of bed n breakfasts. Fits perfectly. 10/10 would pet firmly https://t.co/gKlLpNzIl3   \n",
       "1750      This is a Tuscaloosa Alcatraz named Jacob (Yacōb). Loves to sit in swing. Stellar tongue. 11/10 look at his feet https://t.co/2IslQ8ZSc7   \n",
       "1781  This is a Helvetica Listerine named Rufus. This time Rufus will be ready for the UPS guy. He'll never expect it 9/10 https://t.co/34OhVhMkVr   \n",
       "\n",
       "                                                        expanded_urls  \\\n",
       "686   https://twitter.com/dog_rates/status/765395769549590528/photo/1   \n",
       "1574  https://twitter.com/dog_rates/status/675706639471788032/photo/1   \n",
       "1671  https://twitter.com/dog_rates/status/673636718965334016/photo/1   \n",
       "1750  https://twitter.com/dog_rates/status/671743150407421952/photo/1   \n",
       "1781  https://twitter.com/dog_rates/status/671147085991960577/photo/1   \n",
       "\n",
       "      rating_numerator  rating_denominator   name doggo floofer pupper puppo  \\\n",
       "686                 13                  10   Zoey  None    None   None  None   \n",
       "1574                10                  10  Wylie  None    None   None  None   \n",
       "1671                10                  10    Kip  None    None   None  None   \n",
       "1750                11                  10  Jacob  None    None   None  None   \n",
       "1781                 9                  10  Rufus  None    None   None  None   \n",
       "\n",
       "                                              jpg_url  img_num  retweet_count  \\\n",
       "686   https://pbs.twimg.com/media/Cp87Y0jXYAQyjuV.jpg        1           3663   \n",
       "1574  https://pbs.twimg.com/media/CWCXj35VEAIFvtk.jpg        1            102   \n",
       "1671  https://pbs.twimg.com/media/CVk9ApFWUAA-S1s.jpg        1            371   \n",
       "1750  https://pbs.twimg.com/media/CVKC1IfWIAAsQks.jpg        1            236   \n",
       "1781  https://pbs.twimg.com/media/CVBktzQXAAAPpUA.jpg        1            230   \n",
       "\n",
       "      favorite_count              breed  \n",
       "686            27941           Pembroke  \n",
       "1574             662   English_springer  \n",
       "1671            1127                pug  \n",
       "1750             747         toy_poodle  \n",
       "1781             683  Yorkshire_terrier  "
      ]
     },
     "execution_count": 165,
     "metadata": {},
     "output_type": "execute_result"
    }
   ],
   "source": [
    "#In lowercase_names dataframe replace \"name\" values with newly found Dog names\n",
    "lowercase_names['name'] = new_name\n",
    "lowercase_names.head()"
   ]
  },
  {
   "cell_type": "code",
   "execution_count": 166,
   "metadata": {},
   "outputs": [],
   "source": [
    "#Update dog names in df_clean dataframe for tweet_ids where a new dog name was found\n",
    "df_clean= pd.concat([df_clean, lowercase_names]).drop_duplicates(['tweet_id'],keep='last')"
   ]
  },
  {
   "cell_type": "markdown",
   "metadata": {},
   "source": [
    "#### Test ####"
   ]
  },
  {
   "cell_type": "code",
   "execution_count": 167,
   "metadata": {},
   "outputs": [
    {
     "data": {
      "text/html": [
       "<div>\n",
       "<style>\n",
       "    .dataframe thead tr:only-child th {\n",
       "        text-align: right;\n",
       "    }\n",
       "\n",
       "    .dataframe thead th {\n",
       "        text-align: left;\n",
       "    }\n",
       "\n",
       "    .dataframe tbody tr th {\n",
       "        vertical-align: top;\n",
       "    }\n",
       "</style>\n",
       "<table border=\"1\" class=\"dataframe\">\n",
       "  <thead>\n",
       "    <tr style=\"text-align: right;\">\n",
       "      <th></th>\n",
       "      <th>tweet_id</th>\n",
       "      <th>in_reply_to_status_id</th>\n",
       "      <th>in_reply_to_user_id</th>\n",
       "      <th>timestamp</th>\n",
       "      <th>source</th>\n",
       "      <th>text</th>\n",
       "      <th>expanded_urls</th>\n",
       "      <th>rating_numerator</th>\n",
       "      <th>rating_denominator</th>\n",
       "      <th>name</th>\n",
       "      <th>doggo</th>\n",
       "      <th>floofer</th>\n",
       "      <th>pupper</th>\n",
       "      <th>puppo</th>\n",
       "      <th>jpg_url</th>\n",
       "      <th>img_num</th>\n",
       "      <th>retweet_count</th>\n",
       "      <th>favorite_count</th>\n",
       "      <th>breed</th>\n",
       "    </tr>\n",
       "  </thead>\n",
       "  <tbody>\n",
       "    <tr>\n",
       "      <th>686</th>\n",
       "      <td>765395769549590528</td>\n",
       "      <td>NaN</td>\n",
       "      <td>NaN</td>\n",
       "      <td>2016-08-16 03:52:26 +0000</td>\n",
       "      <td>Twitter for iPhone</td>\n",
       "      <td>This is my dog. Her name is Zoey. She knows I've been rating other dogs. She's not happy. 13/10 no bias at all https://t.co/ep1NkYoiwB</td>\n",
       "      <td>https://twitter.com/dog_rates/status/765395769549590528/photo/1</td>\n",
       "      <td>13</td>\n",
       "      <td>10</td>\n",
       "      <td>Zoey</td>\n",
       "      <td>None</td>\n",
       "      <td>None</td>\n",
       "      <td>None</td>\n",
       "      <td>None</td>\n",
       "      <td>https://pbs.twimg.com/media/Cp87Y0jXYAQyjuV.jpg</td>\n",
       "      <td>1</td>\n",
       "      <td>3663</td>\n",
       "      <td>27941</td>\n",
       "      <td>Pembroke</td>\n",
       "    </tr>\n",
       "  </tbody>\n",
       "</table>\n",
       "</div>"
      ],
      "text/plain": [
       "               tweet_id  in_reply_to_status_id  in_reply_to_user_id  \\\n",
       "686  765395769549590528                    NaN                  NaN   \n",
       "\n",
       "                     timestamp              source  \\\n",
       "686  2016-08-16 03:52:26 +0000  Twitter for iPhone   \n",
       "\n",
       "                                                                                                                                       text  \\\n",
       "686  This is my dog. Her name is Zoey. She knows I've been rating other dogs. She's not happy. 13/10 no bias at all https://t.co/ep1NkYoiwB   \n",
       "\n",
       "                                                       expanded_urls  \\\n",
       "686  https://twitter.com/dog_rates/status/765395769549590528/photo/1   \n",
       "\n",
       "     rating_numerator  rating_denominator  name doggo floofer pupper puppo  \\\n",
       "686                13                  10  Zoey  None    None   None  None   \n",
       "\n",
       "                                             jpg_url  img_num  retweet_count  \\\n",
       "686  https://pbs.twimg.com/media/Cp87Y0jXYAQyjuV.jpg        1           3663   \n",
       "\n",
       "     favorite_count     breed  \n",
       "686           27941  Pembroke  "
      ]
     },
     "execution_count": 167,
     "metadata": {},
     "output_type": "execute_result"
    }
   ],
   "source": [
    "#Checking individual records where we know a new dog name should be assigned to make sure name was replaced\n",
    "df_clean[df_clean.tweet_id == 765395769549590528 ]"
   ]
  },
  {
   "cell_type": "code",
   "execution_count": 168,
   "metadata": {},
   "outputs": [
    {
     "data": {
      "text/plain": [
       "61"
      ]
     },
     "execution_count": 168,
     "metadata": {},
     "output_type": "execute_result"
    }
   ],
   "source": [
    "#Checking again for lowercase names the count has been reduced from 98 to 76\n",
    "len(df_clean[df_clean.name.str.islower()])"
   ]
  },
  {
   "cell_type": "code",
   "execution_count": 169,
   "metadata": {},
   "outputs": [
    {
     "name": "stdout",
     "output_type": "stream",
     "text": [
      "<class 'pandas.core.frame.DataFrame'>\n",
      "Int64Index: 1684 entries, 1 to 2025\n",
      "Data columns (total 19 columns):\n",
      "tweet_id                 1684 non-null int64\n",
      "in_reply_to_status_id    20 non-null float64\n",
      "in_reply_to_user_id      20 non-null float64\n",
      "timestamp                1684 non-null object\n",
      "source                   1684 non-null object\n",
      "text                     1684 non-null object\n",
      "expanded_urls            1684 non-null object\n",
      "rating_numerator         1684 non-null int64\n",
      "rating_denominator       1684 non-null int64\n",
      "name                     1684 non-null object\n",
      "doggo                    1684 non-null object\n",
      "floofer                  1684 non-null object\n",
      "pupper                   1684 non-null object\n",
      "puppo                    1684 non-null object\n",
      "jpg_url                  1684 non-null object\n",
      "img_num                  1684 non-null int64\n",
      "retweet_count            1684 non-null int64\n",
      "favorite_count           1684 non-null int64\n",
      "breed                    1684 non-null object\n",
      "dtypes: float64(2), int64(6), object(11)\n",
      "memory usage: 263.1+ KB\n"
     ]
    }
   ],
   "source": [
    "df_clean.info()"
   ]
  },
  {
   "cell_type": "code",
   "execution_count": 170,
   "metadata": {},
   "outputs": [
    {
     "data": {
      "text/plain": [
       "None          419\n",
       "a              29\n",
       "Cooper         10\n",
       "Lucy           10\n",
       "Charlie         9\n",
       "Tucker          9\n",
       "Oliver          9\n",
       "Penny           8\n",
       "Daisy           7\n",
       "the             7\n",
       "Sadie           7\n",
       "Winston         7\n",
       "Toby            6\n",
       "Lola            6\n",
       "Koda            6\n",
       "Jax             6\n",
       "Oscar           5\n",
       "Rusty           5\n",
       "Leo             5\n",
       "Stanley         5\n",
       "Bella           5\n",
       "Bo              5\n",
       "Larry           4\n",
       "Dave            4\n",
       "Cassie          4\n",
       "Gus             4\n",
       "Duke            4\n",
       "Dexter          4\n",
       "Bentley         4\n",
       "Maggie          4\n",
       "             ... \n",
       "Mason           1\n",
       "Goliath         1\n",
       "Yoda            1\n",
       "Ruffles         1\n",
       "Ace             1\n",
       "Jeffri          1\n",
       "Cali            1\n",
       "Terrance        1\n",
       "Reagan          1\n",
       "Jazz            1\n",
       "Rumble          1\n",
       "Quinn           1\n",
       "Kevon           1\n",
       "incredibly      1\n",
       "Mingus          1\n",
       "Dawn            1\n",
       "Florence        1\n",
       "Johm            1\n",
       "Ginger          1\n",
       "Timison         1\n",
       "Stella          1\n",
       "Ben             1\n",
       "Bobb            1\n",
       "Lassie          1\n",
       "Berta           1\n",
       "Jamesy          1\n",
       "Odin            1\n",
       "Penelope        1\n",
       "Kramer          1\n",
       "Chuk            1\n",
       "Name: name, Length: 867, dtype: int64"
      ]
     },
     "execution_count": 170,
     "metadata": {},
     "output_type": "execute_result"
    }
   ],
   "source": [
    "#Checking names\n",
    "df_clean['name'].value_counts()"
   ]
  },
  {
   "cell_type": "markdown",
   "metadata": {},
   "source": [
    "## Quality - 6 ##\n",
    "\n",
    "#### Define ####\n",
    "\n",
    "Identify and remove tweets that may no be related to Dogs.\n",
    "\n",
    "While analyzing the text to find valid dog names, I found many tweets that were not related to dogs, but instead related to other animals and other things.\n",
    "\n",
    "These tweets contained phrases such as: \n",
    "\"don't rate\",\n",
    "\"stop sending\",\n",
    "\"only send dogs\",\n",
    "\"only rate dos\",\n",
    "\"whithout dog\"\n",
    "\n",
    "\n",
    "#### Code ####"
   ]
  },
  {
   "cell_type": "code",
   "execution_count": 171,
   "metadata": {},
   "outputs": [
    {
     "data": {
      "text/plain": [
       "1000                             This is a taco. We only rate dogs. Please only send in dogs. Dogs are what we rate. Not tacos. Thank you... 10/10 https://t.co/cxl6xGY8B9\n",
       "583                                             Who keeps sending in pictures without dogs in them? This needs to stop. 5/10 for the mediocre road https://t.co/ELqelxWMrC\n",
       "1131                               Really guys? Again? I know this is a rare Albanian Bingo Seal, but we only rate dogs. Only send in dogs... 9/10 https://t.co/6JYLpUmBrC\n",
       "56               Please don't send in photos without dogs in them. We're not @porch_rates. Insubordinate and churlish. Pretty good porch tho 11/10 https://t.co/HauE8M3Bu4\n",
       "153     Guys, we only rate dogs. This is quite clearly a bulbasaur. Please only send dogs. Thank you... 12/10 human used pet, it's super effective https://t.co/Xc7uj1C64x\n",
       "Name: text, dtype: object"
      ]
     },
     "execution_count": 171,
     "metadata": {},
     "output_type": "execute_result"
    }
   ],
   "source": [
    "#Save these specific records to their own dataframes\n",
    "no_dog = df_clean[df_clean.text.str.contains(\"don't rate|stop sending|only send dogs|only rate|without a dog| without dog\")]\n",
    "\n",
    "#sample text to make sure these are irrelevant tweets\n",
    "no_dog['text'].sample(5)\n"
   ]
  },
  {
   "cell_type": "code",
   "execution_count": 172,
   "metadata": {},
   "outputs": [
    {
     "data": {
      "text/plain": [
       "68"
      ]
     },
     "execution_count": 172,
     "metadata": {},
     "output_type": "execute_result"
    }
   ],
   "source": [
    "#Assign name: \"no_dog\" to records no relevant to dogs\n",
    "no_dog['name'] = 'no_dog'\n",
    "\n",
    "#Number of records\n",
    "len(no_dog)"
   ]
  },
  {
   "cell_type": "code",
   "execution_count": 173,
   "metadata": {},
   "outputs": [],
   "source": [
    "#Update dog names in df_clean dataframe for tweet_ids no relevant to dogs\n",
    "df_clean= pd.concat([df_clean, no_dog]).drop_duplicates(['tweet_id'],keep='last')"
   ]
  },
  {
   "cell_type": "code",
   "execution_count": 174,
   "metadata": {},
   "outputs": [
    {
     "data": {
      "text/plain": [
       "None        371\n",
       "no_dog       68\n",
       "a            22\n",
       "Lucy         10\n",
       "Cooper       10\n",
       "Oliver        9\n",
       "Tucker        9\n",
       "Charlie       9\n",
       "Penny         8\n",
       "Winston       7\n",
       "Sadie         7\n",
       "Daisy         7\n",
       "the           6\n",
       "Jax           6\n",
       "Toby          6\n",
       "Koda          6\n",
       "Lola          6\n",
       "Stanley       5\n",
       "Rusty         5\n",
       "Bella         5\n",
       "Bo            5\n",
       "Oscar         5\n",
       "Leo           5\n",
       "Oakley        4\n",
       "Maggie        4\n",
       "Brody         4\n",
       "Bentley       4\n",
       "Dexter        4\n",
       "Larry         4\n",
       "Chester       4\n",
       "           ... \n",
       "Mason         1\n",
       "Goliath       1\n",
       "Yoda          1\n",
       "Ruffles       1\n",
       "Ace           1\n",
       "Jeffri        1\n",
       "Buckley       1\n",
       "Jazz          1\n",
       "Rolf          1\n",
       "Kramer        1\n",
       "Callie        1\n",
       "Reagan        1\n",
       "Rumble        1\n",
       "Quinn         1\n",
       "Kevon         1\n",
       "Mingus        1\n",
       "Dawn          1\n",
       "Florence      1\n",
       "Johm          1\n",
       "Ginger        1\n",
       "Timison       1\n",
       "Stella        1\n",
       "Ben           1\n",
       "Bobb          1\n",
       "Lassie        1\n",
       "Berta         1\n",
       "Jamesy        1\n",
       "Odin          1\n",
       "Penelope      1\n",
       "Chuk          1\n",
       "Name: name, Length: 860, dtype: int64"
      ]
     },
     "execution_count": 174,
     "metadata": {},
     "output_type": "execute_result"
    }
   ],
   "source": [
    "#Check name value counts to make sure names were updated to \"no_dog\", \n",
    "#to later remove these records\n",
    "df_clean['name'].value_counts()"
   ]
  },
  {
   "cell_type": "code",
   "execution_count": 175,
   "metadata": {},
   "outputs": [],
   "source": [
    "#Keep records where name is different to \"no_dog\" \n",
    "df_clean = df_clean[df_clean.name != 'no_dog']"
   ]
  },
  {
   "cell_type": "markdown",
   "metadata": {},
   "source": [
    "#### Test ####"
   ]
  },
  {
   "cell_type": "code",
   "execution_count": 176,
   "metadata": {},
   "outputs": [
    {
     "data": {
      "text/plain": [
       "None        371\n",
       "a            22\n",
       "Cooper       10\n",
       "Lucy         10\n",
       "Charlie       9\n",
       "Oliver        9\n",
       "Tucker        9\n",
       "Penny         8\n",
       "Sadie         7\n",
       "Daisy         7\n",
       "Winston       7\n",
       "Jax           6\n",
       "the           6\n",
       "Toby          6\n",
       "Koda          6\n",
       "Lola          6\n",
       "Leo           5\n",
       "Bella         5\n",
       "Oscar         5\n",
       "Bo            5\n",
       "Rusty         5\n",
       "Stanley       5\n",
       "George        4\n",
       "Brody         4\n",
       "Dexter        4\n",
       "Larry         4\n",
       "Maggie        4\n",
       "Reggie        4\n",
       "Bentley       4\n",
       "Cassie        4\n",
       "           ... \n",
       "Mason         1\n",
       "Goliath       1\n",
       "Yoda          1\n",
       "Ruffles       1\n",
       "Ace           1\n",
       "Jeffri        1\n",
       "Buckley       1\n",
       "Jazz          1\n",
       "Rolf          1\n",
       "Kramer        1\n",
       "Callie        1\n",
       "Reagan        1\n",
       "Rumble        1\n",
       "Quinn         1\n",
       "Kevon         1\n",
       "Mingus        1\n",
       "Dawn          1\n",
       "Florence      1\n",
       "Johm          1\n",
       "Ginger        1\n",
       "Timison       1\n",
       "Stella        1\n",
       "Ben           1\n",
       "Bobb          1\n",
       "Lassie        1\n",
       "Berta         1\n",
       "Jamesy        1\n",
       "Odin          1\n",
       "Penelope      1\n",
       "Chuk          1\n",
       "Name: name, Length: 859, dtype: int64"
      ]
     },
     "execution_count": 176,
     "metadata": {},
     "output_type": "execute_result"
    }
   ],
   "source": [
    "#Veryfing there are no longer \"no_dog\" names\n",
    "df_clean['name'].value_counts()"
   ]
  },
  {
   "cell_type": "code",
   "execution_count": 177,
   "metadata": {},
   "outputs": [
    {
     "name": "stdout",
     "output_type": "stream",
     "text": [
      "<class 'pandas.core.frame.DataFrame'>\n",
      "Int64Index: 1616 entries, 1 to 2025\n",
      "Data columns (total 19 columns):\n",
      "tweet_id                 1616 non-null int64\n",
      "in_reply_to_status_id    19 non-null float64\n",
      "in_reply_to_user_id      19 non-null float64\n",
      "timestamp                1616 non-null object\n",
      "source                   1616 non-null object\n",
      "text                     1616 non-null object\n",
      "expanded_urls            1616 non-null object\n",
      "rating_numerator         1616 non-null int64\n",
      "rating_denominator       1616 non-null int64\n",
      "name                     1616 non-null object\n",
      "doggo                    1616 non-null object\n",
      "floofer                  1616 non-null object\n",
      "pupper                   1616 non-null object\n",
      "puppo                    1616 non-null object\n",
      "jpg_url                  1616 non-null object\n",
      "img_num                  1616 non-null int64\n",
      "retweet_count            1616 non-null int64\n",
      "favorite_count           1616 non-null int64\n",
      "breed                    1616 non-null object\n",
      "dtypes: float64(2), int64(6), object(11)\n",
      "memory usage: 252.5+ KB\n"
     ]
    }
   ],
   "source": [
    "df_clean.info()"
   ]
  },
  {
   "cell_type": "markdown",
   "metadata": {},
   "source": [
    "## Quality - 7 ##\n",
    "\n",
    "#### Define ####\n",
    "\n",
    "Further analysis on tweets with name \"a\" since this is the second highest name in dataset, and doesn't seen to be a valid name\n",
    "\n",
    "#### Code ####\n"
   ]
  },
  {
   "cell_type": "code",
   "execution_count": 178,
   "metadata": {},
   "outputs": [
    {
     "data": {
      "text/html": [
       "<div>\n",
       "<style>\n",
       "    .dataframe thead tr:only-child th {\n",
       "        text-align: right;\n",
       "    }\n",
       "\n",
       "    .dataframe thead th {\n",
       "        text-align: left;\n",
       "    }\n",
       "\n",
       "    .dataframe tbody tr th {\n",
       "        vertical-align: top;\n",
       "    }\n",
       "</style>\n",
       "<table border=\"1\" class=\"dataframe\">\n",
       "  <thead>\n",
       "    <tr style=\"text-align: right;\">\n",
       "      <th></th>\n",
       "      <th>tweet_id</th>\n",
       "      <th>in_reply_to_status_id</th>\n",
       "      <th>in_reply_to_user_id</th>\n",
       "      <th>timestamp</th>\n",
       "      <th>source</th>\n",
       "      <th>text</th>\n",
       "      <th>expanded_urls</th>\n",
       "      <th>rating_numerator</th>\n",
       "      <th>rating_denominator</th>\n",
       "      <th>name</th>\n",
       "      <th>doggo</th>\n",
       "      <th>floofer</th>\n",
       "      <th>pupper</th>\n",
       "      <th>puppo</th>\n",
       "      <th>jpg_url</th>\n",
       "      <th>img_num</th>\n",
       "      <th>retweet_count</th>\n",
       "      <th>favorite_count</th>\n",
       "      <th>breed</th>\n",
       "    </tr>\n",
       "  </thead>\n",
       "  <tbody>\n",
       "    <tr>\n",
       "      <th>50</th>\n",
       "      <td>881536004380872706</td>\n",
       "      <td>NaN</td>\n",
       "      <td>NaN</td>\n",
       "      <td>2017-07-02 15:32:16 +0000</td>\n",
       "      <td>Twitter for iPhone</td>\n",
       "      <td>Here is a pupper approaching maximum borkdrive. Zooming at never before seen speeds. 14/10 paw-inspiring af \\n(IG: puffie_the_chow) https://t.co/ghXBIIeQZF</td>\n",
       "      <td>https://twitter.com/dog_rates/status/881536004380872706/video/1</td>\n",
       "      <td>14</td>\n",
       "      <td>10</td>\n",
       "      <td>a</td>\n",
       "      <td>None</td>\n",
       "      <td>None</td>\n",
       "      <td>pupper</td>\n",
       "      <td>None</td>\n",
       "      <td>https://pbs.twimg.com/ext_tw_video_thumb/881535971568889856/pu/img/9bawiZ--8FKywTkz.jpg</td>\n",
       "      <td>1</td>\n",
       "      <td>15570</td>\n",
       "      <td>48394</td>\n",
       "      <td>Samoyed</td>\n",
       "    </tr>\n",
       "    <tr>\n",
       "      <th>817</th>\n",
       "      <td>747885874273214464</td>\n",
       "      <td>NaN</td>\n",
       "      <td>NaN</td>\n",
       "      <td>2016-06-28 20:14:22 +0000</td>\n",
       "      <td>Twitter for iPhone</td>\n",
       "      <td>This is a mighty rare blue-tailed hammer sherk. Human almost lost a limb trying to take these. Be careful guys. 8/10 https://t.co/TGenMeXreW</td>\n",
       "      <td>https://twitter.com/dog_rates/status/747885874273214464/photo/1,https://twitter.com/dog_rates/status/747885874273214464/photo/1</td>\n",
       "      <td>8</td>\n",
       "      <td>10</td>\n",
       "      <td>a</td>\n",
       "      <td>None</td>\n",
       "      <td>None</td>\n",
       "      <td>None</td>\n",
       "      <td>None</td>\n",
       "      <td>https://pbs.twimg.com/media/CmEGMSvUYAAl3ZM.jpg</td>\n",
       "      <td>1</td>\n",
       "      <td>1050</td>\n",
       "      <td>3084</td>\n",
       "      <td>kuvasz</td>\n",
       "    </tr>\n",
       "    <tr>\n",
       "      <th>819</th>\n",
       "      <td>747816857231626240</td>\n",
       "      <td>NaN</td>\n",
       "      <td>NaN</td>\n",
       "      <td>2016-06-28 15:40:07 +0000</td>\n",
       "      <td>Twitter for iPhone</td>\n",
       "      <td>Viewer discretion is advised. This is a terrible attack in progress. Not even in water (tragic af). 4/10 bad sherk https://t.co/L3U0j14N5R</td>\n",
       "      <td>https://twitter.com/dog_rates/status/747816857231626240/photo/1</td>\n",
       "      <td>4</td>\n",
       "      <td>10</td>\n",
       "      <td>a</td>\n",
       "      <td>None</td>\n",
       "      <td>None</td>\n",
       "      <td>None</td>\n",
       "      <td>None</td>\n",
       "      <td>https://pbs.twimg.com/media/CmDHdCoWkAACTB4.jpg</td>\n",
       "      <td>1</td>\n",
       "      <td>1240</td>\n",
       "      <td>5074</td>\n",
       "      <td>Pembroke</td>\n",
       "    </tr>\n",
       "    <tr>\n",
       "      <th>833</th>\n",
       "      <td>746369468511756288</td>\n",
       "      <td>NaN</td>\n",
       "      <td>NaN</td>\n",
       "      <td>2016-06-24 15:48:42 +0000</td>\n",
       "      <td>Twitter for iPhone</td>\n",
       "      <td>This is an Iraqi Speed Kangaroo. It is not a dog. Please only send in dogs. I'm very angry with all of you ...9/10 https://t.co/5qpBTTpgUt</td>\n",
       "      <td>https://twitter.com/dog_rates/status/746369468511756288/photo/1</td>\n",
       "      <td>9</td>\n",
       "      <td>10</td>\n",
       "      <td>an</td>\n",
       "      <td>None</td>\n",
       "      <td>None</td>\n",
       "      <td>None</td>\n",
       "      <td>None</td>\n",
       "      <td>https://pbs.twimg.com/media/ClujESVXEAA4uH8.jpg</td>\n",
       "      <td>1</td>\n",
       "      <td>1751</td>\n",
       "      <td>6452</td>\n",
       "      <td>German_shepherd</td>\n",
       "    </tr>\n",
       "    <tr>\n",
       "      <th>854</th>\n",
       "      <td>743222593470234624</td>\n",
       "      <td>NaN</td>\n",
       "      <td>NaN</td>\n",
       "      <td>2016-06-15 23:24:09 +0000</td>\n",
       "      <td>Twitter for iPhone</td>\n",
       "      <td>This is a very rare Great Alaskan Bush Pupper. Hard to stumble upon without spooking. 12/10 would pet passionately https://t.co/xOBKCdpzaa</td>\n",
       "      <td>https://twitter.com/dog_rates/status/743222593470234624/photo/1</td>\n",
       "      <td>12</td>\n",
       "      <td>10</td>\n",
       "      <td>a</td>\n",
       "      <td>None</td>\n",
       "      <td>None</td>\n",
       "      <td>pupper</td>\n",
       "      <td>None</td>\n",
       "      <td>https://pbs.twimg.com/media/ClB09z0WYAAA1jz.jpg</td>\n",
       "      <td>1</td>\n",
       "      <td>2022</td>\n",
       "      <td>6468</td>\n",
       "      <td>kuvasz</td>\n",
       "    </tr>\n",
       "    <tr>\n",
       "      <th>937</th>\n",
       "      <td>728035342121635841</td>\n",
       "      <td>NaN</td>\n",
       "      <td>NaN</td>\n",
       "      <td>2016-05-05 01:35:26 +0000</td>\n",
       "      <td>Twitter for iPhone</td>\n",
       "      <td>This is all I want in my life. 12/10 for super sleepy pupper https://t.co/4RlLA5ObMh</td>\n",
       "      <td>https://twitter.com/dog_rates/status/728035342121635841/photo/1,https://twitter.com/dog_rates/status/728035342121635841/photo/1</td>\n",
       "      <td>12</td>\n",
       "      <td>10</td>\n",
       "      <td>all</td>\n",
       "      <td>None</td>\n",
       "      <td>None</td>\n",
       "      <td>pupper</td>\n",
       "      <td>None</td>\n",
       "      <td>https://pbs.twimg.com/media/ChqARqmWsAEI6fB.jpg</td>\n",
       "      <td>1</td>\n",
       "      <td>1762</td>\n",
       "      <td>4727</td>\n",
       "      <td>Pomeranian</td>\n",
       "    </tr>\n",
       "    <tr>\n",
       "      <th>1117</th>\n",
       "      <td>704859558691414016</td>\n",
       "      <td>NaN</td>\n",
       "      <td>NaN</td>\n",
       "      <td>2016-03-02 02:43:09 +0000</td>\n",
       "      <td>Twitter for iPhone</td>\n",
       "      <td>Here is a heartbreaking scene of an incredible pupper being laid to rest. 10/10 RIP pupper https://t.co/81mvJ0rGRu</td>\n",
       "      <td>https://twitter.com/dog_rates/status/704859558691414016/photo/1</td>\n",
       "      <td>10</td>\n",
       "      <td>10</td>\n",
       "      <td>a</td>\n",
       "      <td>None</td>\n",
       "      <td>None</td>\n",
       "      <td>pupper</td>\n",
       "      <td>None</td>\n",
       "      <td>https://pbs.twimg.com/media/CcgqBNVW8AE76lv.jpg</td>\n",
       "      <td>1</td>\n",
       "      <td>578</td>\n",
       "      <td>2346</td>\n",
       "      <td>pug</td>\n",
       "    </tr>\n",
       "    <tr>\n",
       "      <th>1126</th>\n",
       "      <td>704054845121142784</td>\n",
       "      <td>NaN</td>\n",
       "      <td>NaN</td>\n",
       "      <td>2016-02-28 21:25:30 +0000</td>\n",
       "      <td>Twitter for iPhone</td>\n",
       "      <td>Here is a whole flock of puppers.  60/50 I'll take the lot https://t.co/9dpcw6MdWa</td>\n",
       "      <td>https://twitter.com/dog_rates/status/704054845121142784/photo/1</td>\n",
       "      <td>60</td>\n",
       "      <td>50</td>\n",
       "      <td>a</td>\n",
       "      <td>None</td>\n",
       "      <td>None</td>\n",
       "      <td>None</td>\n",
       "      <td>None</td>\n",
       "      <td>https://pbs.twimg.com/media/CcVOJEcXEAM0FHL.jpg</td>\n",
       "      <td>1</td>\n",
       "      <td>964</td>\n",
       "      <td>3040</td>\n",
       "      <td>Great_Pyrenees</td>\n",
       "    </tr>\n",
       "    <tr>\n",
       "      <th>1136</th>\n",
       "      <td>703079050210877440</td>\n",
       "      <td>NaN</td>\n",
       "      <td>NaN</td>\n",
       "      <td>2016-02-26 04:48:02 +0000</td>\n",
       "      <td>Twitter for iPhone</td>\n",
       "      <td>This is a Butternut Cumberfloof. It's not windy they just look like that. 11/10 back at it again with the red socks https://t.co/hMjzhdUHaW</td>\n",
       "      <td>https://twitter.com/dog_rates/status/703079050210877440/photo/1,https://twitter.com/dog_rates/status/703079050210877440/photo/1</td>\n",
       "      <td>11</td>\n",
       "      <td>10</td>\n",
       "      <td>a</td>\n",
       "      <td>None</td>\n",
       "      <td>None</td>\n",
       "      <td>None</td>\n",
       "      <td>None</td>\n",
       "      <td>https://pbs.twimg.com/media/CcHWqQCW8AEb0ZH.jpg</td>\n",
       "      <td>2</td>\n",
       "      <td>3286</td>\n",
       "      <td>7723</td>\n",
       "      <td>Pembroke</td>\n",
       "    </tr>\n",
       "    <tr>\n",
       "      <th>1142</th>\n",
       "      <td>702539513671897089</td>\n",
       "      <td>NaN</td>\n",
       "      <td>NaN</td>\n",
       "      <td>2016-02-24 17:04:07 +0000</td>\n",
       "      <td>Twitter for iPhone</td>\n",
       "      <td>This is a Wild Tuscan Poofwiggle. Careful not to startle. Rare tongue slip. One eye magical. 12/10 would def pet https://t.co/4EnShAQjv6</td>\n",
       "      <td>https://twitter.com/dog_rates/status/702539513671897089/photo/1,https://twitter.com/dog_rates/status/702539513671897089/photo/1,https://twitter.com/dog_rates/status/70253951367...</td>\n",
       "      <td>12</td>\n",
       "      <td>10</td>\n",
       "      <td>a</td>\n",
       "      <td>None</td>\n",
       "      <td>None</td>\n",
       "      <td>None</td>\n",
       "      <td>None</td>\n",
       "      <td>https://pbs.twimg.com/media/Cb_r8qTUsAASgdF.jpg</td>\n",
       "      <td>3</td>\n",
       "      <td>1011</td>\n",
       "      <td>2995</td>\n",
       "      <td>Pomeranian</td>\n",
       "    </tr>\n",
       "    <tr>\n",
       "      <th>1154</th>\n",
       "      <td>700864154249383937</td>\n",
       "      <td>NaN</td>\n",
       "      <td>NaN</td>\n",
       "      <td>2016-02-20 02:06:50 +0000</td>\n",
       "      <td>Twitter for iPhone</td>\n",
       "      <td>\"Pupper is a present to world. Here is a bow for pupper.\" 12/10 precious as hell https://t.co/ItSsE92gCW</td>\n",
       "      <td>https://twitter.com/dog_rates/status/700864154249383937/photo/1</td>\n",
       "      <td>12</td>\n",
       "      <td>10</td>\n",
       "      <td>a</td>\n",
       "      <td>None</td>\n",
       "      <td>None</td>\n",
       "      <td>pupper</td>\n",
       "      <td>None</td>\n",
       "      <td>https://pbs.twimg.com/media/Cbn4OqKWwAADGWt.jpg</td>\n",
       "      <td>1</td>\n",
       "      <td>651</td>\n",
       "      <td>2701</td>\n",
       "      <td>kuvasz</td>\n",
       "    </tr>\n",
       "    <tr>\n",
       "      <th>1257</th>\n",
       "      <td>692187005137076224</td>\n",
       "      <td>NaN</td>\n",
       "      <td>NaN</td>\n",
       "      <td>2016-01-27 03:26:56 +0000</td>\n",
       "      <td>Twitter for iPhone</td>\n",
       "      <td>This is a rare Arctic Wubberfloof. Unamused by the happenings. No longer has the appetites. 12/10 would totally hug https://t.co/krvbacIX0N</td>\n",
       "      <td>https://twitter.com/dog_rates/status/692187005137076224/photo/1,https://twitter.com/dog_rates/status/692187005137076224/photo/1,https://twitter.com/dog_rates/status/69218700513...</td>\n",
       "      <td>12</td>\n",
       "      <td>10</td>\n",
       "      <td>a</td>\n",
       "      <td>None</td>\n",
       "      <td>None</td>\n",
       "      <td>None</td>\n",
       "      <td>None</td>\n",
       "      <td>https://pbs.twimg.com/media/CZskaEIWIAUeTr5.jpg</td>\n",
       "      <td>2</td>\n",
       "      <td>866</td>\n",
       "      <td>2636</td>\n",
       "      <td>Siberian_husky</td>\n",
       "    </tr>\n",
       "    <tr>\n",
       "      <th>1512</th>\n",
       "      <td>677644091929329666</td>\n",
       "      <td>NaN</td>\n",
       "      <td>NaN</td>\n",
       "      <td>2015-12-18 00:18:36 +0000</td>\n",
       "      <td>Twitter for iPhone</td>\n",
       "      <td>This is a dog swinging. I really enjoyed it so I hope you all do as well. 11/10 https://t.co/Ozo9KHTRND</td>\n",
       "      <td>https://twitter.com/dog_rates/status/677644091929329666/video/1</td>\n",
       "      <td>11</td>\n",
       "      <td>10</td>\n",
       "      <td>a</td>\n",
       "      <td>None</td>\n",
       "      <td>None</td>\n",
       "      <td>None</td>\n",
       "      <td>None</td>\n",
       "      <td>https://pbs.twimg.com/ext_tw_video_thumb/677644010865999872/pu/img/zVHEMYnJKzq1SauT.jpg</td>\n",
       "      <td>1</td>\n",
       "      <td>840</td>\n",
       "      <td>1929</td>\n",
       "      <td>Chihuahua</td>\n",
       "    </tr>\n",
       "    <tr>\n",
       "      <th>1599</th>\n",
       "      <td>675047298674663426</td>\n",
       "      <td>NaN</td>\n",
       "      <td>NaN</td>\n",
       "      <td>2015-12-10 20:19:52 +0000</td>\n",
       "      <td>Twitter for iPhone</td>\n",
       "      <td>This is a fluffy albino Bacardi Columbia mix. Excellent at the tweets. 11/10 would hug gently https://t.co/diboDRUuEI</td>\n",
       "      <td>https://twitter.com/dog_rates/status/675047298674663426/photo/1</td>\n",
       "      <td>11</td>\n",
       "      <td>10</td>\n",
       "      <td>a</td>\n",
       "      <td>None</td>\n",
       "      <td>None</td>\n",
       "      <td>None</td>\n",
       "      <td>None</td>\n",
       "      <td>https://pbs.twimg.com/media/CV4_8FgXAAQOj4S.jpg</td>\n",
       "      <td>1</td>\n",
       "      <td>342</td>\n",
       "      <td>1085</td>\n",
       "      <td>Samoyed</td>\n",
       "    </tr>\n",
       "    <tr>\n",
       "      <th>1640</th>\n",
       "      <td>674082852460433408</td>\n",
       "      <td>NaN</td>\n",
       "      <td>NaN</td>\n",
       "      <td>2015-12-08 04:27:30 +0000</td>\n",
       "      <td>Twitter for iPhone</td>\n",
       "      <td>This is a Sagitariot Baklava mix. Loves her new hat. 11/10 radiant pup https://t.co/Bko5kFJYUU</td>\n",
       "      <td>https://twitter.com/dog_rates/status/674082852460433408/photo/1</td>\n",
       "      <td>11</td>\n",
       "      <td>10</td>\n",
       "      <td>a</td>\n",
       "      <td>None</td>\n",
       "      <td>None</td>\n",
       "      <td>None</td>\n",
       "      <td>None</td>\n",
       "      <td>https://pbs.twimg.com/media/CVrSxy7WsAAFD2F.jpg</td>\n",
       "      <td>1</td>\n",
       "      <td>176</td>\n",
       "      <td>767</td>\n",
       "      <td>Pomeranian</td>\n",
       "    </tr>\n",
       "    <tr>\n",
       "      <th>1710</th>\n",
       "      <td>672604026190569472</td>\n",
       "      <td>NaN</td>\n",
       "      <td>NaN</td>\n",
       "      <td>2015-12-04 02:31:10 +0000</td>\n",
       "      <td>Twitter for iPhone</td>\n",
       "      <td>This is a baby Rand Paul. Curls for days. 11/10 would cuddle the hell out of https://t.co/xHXNaPAYRe</td>\n",
       "      <td>https://twitter.com/dog_rates/status/672604026190569472/photo/1</td>\n",
       "      <td>11</td>\n",
       "      <td>10</td>\n",
       "      <td>a</td>\n",
       "      <td>None</td>\n",
       "      <td>None</td>\n",
       "      <td>None</td>\n",
       "      <td>None</td>\n",
       "      <td>https://pbs.twimg.com/media/CVWRyylWIAAMltv.jpg</td>\n",
       "      <td>1</td>\n",
       "      <td>407</td>\n",
       "      <td>1126</td>\n",
       "      <td>toy_poodle</td>\n",
       "    </tr>\n",
       "    <tr>\n",
       "      <th>1911</th>\n",
       "      <td>668815180734689280</td>\n",
       "      <td>NaN</td>\n",
       "      <td>NaN</td>\n",
       "      <td>2015-11-23 15:35:39 +0000</td>\n",
       "      <td>Twitter for iPhone</td>\n",
       "      <td>This is a wild Toblerone from Papua New Guinea. Mouth always open. Addicted to hay. Acts blind. 7/10 handsome dog https://t.co/IGmVbz07tZ</td>\n",
       "      <td>https://twitter.com/dog_rates/status/668815180734689280/photo/1</td>\n",
       "      <td>7</td>\n",
       "      <td>10</td>\n",
       "      <td>a</td>\n",
       "      <td>None</td>\n",
       "      <td>None</td>\n",
       "      <td>None</td>\n",
       "      <td>None</td>\n",
       "      <td>https://pbs.twimg.com/media/CUgb21RXIAAlff7.jpg</td>\n",
       "      <td>1</td>\n",
       "      <td>278</td>\n",
       "      <td>580</td>\n",
       "      <td>redbone</td>\n",
       "    </tr>\n",
       "    <tr>\n",
       "      <th>2038</th>\n",
       "      <td>666407126856765440</td>\n",
       "      <td>NaN</td>\n",
       "      <td>NaN</td>\n",
       "      <td>2015-11-17 00:06:54 +0000</td>\n",
       "      <td>Twitter for iPhone</td>\n",
       "      <td>This is a southern Vesuvius bumblegruff. Can drive a truck (wow). Made friends with 5 other nifty dogs (neat). 7/10 https://t.co/LopTBkKa8h</td>\n",
       "      <td>https://twitter.com/dog_rates/status/666407126856765440/photo/1</td>\n",
       "      <td>7</td>\n",
       "      <td>10</td>\n",
       "      <td>a</td>\n",
       "      <td>None</td>\n",
       "      <td>None</td>\n",
       "      <td>None</td>\n",
       "      <td>None</td>\n",
       "      <td>https://pbs.twimg.com/media/CT-NvwmW4AAugGZ.jpg</td>\n",
       "      <td>1</td>\n",
       "      <td>40</td>\n",
       "      <td>106</td>\n",
       "      <td>black-and-tan_coonhound</td>\n",
       "    </tr>\n",
       "    <tr>\n",
       "      <th>2044</th>\n",
       "      <td>666337882303524864</td>\n",
       "      <td>NaN</td>\n",
       "      <td>NaN</td>\n",
       "      <td>2015-11-16 19:31:45 +0000</td>\n",
       "      <td>Twitter for iPhone</td>\n",
       "      <td>This is an extremely rare horned Parthenon. Not amused. Wears shoes. Overall very nice. 9/10 would pet aggressively https://t.co/QpRjllzWAL</td>\n",
       "      <td>https://twitter.com/dog_rates/status/666337882303524864/photo/1</td>\n",
       "      <td>9</td>\n",
       "      <td>10</td>\n",
       "      <td>an</td>\n",
       "      <td>None</td>\n",
       "      <td>None</td>\n",
       "      <td>None</td>\n",
       "      <td>None</td>\n",
       "      <td>https://pbs.twimg.com/media/CT9OwFIWEAMuRje.jpg</td>\n",
       "      <td>1</td>\n",
       "      <td>90</td>\n",
       "      <td>190</td>\n",
       "      <td>Newfoundland</td>\n",
       "    </tr>\n",
       "    <tr>\n",
       "      <th>2046</th>\n",
       "      <td>666287406224695296</td>\n",
       "      <td>NaN</td>\n",
       "      <td>NaN</td>\n",
       "      <td>2015-11-16 16:11:11 +0000</td>\n",
       "      <td>Twitter for iPhone</td>\n",
       "      <td>This is an Albanian 3 1/2 legged  Episcopalian. Loves well-polished hardwood flooring. Penis on the collar. 9/10 https://t.co/d9NcXFKwLv</td>\n",
       "      <td>https://twitter.com/dog_rates/status/666287406224695296/photo/1</td>\n",
       "      <td>1</td>\n",
       "      <td>2</td>\n",
       "      <td>an</td>\n",
       "      <td>None</td>\n",
       "      <td>None</td>\n",
       "      <td>None</td>\n",
       "      <td>None</td>\n",
       "      <td>https://pbs.twimg.com/media/CT8g3BpUEAAuFjg.jpg</td>\n",
       "      <td>1</td>\n",
       "      <td>63</td>\n",
       "      <td>143</td>\n",
       "      <td>Maltese_dog</td>\n",
       "    </tr>\n",
       "    <tr>\n",
       "      <th>2058</th>\n",
       "      <td>666057090499244032</td>\n",
       "      <td>NaN</td>\n",
       "      <td>NaN</td>\n",
       "      <td>2015-11-16 00:55:59 +0000</td>\n",
       "      <td>Twitter for iPhone</td>\n",
       "      <td>My oh my. This is a rare blond Canadian terrier on wheels. Only $8.98. Rather docile. 9/10 very rare https://t.co/yWBqbrzy8O</td>\n",
       "      <td>https://twitter.com/dog_rates/status/666057090499244032/photo/1</td>\n",
       "      <td>9</td>\n",
       "      <td>10</td>\n",
       "      <td>a</td>\n",
       "      <td>None</td>\n",
       "      <td>None</td>\n",
       "      <td>None</td>\n",
       "      <td>None</td>\n",
       "      <td>https://pbs.twimg.com/media/CT5PY90WoAAQGLo.jpg</td>\n",
       "      <td>1</td>\n",
       "      <td>138</td>\n",
       "      <td>289</td>\n",
       "      <td>golden_retriever</td>\n",
       "    </tr>\n",
       "    <tr>\n",
       "      <th>2059</th>\n",
       "      <td>666055525042405380</td>\n",
       "      <td>NaN</td>\n",
       "      <td>NaN</td>\n",
       "      <td>2015-11-16 00:49:46 +0000</td>\n",
       "      <td>Twitter for iPhone</td>\n",
       "      <td>Here is a Siberian heavily armored polar bear mix. Strong owner. 10/10 I would do unspeakable things to pet this dog https://t.co/rdivxLiqEt</td>\n",
       "      <td>https://twitter.com/dog_rates/status/666055525042405380/photo/1</td>\n",
       "      <td>10</td>\n",
       "      <td>10</td>\n",
       "      <td>a</td>\n",
       "      <td>None</td>\n",
       "      <td>None</td>\n",
       "      <td>None</td>\n",
       "      <td>None</td>\n",
       "      <td>https://pbs.twimg.com/media/CT5N9tpXIAAifs1.jpg</td>\n",
       "      <td>1</td>\n",
       "      <td>235</td>\n",
       "      <td>428</td>\n",
       "      <td>chow</td>\n",
       "    </tr>\n",
       "    <tr>\n",
       "      <th>2061</th>\n",
       "      <td>666050758794694657</td>\n",
       "      <td>NaN</td>\n",
       "      <td>NaN</td>\n",
       "      <td>2015-11-16 00:30:50 +0000</td>\n",
       "      <td>Twitter for iPhone</td>\n",
       "      <td>This is a truly beautiful English Wilson Staff retriever. Has a nice phone. Privileged. 10/10 would trade lives with https://t.co/fvIbQfHjIe</td>\n",
       "      <td>https://twitter.com/dog_rates/status/666050758794694657/photo/1</td>\n",
       "      <td>10</td>\n",
       "      <td>10</td>\n",
       "      <td>a</td>\n",
       "      <td>None</td>\n",
       "      <td>None</td>\n",
       "      <td>None</td>\n",
       "      <td>None</td>\n",
       "      <td>https://pbs.twimg.com/media/CT5Jof1WUAEuVxN.jpg</td>\n",
       "      <td>1</td>\n",
       "      <td>57</td>\n",
       "      <td>130</td>\n",
       "      <td>Bernese_mountain_dog</td>\n",
       "    </tr>\n",
       "    <tr>\n",
       "      <th>2063</th>\n",
       "      <td>666044226329800704</td>\n",
       "      <td>NaN</td>\n",
       "      <td>NaN</td>\n",
       "      <td>2015-11-16 00:04:52 +0000</td>\n",
       "      <td>Twitter for iPhone</td>\n",
       "      <td>This is a purebred Piers Morgan. Loves to Netflix and chill. Always looks like he forgot to unplug the iron. 6/10 https://t.co/DWnyCjf2mx</td>\n",
       "      <td>https://twitter.com/dog_rates/status/666044226329800704/photo/1</td>\n",
       "      <td>6</td>\n",
       "      <td>10</td>\n",
       "      <td>a</td>\n",
       "      <td>None</td>\n",
       "      <td>None</td>\n",
       "      <td>None</td>\n",
       "      <td>None</td>\n",
       "      <td>https://pbs.twimg.com/media/CT5Dr8HUEAA-lEu.jpg</td>\n",
       "      <td>1</td>\n",
       "      <td>136</td>\n",
       "      <td>292</td>\n",
       "      <td>Rhodesian_ridgeback</td>\n",
       "    </tr>\n",
       "    <tr>\n",
       "      <th>2064</th>\n",
       "      <td>666033412701032449</td>\n",
       "      <td>NaN</td>\n",
       "      <td>NaN</td>\n",
       "      <td>2015-11-15 23:21:54 +0000</td>\n",
       "      <td>Twitter for iPhone</td>\n",
       "      <td>Here is a very happy pup. Big fan of well-maintained decks. Just look at that tongue. 9/10 would cuddle af https://t.co/y671yMhoiR</td>\n",
       "      <td>https://twitter.com/dog_rates/status/666033412701032449/photo/1</td>\n",
       "      <td>9</td>\n",
       "      <td>10</td>\n",
       "      <td>a</td>\n",
       "      <td>None</td>\n",
       "      <td>None</td>\n",
       "      <td>None</td>\n",
       "      <td>None</td>\n",
       "      <td>https://pbs.twimg.com/media/CT4521TWwAEvMyu.jpg</td>\n",
       "      <td>1</td>\n",
       "      <td>43</td>\n",
       "      <td>123</td>\n",
       "      <td>German_shepherd</td>\n",
       "    </tr>\n",
       "    <tr>\n",
       "      <th>2065</th>\n",
       "      <td>666029285002620928</td>\n",
       "      <td>NaN</td>\n",
       "      <td>NaN</td>\n",
       "      <td>2015-11-15 23:05:30 +0000</td>\n",
       "      <td>Twitter for iPhone</td>\n",
       "      <td>This is a western brown Mitsubishi terrier. Upset about leaf. Actually 2 dogs here. 7/10 would walk the shit out of https://t.co/r7mOb2m0UI</td>\n",
       "      <td>https://twitter.com/dog_rates/status/666029285002620928/photo/1</td>\n",
       "      <td>7</td>\n",
       "      <td>10</td>\n",
       "      <td>a</td>\n",
       "      <td>None</td>\n",
       "      <td>None</td>\n",
       "      <td>None</td>\n",
       "      <td>None</td>\n",
       "      <td>https://pbs.twimg.com/media/CT42GRgUYAA5iDo.jpg</td>\n",
       "      <td>1</td>\n",
       "      <td>46</td>\n",
       "      <td>126</td>\n",
       "      <td>redbone</td>\n",
       "    </tr>\n",
       "  </tbody>\n",
       "</table>\n",
       "</div>"
      ],
      "text/plain": [
       "                tweet_id  in_reply_to_status_id  in_reply_to_user_id  \\\n",
       "50    881536004380872706                    NaN                  NaN   \n",
       "817   747885874273214464                    NaN                  NaN   \n",
       "819   747816857231626240                    NaN                  NaN   \n",
       "833   746369468511756288                    NaN                  NaN   \n",
       "854   743222593470234624                    NaN                  NaN   \n",
       "937   728035342121635841                    NaN                  NaN   \n",
       "1117  704859558691414016                    NaN                  NaN   \n",
       "1126  704054845121142784                    NaN                  NaN   \n",
       "1136  703079050210877440                    NaN                  NaN   \n",
       "1142  702539513671897089                    NaN                  NaN   \n",
       "1154  700864154249383937                    NaN                  NaN   \n",
       "1257  692187005137076224                    NaN                  NaN   \n",
       "1512  677644091929329666                    NaN                  NaN   \n",
       "1599  675047298674663426                    NaN                  NaN   \n",
       "1640  674082852460433408                    NaN                  NaN   \n",
       "1710  672604026190569472                    NaN                  NaN   \n",
       "1911  668815180734689280                    NaN                  NaN   \n",
       "2038  666407126856765440                    NaN                  NaN   \n",
       "2044  666337882303524864                    NaN                  NaN   \n",
       "2046  666287406224695296                    NaN                  NaN   \n",
       "2058  666057090499244032                    NaN                  NaN   \n",
       "2059  666055525042405380                    NaN                  NaN   \n",
       "2061  666050758794694657                    NaN                  NaN   \n",
       "2063  666044226329800704                    NaN                  NaN   \n",
       "2064  666033412701032449                    NaN                  NaN   \n",
       "2065  666029285002620928                    NaN                  NaN   \n",
       "\n",
       "                      timestamp              source  \\\n",
       "50    2017-07-02 15:32:16 +0000  Twitter for iPhone   \n",
       "817   2016-06-28 20:14:22 +0000  Twitter for iPhone   \n",
       "819   2016-06-28 15:40:07 +0000  Twitter for iPhone   \n",
       "833   2016-06-24 15:48:42 +0000  Twitter for iPhone   \n",
       "854   2016-06-15 23:24:09 +0000  Twitter for iPhone   \n",
       "937   2016-05-05 01:35:26 +0000  Twitter for iPhone   \n",
       "1117  2016-03-02 02:43:09 +0000  Twitter for iPhone   \n",
       "1126  2016-02-28 21:25:30 +0000  Twitter for iPhone   \n",
       "1136  2016-02-26 04:48:02 +0000  Twitter for iPhone   \n",
       "1142  2016-02-24 17:04:07 +0000  Twitter for iPhone   \n",
       "1154  2016-02-20 02:06:50 +0000  Twitter for iPhone   \n",
       "1257  2016-01-27 03:26:56 +0000  Twitter for iPhone   \n",
       "1512  2015-12-18 00:18:36 +0000  Twitter for iPhone   \n",
       "1599  2015-12-10 20:19:52 +0000  Twitter for iPhone   \n",
       "1640  2015-12-08 04:27:30 +0000  Twitter for iPhone   \n",
       "1710  2015-12-04 02:31:10 +0000  Twitter for iPhone   \n",
       "1911  2015-11-23 15:35:39 +0000  Twitter for iPhone   \n",
       "2038  2015-11-17 00:06:54 +0000  Twitter for iPhone   \n",
       "2044  2015-11-16 19:31:45 +0000  Twitter for iPhone   \n",
       "2046  2015-11-16 16:11:11 +0000  Twitter for iPhone   \n",
       "2058  2015-11-16 00:55:59 +0000  Twitter for iPhone   \n",
       "2059  2015-11-16 00:49:46 +0000  Twitter for iPhone   \n",
       "2061  2015-11-16 00:30:50 +0000  Twitter for iPhone   \n",
       "2063  2015-11-16 00:04:52 +0000  Twitter for iPhone   \n",
       "2064  2015-11-15 23:21:54 +0000  Twitter for iPhone   \n",
       "2065  2015-11-15 23:05:30 +0000  Twitter for iPhone   \n",
       "\n",
       "                                                                                                                                                             text  \\\n",
       "50    Here is a pupper approaching maximum borkdrive. Zooming at never before seen speeds. 14/10 paw-inspiring af \\n(IG: puffie_the_chow) https://t.co/ghXBIIeQZF   \n",
       "817                  This is a mighty rare blue-tailed hammer sherk. Human almost lost a limb trying to take these. Be careful guys. 8/10 https://t.co/TGenMeXreW   \n",
       "819                    Viewer discretion is advised. This is a terrible attack in progress. Not even in water (tragic af). 4/10 bad sherk https://t.co/L3U0j14N5R   \n",
       "833                    This is an Iraqi Speed Kangaroo. It is not a dog. Please only send in dogs. I'm very angry with all of you ...9/10 https://t.co/5qpBTTpgUt   \n",
       "854                    This is a very rare Great Alaskan Bush Pupper. Hard to stumble upon without spooking. 12/10 would pet passionately https://t.co/xOBKCdpzaa   \n",
       "937                                                                          This is all I want in my life. 12/10 for super sleepy pupper https://t.co/4RlLA5ObMh   \n",
       "1117                                           Here is a heartbreaking scene of an incredible pupper being laid to rest. 10/10 RIP pupper https://t.co/81mvJ0rGRu   \n",
       "1126                                                                           Here is a whole flock of puppers.  60/50 I'll take the lot https://t.co/9dpcw6MdWa   \n",
       "1136                  This is a Butternut Cumberfloof. It's not windy they just look like that. 11/10 back at it again with the red socks https://t.co/hMjzhdUHaW   \n",
       "1142                     This is a Wild Tuscan Poofwiggle. Careful not to startle. Rare tongue slip. One eye magical. 12/10 would def pet https://t.co/4EnShAQjv6   \n",
       "1154                                                     \"Pupper is a present to world. Here is a bow for pupper.\" 12/10 precious as hell https://t.co/ItSsE92gCW   \n",
       "1257                  This is a rare Arctic Wubberfloof. Unamused by the happenings. No longer has the appetites. 12/10 would totally hug https://t.co/krvbacIX0N   \n",
       "1512                                                      This is a dog swinging. I really enjoyed it so I hope you all do as well. 11/10 https://t.co/Ozo9KHTRND   \n",
       "1599                                        This is a fluffy albino Bacardi Columbia mix. Excellent at the tweets. 11/10 would hug gently https://t.co/diboDRUuEI   \n",
       "1640                                                               This is a Sagitariot Baklava mix. Loves her new hat. 11/10 radiant pup https://t.co/Bko5kFJYUU   \n",
       "1710                                                         This is a baby Rand Paul. Curls for days. 11/10 would cuddle the hell out of https://t.co/xHXNaPAYRe   \n",
       "1911                    This is a wild Toblerone from Papua New Guinea. Mouth always open. Addicted to hay. Acts blind. 7/10 handsome dog https://t.co/IGmVbz07tZ   \n",
       "2038                  This is a southern Vesuvius bumblegruff. Can drive a truck (wow). Made friends with 5 other nifty dogs (neat). 7/10 https://t.co/LopTBkKa8h   \n",
       "2044                  This is an extremely rare horned Parthenon. Not amused. Wears shoes. Overall very nice. 9/10 would pet aggressively https://t.co/QpRjllzWAL   \n",
       "2046                     This is an Albanian 3 1/2 legged  Episcopalian. Loves well-polished hardwood flooring. Penis on the collar. 9/10 https://t.co/d9NcXFKwLv   \n",
       "2058                                 My oh my. This is a rare blond Canadian terrier on wheels. Only $8.98. Rather docile. 9/10 very rare https://t.co/yWBqbrzy8O   \n",
       "2059                 Here is a Siberian heavily armored polar bear mix. Strong owner. 10/10 I would do unspeakable things to pet this dog https://t.co/rdivxLiqEt   \n",
       "2061                 This is a truly beautiful English Wilson Staff retriever. Has a nice phone. Privileged. 10/10 would trade lives with https://t.co/fvIbQfHjIe   \n",
       "2063                    This is a purebred Piers Morgan. Loves to Netflix and chill. Always looks like he forgot to unplug the iron. 6/10 https://t.co/DWnyCjf2mx   \n",
       "2064                           Here is a very happy pup. Big fan of well-maintained decks. Just look at that tongue. 9/10 would cuddle af https://t.co/y671yMhoiR   \n",
       "2065                  This is a western brown Mitsubishi terrier. Upset about leaf. Actually 2 dogs here. 7/10 would walk the shit out of https://t.co/r7mOb2m0UI   \n",
       "\n",
       "                                                                                                                                                                            expanded_urls  \\\n",
       "50                                                                                                                        https://twitter.com/dog_rates/status/881536004380872706/video/1   \n",
       "817                                                       https://twitter.com/dog_rates/status/747885874273214464/photo/1,https://twitter.com/dog_rates/status/747885874273214464/photo/1   \n",
       "819                                                                                                                       https://twitter.com/dog_rates/status/747816857231626240/photo/1   \n",
       "833                                                                                                                       https://twitter.com/dog_rates/status/746369468511756288/photo/1   \n",
       "854                                                                                                                       https://twitter.com/dog_rates/status/743222593470234624/photo/1   \n",
       "937                                                       https://twitter.com/dog_rates/status/728035342121635841/photo/1,https://twitter.com/dog_rates/status/728035342121635841/photo/1   \n",
       "1117                                                                                                                      https://twitter.com/dog_rates/status/704859558691414016/photo/1   \n",
       "1126                                                                                                                      https://twitter.com/dog_rates/status/704054845121142784/photo/1   \n",
       "1136                                                      https://twitter.com/dog_rates/status/703079050210877440/photo/1,https://twitter.com/dog_rates/status/703079050210877440/photo/1   \n",
       "1142  https://twitter.com/dog_rates/status/702539513671897089/photo/1,https://twitter.com/dog_rates/status/702539513671897089/photo/1,https://twitter.com/dog_rates/status/70253951367...   \n",
       "1154                                                                                                                      https://twitter.com/dog_rates/status/700864154249383937/photo/1   \n",
       "1257  https://twitter.com/dog_rates/status/692187005137076224/photo/1,https://twitter.com/dog_rates/status/692187005137076224/photo/1,https://twitter.com/dog_rates/status/69218700513...   \n",
       "1512                                                                                                                      https://twitter.com/dog_rates/status/677644091929329666/video/1   \n",
       "1599                                                                                                                      https://twitter.com/dog_rates/status/675047298674663426/photo/1   \n",
       "1640                                                                                                                      https://twitter.com/dog_rates/status/674082852460433408/photo/1   \n",
       "1710                                                                                                                      https://twitter.com/dog_rates/status/672604026190569472/photo/1   \n",
       "1911                                                                                                                      https://twitter.com/dog_rates/status/668815180734689280/photo/1   \n",
       "2038                                                                                                                      https://twitter.com/dog_rates/status/666407126856765440/photo/1   \n",
       "2044                                                                                                                      https://twitter.com/dog_rates/status/666337882303524864/photo/1   \n",
       "2046                                                                                                                      https://twitter.com/dog_rates/status/666287406224695296/photo/1   \n",
       "2058                                                                                                                      https://twitter.com/dog_rates/status/666057090499244032/photo/1   \n",
       "2059                                                                                                                      https://twitter.com/dog_rates/status/666055525042405380/photo/1   \n",
       "2061                                                                                                                      https://twitter.com/dog_rates/status/666050758794694657/photo/1   \n",
       "2063                                                                                                                      https://twitter.com/dog_rates/status/666044226329800704/photo/1   \n",
       "2064                                                                                                                      https://twitter.com/dog_rates/status/666033412701032449/photo/1   \n",
       "2065                                                                                                                      https://twitter.com/dog_rates/status/666029285002620928/photo/1   \n",
       "\n",
       "      rating_numerator  rating_denominator name doggo floofer  pupper puppo  \\\n",
       "50                  14                  10    a  None    None  pupper  None   \n",
       "817                  8                  10    a  None    None    None  None   \n",
       "819                  4                  10    a  None    None    None  None   \n",
       "833                  9                  10   an  None    None    None  None   \n",
       "854                 12                  10    a  None    None  pupper  None   \n",
       "937                 12                  10  all  None    None  pupper  None   \n",
       "1117                10                  10    a  None    None  pupper  None   \n",
       "1126                60                  50    a  None    None    None  None   \n",
       "1136                11                  10    a  None    None    None  None   \n",
       "1142                12                  10    a  None    None    None  None   \n",
       "1154                12                  10    a  None    None  pupper  None   \n",
       "1257                12                  10    a  None    None    None  None   \n",
       "1512                11                  10    a  None    None    None  None   \n",
       "1599                11                  10    a  None    None    None  None   \n",
       "1640                11                  10    a  None    None    None  None   \n",
       "1710                11                  10    a  None    None    None  None   \n",
       "1911                 7                  10    a  None    None    None  None   \n",
       "2038                 7                  10    a  None    None    None  None   \n",
       "2044                 9                  10   an  None    None    None  None   \n",
       "2046                 1                   2   an  None    None    None  None   \n",
       "2058                 9                  10    a  None    None    None  None   \n",
       "2059                10                  10    a  None    None    None  None   \n",
       "2061                10                  10    a  None    None    None  None   \n",
       "2063                 6                  10    a  None    None    None  None   \n",
       "2064                 9                  10    a  None    None    None  None   \n",
       "2065                 7                  10    a  None    None    None  None   \n",
       "\n",
       "                                                                                      jpg_url  \\\n",
       "50    https://pbs.twimg.com/ext_tw_video_thumb/881535971568889856/pu/img/9bawiZ--8FKywTkz.jpg   \n",
       "817                                           https://pbs.twimg.com/media/CmEGMSvUYAAl3ZM.jpg   \n",
       "819                                           https://pbs.twimg.com/media/CmDHdCoWkAACTB4.jpg   \n",
       "833                                           https://pbs.twimg.com/media/ClujESVXEAA4uH8.jpg   \n",
       "854                                           https://pbs.twimg.com/media/ClB09z0WYAAA1jz.jpg   \n",
       "937                                           https://pbs.twimg.com/media/ChqARqmWsAEI6fB.jpg   \n",
       "1117                                          https://pbs.twimg.com/media/CcgqBNVW8AE76lv.jpg   \n",
       "1126                                          https://pbs.twimg.com/media/CcVOJEcXEAM0FHL.jpg   \n",
       "1136                                          https://pbs.twimg.com/media/CcHWqQCW8AEb0ZH.jpg   \n",
       "1142                                          https://pbs.twimg.com/media/Cb_r8qTUsAASgdF.jpg   \n",
       "1154                                          https://pbs.twimg.com/media/Cbn4OqKWwAADGWt.jpg   \n",
       "1257                                          https://pbs.twimg.com/media/CZskaEIWIAUeTr5.jpg   \n",
       "1512  https://pbs.twimg.com/ext_tw_video_thumb/677644010865999872/pu/img/zVHEMYnJKzq1SauT.jpg   \n",
       "1599                                          https://pbs.twimg.com/media/CV4_8FgXAAQOj4S.jpg   \n",
       "1640                                          https://pbs.twimg.com/media/CVrSxy7WsAAFD2F.jpg   \n",
       "1710                                          https://pbs.twimg.com/media/CVWRyylWIAAMltv.jpg   \n",
       "1911                                          https://pbs.twimg.com/media/CUgb21RXIAAlff7.jpg   \n",
       "2038                                          https://pbs.twimg.com/media/CT-NvwmW4AAugGZ.jpg   \n",
       "2044                                          https://pbs.twimg.com/media/CT9OwFIWEAMuRje.jpg   \n",
       "2046                                          https://pbs.twimg.com/media/CT8g3BpUEAAuFjg.jpg   \n",
       "2058                                          https://pbs.twimg.com/media/CT5PY90WoAAQGLo.jpg   \n",
       "2059                                          https://pbs.twimg.com/media/CT5N9tpXIAAifs1.jpg   \n",
       "2061                                          https://pbs.twimg.com/media/CT5Jof1WUAEuVxN.jpg   \n",
       "2063                                          https://pbs.twimg.com/media/CT5Dr8HUEAA-lEu.jpg   \n",
       "2064                                          https://pbs.twimg.com/media/CT4521TWwAEvMyu.jpg   \n",
       "2065                                          https://pbs.twimg.com/media/CT42GRgUYAA5iDo.jpg   \n",
       "\n",
       "      img_num  retweet_count  favorite_count                    breed  \n",
       "50          1          15570           48394                  Samoyed  \n",
       "817         1           1050            3084                   kuvasz  \n",
       "819         1           1240            5074                 Pembroke  \n",
       "833         1           1751            6452          German_shepherd  \n",
       "854         1           2022            6468                   kuvasz  \n",
       "937         1           1762            4727               Pomeranian  \n",
       "1117        1            578            2346                      pug  \n",
       "1126        1            964            3040           Great_Pyrenees  \n",
       "1136        2           3286            7723                 Pembroke  \n",
       "1142        3           1011            2995               Pomeranian  \n",
       "1154        1            651            2701                   kuvasz  \n",
       "1257        2            866            2636           Siberian_husky  \n",
       "1512        1            840            1929                Chihuahua  \n",
       "1599        1            342            1085                  Samoyed  \n",
       "1640        1            176             767               Pomeranian  \n",
       "1710        1            407            1126               toy_poodle  \n",
       "1911        1            278             580                  redbone  \n",
       "2038        1             40             106  black-and-tan_coonhound  \n",
       "2044        1             90             190             Newfoundland  \n",
       "2046        1             63             143              Maltese_dog  \n",
       "2058        1            138             289         golden_retriever  \n",
       "2059        1            235             428                     chow  \n",
       "2061        1             57             130     Bernese_mountain_dog  \n",
       "2063        1            136             292      Rhodesian_ridgeback  \n",
       "2064        1             43             123          German_shepherd  \n",
       "2065        1             46             126                  redbone  "
      ]
     },
     "execution_count": 178,
     "metadata": {},
     "output_type": "execute_result"
    }
   ],
   "source": [
    "#Records which have \"a\", \"an\", \"all\" as name\n",
    "df_clean[df_clean.name.str.match('a')]\n",
    "\n"
   ]
  },
  {
   "cell_type": "code",
   "execution_count": 179,
   "metadata": {},
   "outputs": [
    {
     "data": {
      "text/plain": [
       "1911       This is a wild Toblerone from Papua New Guinea. Mouth always open. Addicted to hay. Acts blind. 7/10 handsome dog https://t.co/IGmVbz07tZ\n",
       "833       This is an Iraqi Speed Kangaroo. It is not a dog. Please only send in dogs. I'm very angry with all of you ...9/10 https://t.co/5qpBTTpgUt\n",
       "854       This is a very rare Great Alaskan Bush Pupper. Hard to stumble upon without spooking. 12/10 would pet passionately https://t.co/xOBKCdpzaa\n",
       "1710                                            This is a baby Rand Paul. Curls for days. 11/10 would cuddle the hell out of https://t.co/xHXNaPAYRe\n",
       "1257     This is a rare Arctic Wubberfloof. Unamused by the happenings. No longer has the appetites. 12/10 would totally hug https://t.co/krvbacIX0N\n",
       "2058                    My oh my. This is a rare blond Canadian terrier on wheels. Only $8.98. Rather docile. 9/10 very rare https://t.co/yWBqbrzy8O\n",
       "817     This is a mighty rare blue-tailed hammer sherk. Human almost lost a limb trying to take these. Be careful guys. 8/10 https://t.co/TGenMeXreW\n",
       "1599                           This is a fluffy albino Bacardi Columbia mix. Excellent at the tweets. 11/10 would hug gently https://t.co/diboDRUuEI\n",
       "2044     This is an extremely rare horned Parthenon. Not amused. Wears shoes. Overall very nice. 9/10 would pet aggressively https://t.co/QpRjllzWAL\n",
       "2038     This is a southern Vesuvius bumblegruff. Can drive a truck (wow). Made friends with 5 other nifty dogs (neat). 7/10 https://t.co/LopTBkKa8h\n",
       "Name: text, dtype: object"
      ]
     },
     "execution_count": 179,
     "metadata": {},
     "output_type": "execute_result"
    }
   ],
   "source": [
    "#Save these specific records to a dataframe called a_names for further analysis\n",
    "a_names = df_clean[df_clean.name.str.match('a')]\n",
    "\n",
    "#read sample text to see if there is a different way to identify dog's name\n",
    "a_names['text'].sample(10)\n"
   ]
  },
  {
   "cell_type": "code",
   "execution_count": 180,
   "metadata": {},
   "outputs": [],
   "source": [
    "#After reading a couple of sample text, the pattern is that there is no \n",
    "#real Dog name for this tweets, thus I will update the name to \"None\"\n",
    "\n",
    "a_names['name'] = 'None'\n",
    "\n",
    "#Update dog names in df_clean dataframe\n",
    "df_clean= pd.concat([df_clean, a_names]).drop_duplicates(['tweet_id'],keep='last')"
   ]
  },
  {
   "cell_type": "markdown",
   "metadata": {},
   "source": [
    "#### Test ####"
   ]
  },
  {
   "cell_type": "code",
   "execution_count": 181,
   "metadata": {},
   "outputs": [
    {
     "data": {
      "text/plain": [
       "None        397\n",
       "Cooper       10\n",
       "Lucy         10\n",
       "Tucker        9\n",
       "Oliver        9\n",
       "Charlie       9\n",
       "Penny         8\n",
       "Winston       7\n",
       "Sadie         7\n",
       "Daisy         7\n",
       "Koda          6\n",
       "Toby          6\n",
       "Jax           6\n",
       "Lola          6\n",
       "the           6\n",
       "Bo            5\n",
       "Rusty         5\n",
       "Stanley       5\n",
       "Bella         5\n",
       "Leo           5\n",
       "Oscar         5\n",
       "Oakley        4\n",
       "Dexter        4\n",
       "Dave          4\n",
       "Bailey        4\n",
       "Jack          4\n",
       "Maggie        4\n",
       "Bentley       4\n",
       "Scooter       4\n",
       "Winnie        4\n",
       "           ... \n",
       "Crimson       1\n",
       "Mason         1\n",
       "Goliath       1\n",
       "Ruffles       1\n",
       "Ace           1\n",
       "Jeffri        1\n",
       "Terrance      1\n",
       "Kramer        1\n",
       "Joey          1\n",
       "Penelope      1\n",
       "Rolf          1\n",
       "Callie        1\n",
       "Reagan        1\n",
       "Rumble        1\n",
       "Quinn         1\n",
       "Kevon         1\n",
       "Mingus        1\n",
       "Dawn          1\n",
       "Florence      1\n",
       "Johm          1\n",
       "Ginger        1\n",
       "Timison       1\n",
       "Stella        1\n",
       "Ben           1\n",
       "Bobb          1\n",
       "Lassie        1\n",
       "Berta         1\n",
       "Jamesy        1\n",
       "Odin          1\n",
       "Chuk          1\n",
       "Name: name, Length: 856, dtype: int64"
      ]
     },
     "execution_count": 181,
     "metadata": {},
     "output_type": "execute_result"
    }
   ],
   "source": [
    "#Veryfing there are no longer names with a\n",
    "\n",
    "df_clean['name'].value_counts()"
   ]
  },
  {
   "cell_type": "markdown",
   "metadata": {},
   "source": [
    "## Quality - 8 ##\n",
    "\n",
    "#### Define ####\n",
    "\n",
    "Investigate and clean *name* field which has \"None\" as the name to identify if there could be posibly real Dog names.\n",
    "\n",
    "#### Code ####"
   ]
  },
  {
   "cell_type": "code",
   "execution_count": 182,
   "metadata": {},
   "outputs": [
    {
     "data": {
      "text/plain": [
       "397"
      ]
     },
     "execution_count": 182,
     "metadata": {},
     "output_type": "execute_result"
    }
   ],
   "source": [
    "#Count the number of records which have \"None\" as name\n",
    "len(df_clean[df_clean.name.str.contains(\"None\")])"
   ]
  },
  {
   "cell_type": "code",
   "execution_count": 183,
   "metadata": {},
   "outputs": [
    {
     "data": {
      "text/plain": [
       "766                                                                                      Nothing better than a doggo and a sunset. 10/10 majestic af https://t.co/xVSodF19PS\n",
       "1398                                  Here we see a nifty leaping pupper. Feet look deadly. Sad that the holidays are over. 9/10 undeniably huggable https://t.co/ny8mnXhGOW\n",
       "2033                                       Oh boy what a pup! Sunglasses take this one to the next level. Weirdly folds front legs. Pretty big. 6/10 https://t.co/yECbFrSArM\n",
       "343     We are proud to support @LoveYourMelon on their mission to put a hat on every kid battling cancer. They are 14/10\\n\\nhttps://t.co/XQlmPTLHPl https://t.co/ZNIkkHgtYE\n",
       "931                                                                        When you're way too slow for the \"down low\" portion of a high five. 13/10 https://t.co/Cofwoy7Vpq\n",
       "157      Sometimes you guys remind me just how impactful a pupper can be. Cooper will be remembered as a good boy by so many. 14/10 rest easy friend https://t.co/oBL7LEJEzR\n",
       "214                          Here we have some incredible doggos for #K9VeteransDay. All brave as h*ck. Salute your dog in solidarity. 14/10 for all https://t.co/SVNMdFqKDL\n",
       "2053                                           Here we have a well-established sunblockerspaniel. Lost his other flip-flop. 6/10 not very waterproof https://t.co/3RU6x0vHB7\n",
       "1117                                                      Here is a heartbreaking scene of an incredible pupper being laid to rest. 10/10 RIP pupper https://t.co/81mvJ0rGRu\n",
       "1635                                                                                                         \"AT DAWN, WE RIDE\"\\n10/10 for both dogs https://t.co/3aXX6wH6it\n",
       "Name: text, dtype: object"
      ]
     },
     "execution_count": 183,
     "metadata": {},
     "output_type": "execute_result"
    }
   ],
   "source": [
    "#Save these specific records to a dataframe called none_names for further analysis\n",
    "none_names = df_clean[df_clean.name.str.contains(\"None\")]\n",
    "\n",
    "#read sample text to see if there is a different way to identify dog's name\n",
    "none_names['text'].sample(10)"
   ]
  },
  {
   "cell_type": "code",
   "execution_count": 184,
   "metadata": {},
   "outputs": [
    {
     "data": {
      "text/plain": [
       "Zoey          1\n",
       "Sabertooth    1\n",
       "Big           1\n",
       "Tickles       1\n",
       "Zeus          1\n",
       "Guss          1\n",
       "Name: name, dtype: int64"
      ]
     },
     "execution_count": 184,
     "metadata": {},
     "output_type": "execute_result"
    }
   ],
   "source": [
    "#As with lowercase_names dataframe there could be real name dogs that can \n",
    "#be extracted fron text field, I will look for records with the words \"name\" or \"named\"\n",
    "\n",
    "\n",
    "#Extracting dog names where text contains the word \"named\"\n",
    "valid_none_names = none_names[none_names.text.str.contains(\"name\")]\n",
    "\n",
    "named_v = valid_none_names['text'].str.extract(r\"named\\s(\\w+)\")\n",
    "named_v =named_v[named_v.isnull()==False]\n",
    "named_v\n",
    "\n",
    "#Extracting dog names where text contains \"name is\"\n",
    "name_is_v =valid_none_names['text'].str.extract(r\"name is\\s(\\w+)\")\n",
    "name_is_v = name_is_v[name_is_v.isnull()== False]\n",
    "name_is_v\n",
    "\n",
    "#Appending new name results\n",
    "new_name_v =named_v.append(name_is_v)\n",
    "new_name_v\n",
    "\n",
    "#In new valid_none_names dataframe replace \"name\" values with newly found Dog names\n",
    "\n",
    "valid_none_names['name'] = new_name_v\n",
    "\n",
    "valid_none_names['name'].value_counts()"
   ]
  },
  {
   "cell_type": "code",
   "execution_count": 185,
   "metadata": {},
   "outputs": [],
   "source": [
    "#Update dog names in df_clean dataframe for tweet_ids where a new dog name was found\n",
    "df_clean= pd.concat([df_clean, valid_none_names]).drop_duplicates(['tweet_id'],keep='last')"
   ]
  },
  {
   "cell_type": "code",
   "execution_count": 186,
   "metadata": {},
   "outputs": [],
   "source": [
    "#Remove records with possible NaN\n",
    "df_clean = df_clean.dropna(subset=['name'])\n"
   ]
  },
  {
   "cell_type": "markdown",
   "metadata": {},
   "source": [
    "#### Test ####\n"
   ]
  },
  {
   "cell_type": "code",
   "execution_count": 187,
   "metadata": {},
   "outputs": [
    {
     "data": {
      "text/plain": [
       "None        388\n",
       "Lucy         10\n",
       "Cooper       10\n",
       "Charlie       9\n",
       "Oliver        9\n",
       "Tucker        9\n",
       "Penny         8\n",
       "Winston       7\n",
       "Sadie         7\n",
       "Daisy         7\n",
       "Koda          6\n",
       "the           6\n",
       "Jax           6\n",
       "Toby          6\n",
       "Lola          6\n",
       "Bella         5\n",
       "Zoey          5\n",
       "Leo           5\n",
       "Stanley       5\n",
       "Bo            5\n",
       "Oscar         5\n",
       "Rusty         5\n",
       "Maggie        4\n",
       "Chester       4\n",
       "Scout         4\n",
       "Larry         4\n",
       "Dexter        4\n",
       "Brody         4\n",
       "Bentley       4\n",
       "Oakley        4\n",
       "           ... \n",
       "Mason         1\n",
       "Goliath       1\n",
       "Ruffles       1\n",
       "Ace           1\n",
       "Jeffri        1\n",
       "Kawhi         1\n",
       "Buckley       1\n",
       "Jazz          1\n",
       "Rolf          1\n",
       "Kramer        1\n",
       "Callie        1\n",
       "Reagan        1\n",
       "Rumble        1\n",
       "Quinn         1\n",
       "Kevon         1\n",
       "Mingus        1\n",
       "Dawn          1\n",
       "Florence      1\n",
       "Johm          1\n",
       "Ginger        1\n",
       "Timison       1\n",
       "Stella        1\n",
       "Ben           1\n",
       "Bobb          1\n",
       "Lassie        1\n",
       "Berta         1\n",
       "Jamesy        1\n",
       "Odin          1\n",
       "Penelope      1\n",
       "Chuk          1\n",
       "Name: name, Length: 860, dtype: int64"
      ]
     },
     "execution_count": 187,
     "metadata": {},
     "output_type": "execute_result"
    }
   ],
   "source": [
    "#Checking value counts for names, and veryfing \"None\" values have been reduced\n",
    "df_clean['name'].value_counts()"
   ]
  },
  {
   "cell_type": "code",
   "execution_count": 188,
   "metadata": {},
   "outputs": [
    {
     "name": "stdout",
     "output_type": "stream",
     "text": [
      "<class 'pandas.core.frame.DataFrame'>\n",
      "Int64Index: 1613 entries, 1 to 1981\n",
      "Data columns (total 19 columns):\n",
      "tweet_id                 1613 non-null int64\n",
      "in_reply_to_status_id    18 non-null float64\n",
      "in_reply_to_user_id      18 non-null float64\n",
      "timestamp                1613 non-null object\n",
      "source                   1613 non-null object\n",
      "text                     1613 non-null object\n",
      "expanded_urls            1613 non-null object\n",
      "rating_numerator         1613 non-null int64\n",
      "rating_denominator       1613 non-null int64\n",
      "name                     1613 non-null object\n",
      "doggo                    1613 non-null object\n",
      "floofer                  1613 non-null object\n",
      "pupper                   1613 non-null object\n",
      "puppo                    1613 non-null object\n",
      "jpg_url                  1613 non-null object\n",
      "img_num                  1613 non-null int64\n",
      "retweet_count            1613 non-null int64\n",
      "favorite_count           1613 non-null int64\n",
      "breed                    1613 non-null object\n",
      "dtypes: float64(2), int64(6), object(11)\n",
      "memory usage: 252.0+ KB\n"
     ]
    }
   ],
   "source": [
    "df_clean.info()"
   ]
  },
  {
   "cell_type": "markdown",
   "metadata": {},
   "source": [
    "## Tidiness - 3 ##\n",
    "\n",
    "#### Define ####\n",
    "\n",
    "Create a *stage* variable to remove individual dog stage columns\n"
   ]
  },
  {
   "cell_type": "code",
   "execution_count": 189,
   "metadata": {},
   "outputs": [
    {
     "data": {
      "text/plain": [
       "None     1551\n",
       "doggo      62\n",
       "Name: doggo, dtype: int64"
      ]
     },
     "execution_count": 189,
     "metadata": {},
     "output_type": "execute_result"
    }
   ],
   "source": [
    "df_clean['doggo'].value_counts()\n"
   ]
  },
  {
   "cell_type": "code",
   "execution_count": 190,
   "metadata": {},
   "outputs": [
    {
     "data": {
      "text/plain": [
       "None       1606\n",
       "floofer       7\n",
       "Name: floofer, dtype: int64"
      ]
     },
     "execution_count": 190,
     "metadata": {},
     "output_type": "execute_result"
    }
   ],
   "source": [
    "df_clean['floofer'].value_counts()\n"
   ]
  },
  {
   "cell_type": "code",
   "execution_count": 191,
   "metadata": {},
   "outputs": [
    {
     "data": {
      "text/plain": [
       "None      1438\n",
       "pupper     175\n",
       "Name: pupper, dtype: int64"
      ]
     },
     "execution_count": 191,
     "metadata": {},
     "output_type": "execute_result"
    }
   ],
   "source": [
    "df_clean['pupper'].value_counts()\n"
   ]
  },
  {
   "cell_type": "code",
   "execution_count": 192,
   "metadata": {},
   "outputs": [
    {
     "data": {
      "text/plain": [
       "None     1591\n",
       "puppo      22\n",
       "Name: puppo, dtype: int64"
      ]
     },
     "execution_count": 192,
     "metadata": {},
     "output_type": "execute_result"
    }
   ],
   "source": [
    "df_clean['puppo'].value_counts()\n"
   ]
  },
  {
   "cell_type": "markdown",
   "metadata": {},
   "source": [
    "\n",
    "#### Code ####"
   ]
  },
  {
   "cell_type": "code",
   "execution_count": 193,
   "metadata": {},
   "outputs": [],
   "source": [
    "#Create column stage with corresponding stage names\n",
    "df_clean['stage'] = df_clean[['doggo', 'floofer', 'pupper', 'puppo']].max(axis=1)\n",
    "\n",
    "#drop individual stage columns\n",
    "df_clean.drop(['doggo', 'floofer', 'pupper', 'puppo'], axis =1 , inplace = True)"
   ]
  },
  {
   "cell_type": "markdown",
   "metadata": {},
   "source": [
    "#### Test ####"
   ]
  },
  {
   "cell_type": "code",
   "execution_count": 194,
   "metadata": {},
   "outputs": [
    {
     "data": {
      "text/plain": [
       "None       1355\n",
       "pupper      175\n",
       "doggo        54\n",
       "puppo        22\n",
       "floofer       7\n",
       "Name: stage, dtype: int64"
      ]
     },
     "execution_count": 194,
     "metadata": {},
     "output_type": "execute_result"
    }
   ],
   "source": [
    "df_clean['stage'].value_counts()"
   ]
  },
  {
   "cell_type": "code",
   "execution_count": 195,
   "metadata": {},
   "outputs": [
    {
     "name": "stdout",
     "output_type": "stream",
     "text": [
      "<class 'pandas.core.frame.DataFrame'>\n",
      "Int64Index: 1613 entries, 1 to 1981\n",
      "Data columns (total 16 columns):\n",
      "tweet_id                 1613 non-null int64\n",
      "in_reply_to_status_id    18 non-null float64\n",
      "in_reply_to_user_id      18 non-null float64\n",
      "timestamp                1613 non-null object\n",
      "source                   1613 non-null object\n",
      "text                     1613 non-null object\n",
      "expanded_urls            1613 non-null object\n",
      "rating_numerator         1613 non-null int64\n",
      "rating_denominator       1613 non-null int64\n",
      "name                     1613 non-null object\n",
      "jpg_url                  1613 non-null object\n",
      "img_num                  1613 non-null int64\n",
      "retweet_count            1613 non-null int64\n",
      "favorite_count           1613 non-null int64\n",
      "breed                    1613 non-null object\n",
      "stage                    1613 non-null object\n",
      "dtypes: float64(2), int64(6), object(8)\n",
      "memory usage: 214.2+ KB\n"
     ]
    }
   ],
   "source": [
    "df_clean.info()"
   ]
  },
  {
   "cell_type": "markdown",
   "metadata": {},
   "source": [
    "## Quality - 9 ##\n",
    "\n",
    "#### Define ####\n",
    "\n",
    "There are many records with \"None\" Stage, analyze text to identify possible stages for these records\n",
    "\n",
    "#### Code ####"
   ]
  },
  {
   "cell_type": "code",
   "execution_count": 196,
   "metadata": {},
   "outputs": [
    {
     "data": {
      "text/plain": [
       "None       1355\n",
       "pupper      175\n",
       "doggo        54\n",
       "puppo        22\n",
       "floofer       7\n",
       "Name: stage, dtype: int64"
      ]
     },
     "execution_count": 196,
     "metadata": {},
     "output_type": "execute_result"
    }
   ],
   "source": [
    "df_clean['stage'].value_counts()"
   ]
  },
  {
   "cell_type": "code",
   "execution_count": 197,
   "metadata": {},
   "outputs": [],
   "source": [
    "#Create separate dataframe to analyze None values for stage variable\n",
    "none_stage= df_clean[df_clean.stage.str.contains(\"None\")]\n",
    "\n",
    "#Extracting the records that contain words \"pupper\"\n",
    "n_pupper = none_stage[none_stage.text.str.contains(\"pupper\")]\n",
    "n_pupper['stage'] = 'pupper'\n",
    "\n",
    "#Extracting the records that contain words \"doggo\"\n",
    "n_doggo = none_stage[none_stage.text.str.contains(\"doggo\")]\n",
    "n_doggo['stage'] = 'doggo'\n",
    "\n",
    "#Extracting the records that contain words \"puppo\"\n",
    "n_puppo = none_stage[none_stage.text.str.contains(\"puppo\")]\n",
    "n_puppo['stage'] = 'puppo'\n",
    "\n",
    "#Extracting the records that contain words \"floofer\" but there were none\n",
    "n_floofer = none_stage[none_stage.text.str.contains(\"floofer\")]\n",
    "n_floofer['stage'] = 'floofer'"
   ]
  },
  {
   "cell_type": "code",
   "execution_count": 198,
   "metadata": {},
   "outputs": [
    {
     "data": {
      "text/plain": [
       "0"
      ]
     },
     "execution_count": 198,
     "metadata": {},
     "output_type": "execute_result"
    }
   ],
   "source": [
    "len(n_pupper)\n",
    "len(n_doggo)\n",
    "len(n_puppo)\n",
    "len(n_floofer)"
   ]
  },
  {
   "cell_type": "code",
   "execution_count": 199,
   "metadata": {},
   "outputs": [],
   "source": [
    "#Update stage in none_stage dataframe, I'm not updatting floofer since there were 0 updates\n",
    "none_stage= pd.concat([none_stage, n_pupper]).drop_duplicates(['tweet_id'],keep='last')\n",
    "none_stage= pd.concat([none_stage, n_doggo]).drop_duplicates(['tweet_id'],keep='last')\n",
    "none_stage= pd.concat([none_stage, n_puppo]).drop_duplicates(['tweet_id'],keep='last')"
   ]
  },
  {
   "cell_type": "code",
   "execution_count": 200,
   "metadata": {},
   "outputs": [],
   "source": [
    "#Update stage on df_clean dataframe\n",
    "df_clean= pd.concat([df_clean, none_stage]).drop_duplicates(['tweet_id'],keep='last')\n"
   ]
  },
  {
   "cell_type": "markdown",
   "metadata": {},
   "source": [
    "#### Test ####"
   ]
  },
  {
   "cell_type": "code",
   "execution_count": 201,
   "metadata": {},
   "outputs": [
    {
     "data": {
      "text/plain": [
       "None       1329\n",
       "pupper      192\n",
       "doggo        58\n",
       "puppo        27\n",
       "floofer       7\n",
       "Name: stage, dtype: int64"
      ]
     },
     "execution_count": 201,
     "metadata": {},
     "output_type": "execute_result"
    }
   ],
   "source": [
    "df_clean['stage'].value_counts()"
   ]
  },
  {
   "cell_type": "code",
   "execution_count": 202,
   "metadata": {},
   "outputs": [
    {
     "name": "stdout",
     "output_type": "stream",
     "text": [
      "<class 'pandas.core.frame.DataFrame'>\n",
      "Int64Index: 1613 entries, 9 to 437\n",
      "Data columns (total 16 columns):\n",
      "tweet_id                 1613 non-null int64\n",
      "in_reply_to_status_id    18 non-null float64\n",
      "in_reply_to_user_id      18 non-null float64\n",
      "timestamp                1613 non-null object\n",
      "source                   1613 non-null object\n",
      "text                     1613 non-null object\n",
      "expanded_urls            1613 non-null object\n",
      "rating_numerator         1613 non-null int64\n",
      "rating_denominator       1613 non-null int64\n",
      "name                     1613 non-null object\n",
      "jpg_url                  1613 non-null object\n",
      "img_num                  1613 non-null int64\n",
      "retweet_count            1613 non-null int64\n",
      "favorite_count           1613 non-null int64\n",
      "breed                    1613 non-null object\n",
      "stage                    1613 non-null object\n",
      "dtypes: float64(2), int64(6), object(8)\n",
      "memory usage: 214.2+ KB\n"
     ]
    }
   ],
   "source": [
    "df_clean.info()"
   ]
  },
  {
   "cell_type": "markdown",
   "metadata": {},
   "source": [
    "## Quality - 10 ##\n",
    "\n",
    "#### Define ####\n",
    "\n",
    "Clean *rating_numerator* column since it has very low values (below 4) or extremely high values (Over 15)\n",
    "\n",
    "#### Code ####"
   ]
  },
  {
   "cell_type": "code",
   "execution_count": 203,
   "metadata": {},
   "outputs": [
    {
     "data": {
      "text/plain": [
       "0        1\n",
       "1        1\n",
       "2        2\n",
       "3        4\n",
       "4        7\n",
       "5       12\n",
       "6       16\n",
       "7       31\n",
       "8       66\n",
       "9      121\n",
       "10     343\n",
       "11     341\n",
       "12     407\n",
       "13     223\n",
       "14      22\n",
       "24       1\n",
       "26       1\n",
       "27       1\n",
       "44       1\n",
       "45       1\n",
       "50       1\n",
       "60       1\n",
       "75       1\n",
       "80       1\n",
       "84       1\n",
       "88       1\n",
       "99       1\n",
       "121      1\n",
       "143      1\n",
       "144      1\n",
       "165      1\n",
       "Name: rating_numerator, dtype: int64"
      ]
     },
     "execution_count": 203,
     "metadata": {},
     "output_type": "execute_result"
    }
   ],
   "source": [
    "#Checking rating_numerator values\n",
    "df_clean.rating_numerator.value_counts().sort_index()"
   ]
  },
  {
   "cell_type": "code",
   "execution_count": 204,
   "metadata": {},
   "outputs": [
    {
     "data": {
      "text/plain": [
       "609             This is Sophie. She's a Jubilant Bush Pupper. Super h*ckin rare. Appears at random just to smile at the locals. 11.27/10 would smile back https://t.co/QFaUiIHxHq\n",
       "341                                                                           The floofs have been released I repeat the floofs have been released. 84/70 https://t.co/NIYC820tmd\n",
       "411     Meet Sam. She smiles 24/7 &amp; secretly aspires to be a reindeer. \\nKeep Sam smiling by clicking and sharing this link:\\nhttps://t.co/98tB8y7y7t https://t.co/LouL5vdvxx\n",
       "553                                              This is Logan, the Chow who lived. He solemnly swears he's up to lots of good. H*ckin magical af 9.75/10 https://t.co/yBO5wuqaPS\n",
       "730                                                                                                Why does this never happen at my front door... 165/150 https://t.co/HmwrdfEfUE\n",
       "996                                                         This is Bluebert. He just saw that both #FinalFur match ups are split 50/50. Amazed af. 11/10 https://t.co/Kky1DPG4iq\n",
       "1060                           From left to right:\\nCletus, Jerome, Alejandro, Burp, &amp; Titson\\nNone know where camera is. 45/50 would hug all at once https://t.co/sedre1ivTK\n",
       "1202                                                                                 Happy Wednesday here's a bucket of pups. 44/40 would pet all at once https://t.co/HppvrYuamZ\n",
       "1506                                                                                                       IT'S PUPPERGEDDON. Total of 144/120 ...I think https://t.co/ZanVtAtvIq\n",
       "1017                                                                                Happy Saturday here's 9 puppers on a bench. 99/90 good work everybody https://t.co/mpvaVxKmc1\n",
       "1042                                                                 Here's a brigade of puppers. All look very prepared for whatever happens next. 80/80 https://t.co/0eb7R1Om12\n",
       "1374                                               Two sneaky puppers were not initially seen, moving the rating to 143/130. Please forgive us. Thank you https://t.co/kRK51Y5ac3\n",
       "1375                                 Someone help the girl is being mugged. Several are distracting her while two steal her shoes. Clever puppers 121/110 https://t.co/1zfnTJLt55\n",
       "1446                                                                   Here we have uncovered an entire battalion of holiday puppers. Average of 11.26/10 https://t.co/eNm2S6p9BD\n",
       "1565                                                                  Here we have an entire platoon of puppers. Total score: 88/80 would pet all at once https://t.co/y93p6FLvVw\n",
       "1126                                                                                           Here is a whole flock of puppers.  60/50 I'll take the lot https://t.co/9dpcw6MdWa\n",
       "Name: text, dtype: object"
      ]
     },
     "execution_count": 204,
     "metadata": {},
     "output_type": "execute_result"
    }
   ],
   "source": [
    "#Reviewing text for rating_numerators > 14\n",
    "df_clean[df_clean.rating_numerator >14 ]['text']"
   ]
  },
  {
   "cell_type": "code",
   "execution_count": 205,
   "metadata": {},
   "outputs": [],
   "source": [
    "#After analyzing the text for rating numerators greater than 14, I have decidied that I will divide the numerator by 10\n",
    "#I will do the same with high denominator values\n",
    "df_clean['rating_numerator'] = [i['rating_numerator'] if i['rating_numerator'] <= 14\n",
    "                                 else int(i['rating_numerator']/10) for index, i in df_clean.iterrows()]"
   ]
  },
  {
   "cell_type": "code",
   "execution_count": 206,
   "metadata": {},
   "outputs": [
    {
     "data": {
      "text/plain": [
       "609             This is Sophie. She's a Jubilant Bush Pupper. Super h*ckin rare. Appears at random just to smile at the locals. 11.27/10 would smile back https://t.co/QFaUiIHxHq\n",
       "245                                                             When you're so blinded by your systematic plagiarism that you forget what day it is. 0/10 https://t.co/YbEJPkg4Ag\n",
       "411     Meet Sam. She smiles 24/7 &amp; secretly aspires to be a reindeer. \\nKeep Sam smiling by clicking and sharing this link:\\nhttps://t.co/98tB8y7y7t https://t.co/LouL5vdvxx\n",
       "610                                  This is Wesley. He's clearly trespassing. Seems rather h*ckin violent too. Weaponized forehead. 3/10 wouldn't let in https://t.co/pL7wbMRW7M\n",
       "962                                                                                                              Happy 4/20 from the squad! 13/10 for all https://t.co/eV1diwds8a\n",
       "986                                          This is Alexanderson. He's got a weird ass birth mark. Dreadful at fetch. Won't eat kibble. 3/10 wtf @Target https://t.co/FmxOpf2Sgl\n",
       "1037                                    What hooligan sent in pictures w/out a dog in them? Churlish af. 3/10 just bc that's a neat fluffy bean bag chair https://t.co/wcwoGOkZvz\n",
       "1060                           From left to right:\\nCletus, Jerome, Alejandro, Burp, &amp; Titson\\nNone know where camera is. 45/50 would hug all at once https://t.co/sedre1ivTK\n",
       "1083                                 This is Keurig. He's a rare dog. Laughs like an idiot tho. Head is basically a weapon. Poorly maintained goatee 4/10 https://t.co/xOrUyj7K30\n",
       "1202                                                                                 Happy Wednesday here's a bucket of pups. 44/40 would pet all at once https://t.co/HppvrYuamZ\n",
       "1436                                                                                                                  This is Alice. She's an idiot. 4/10 https://t.co/VQXdwJfkyS\n",
       "1493                                 This is Crystal. She's a shitty fireman. No sense of urgency. People could be dying Crystal. 2/10 just irresponsible https://t.co/rtMtjSl9pz\n",
       "1785                                     Two miniature golden retrievers here. Webbed paws. Don't walk very efficiently. Can't catch a tennis ball. 4/10s https://t.co/WzVLdSHJU7\n",
       "1897                                 This is Bernie. He's taking his Halloween costume very seriously. Wants to be baked. 3/10 not a good idea Bernie smh https://t.co/1zBp1moFlX\n",
       "1958                                  This is Tedrick. He lives on the edge. Needs someone to hit the gas tho. Other than that he's a baller. 10&amp;2/10 https://t.co/LvP1TTYSCN\n",
       "2000                                 These are strange dogs. All have toupees. Long neck for dogs. In a shed of sorts? Work in groups? 4/10 still petable https://t.co/PZxSarAfSN\n",
       "2027                                   Cool dog. Enjoys couch. Low monotone bark. Very nice kicks. Pisses milk (must be rare). Can't go down stairs. 4/10 https://t.co/vXMKrJC81s\n",
       "819                                    Viewer discretion is advised. This is a terrible attack in progress. Not even in water (tragic af). 4/10 bad sherk https://t.co/L3U0j14N5R\n",
       "2046                                     This is an Albanian 3 1/2 legged  Episcopalian. Loves well-polished hardwood flooring. Penis on the collar. 9/10 https://t.co/d9NcXFKwLv\n",
       "1446                                                                   Here we have uncovered an entire battalion of holiday puppers. Average of 11.26/10 https://t.co/eNm2S6p9BD\n",
       "Name: text, dtype: object"
      ]
     },
     "execution_count": 206,
     "metadata": {},
     "output_type": "execute_result"
    }
   ],
   "source": [
    "#Reviewing text for rating_numerators <=4\n",
    "df_clean[df_clean.rating_numerator <= 4]['text']"
   ]
  },
  {
   "cell_type": "code",
   "execution_count": 207,
   "metadata": {},
   "outputs": [],
   "source": [
    "#After reviewing text, I decided to remove records where rating_numerator is >= 4 since records\n",
    "#with lower numerator ratins don't seem to be relevant\n",
    "\n",
    "df_clean = df_clean[df_clean.rating_numerator >= 4]\n"
   ]
  },
  {
   "cell_type": "markdown",
   "metadata": {},
   "source": [
    "#### Test ####"
   ]
  },
  {
   "cell_type": "code",
   "execution_count": 208,
   "metadata": {},
   "outputs": [
    {
     "data": {
      "text/plain": [
       "4       9\n",
       "5      13\n",
       "6      17\n",
       "7      32\n",
       "8      69\n",
       "9     122\n",
       "10    343\n",
       "11    341\n",
       "12    408\n",
       "13    223\n",
       "14     24\n",
       "16      1\n",
       "Name: rating_numerator, dtype: int64"
      ]
     },
     "execution_count": 208,
     "metadata": {},
     "output_type": "execute_result"
    }
   ],
   "source": [
    "#Veryfing I no longer have rating_numerators with very low or very high values\n",
    "df_clean.rating_numerator.value_counts().sort_index()"
   ]
  },
  {
   "cell_type": "markdown",
   "metadata": {},
   "source": [
    "## Quality - 11 ##\n",
    "\n",
    "#### Define ####\n",
    "\n",
    "Clean *rating_denominator* column since it has values over 10\n",
    "\n",
    "#### Code ####"
   ]
  },
  {
   "cell_type": "code",
   "execution_count": 209,
   "metadata": {},
   "outputs": [
    {
     "data": {
      "text/plain": [
       "10     1587\n",
       "11        2\n",
       "20        1\n",
       "40        1\n",
       "50        3\n",
       "70        1\n",
       "80        2\n",
       "90        1\n",
       "110       1\n",
       "120       1\n",
       "130       1\n",
       "150       1\n",
       "Name: rating_denominator, dtype: int64"
      ]
     },
     "execution_count": 209,
     "metadata": {},
     "output_type": "execute_result"
    }
   ],
   "source": [
    "#Checking rating_numerator values\n",
    "df_clean.rating_denominator.value_counts().sort_index()"
   ]
  },
  {
   "cell_type": "code",
   "execution_count": 210,
   "metadata": {},
   "outputs": [
    {
     "data": {
      "text/plain": [
       "341                                                    The floofs have been released I repeat the floofs have been released. 84/70 https://t.co/NIYC820tmd\n",
       "730                                                                         Why does this never happen at my front door... 165/150 https://t.co/HmwrdfEfUE\n",
       "871           After so many requests, this is Bretagne. She was the last surviving 9/11 search dog, and our second ever 14/10. RIP https://t.co/XAVDNDaVgQ\n",
       "962                                                                                       Happy 4/20 from the squad! 13/10 for all https://t.co/eV1diwds8a\n",
       "996                                  This is Bluebert. He just saw that both #FinalFur match ups are split 50/50. Amazed af. 11/10 https://t.co/Kky1DPG4iq\n",
       "1060    From left to right:\\nCletus, Jerome, Alejandro, Burp, &amp; Titson\\nNone know where camera is. 45/50 would hug all at once https://t.co/sedre1ivTK\n",
       "1202                                                          Happy Wednesday here's a bucket of pups. 44/40 would pet all at once https://t.co/HppvrYuamZ\n",
       "1400           This is Darrel. He just robbed a 7/11 and is in a high speed police chase. Was just spotted by the helicopter 10/10 https://t.co/7EsP8LmSp5\n",
       "1506                                                                                IT'S PUPPERGEDDON. Total of 144/120 ...I think https://t.co/ZanVtAtvIq\n",
       "1017                                                         Happy Saturday here's 9 puppers on a bench. 99/90 good work everybody https://t.co/mpvaVxKmc1\n",
       "1042                                          Here's a brigade of puppers. All look very prepared for whatever happens next. 80/80 https://t.co/0eb7R1Om12\n",
       "1374                        Two sneaky puppers were not initially seen, moving the rating to 143/130. Please forgive us. Thank you https://t.co/kRK51Y5ac3\n",
       "1375          Someone help the girl is being mugged. Several are distracting her while two steal her shoes. Clever puppers 121/110 https://t.co/1zfnTJLt55\n",
       "1565                                           Here we have an entire platoon of puppers. Total score: 88/80 would pet all at once https://t.co/y93p6FLvVw\n",
       "1126                                                                    Here is a whole flock of puppers.  60/50 I'll take the lot https://t.co/9dpcw6MdWa\n",
       "Name: text, dtype: object"
      ]
     },
     "execution_count": 210,
     "metadata": {},
     "output_type": "execute_result"
    }
   ],
   "source": [
    "#Reviewing text for rating_denominators > 10\n",
    "df_clean[df_clean.rating_denominator >10 ]['text']"
   ]
  },
  {
   "cell_type": "code",
   "execution_count": 211,
   "metadata": {},
   "outputs": [],
   "source": [
    "#After analyzing the text for the few ratings denominators greater than 10,\n",
    "#I have decidied that I will assing the value of 10 for such record\n",
    "df_clean['rating_denominator'] = [i['rating_denominator'] if i['rating_numerator'] == 10\n",
    "                                 else int(10) for index, i in df_clean.iterrows()]"
   ]
  },
  {
   "cell_type": "markdown",
   "metadata": {},
   "source": [
    "#### Test ####"
   ]
  },
  {
   "cell_type": "code",
   "execution_count": 212,
   "metadata": {},
   "outputs": [
    {
     "data": {
      "text/plain": [
       "10    1602\n",
       "Name: rating_denominator, dtype: int64"
      ]
     },
     "execution_count": 212,
     "metadata": {},
     "output_type": "execute_result"
    }
   ],
   "source": [
    "df_clean.rating_denominator.value_counts()"
   ]
  },
  {
   "cell_type": "code",
   "execution_count": 213,
   "metadata": {},
   "outputs": [
    {
     "name": "stdout",
     "output_type": "stream",
     "text": [
      "<class 'pandas.core.frame.DataFrame'>\n",
      "Int64Index: 1602 entries, 9 to 437\n",
      "Data columns (total 16 columns):\n",
      "tweet_id                 1602 non-null int64\n",
      "in_reply_to_status_id    18 non-null float64\n",
      "in_reply_to_user_id      18 non-null float64\n",
      "timestamp                1602 non-null object\n",
      "source                   1602 non-null object\n",
      "text                     1602 non-null object\n",
      "expanded_urls            1602 non-null object\n",
      "rating_numerator         1602 non-null int64\n",
      "rating_denominator       1602 non-null int64\n",
      "name                     1602 non-null object\n",
      "jpg_url                  1602 non-null object\n",
      "img_num                  1602 non-null int64\n",
      "retweet_count            1602 non-null int64\n",
      "favorite_count           1602 non-null int64\n",
      "breed                    1602 non-null object\n",
      "stage                    1602 non-null object\n",
      "dtypes: float64(2), int64(6), object(8)\n",
      "memory usage: 212.8+ KB\n"
     ]
    }
   ],
   "source": [
    "df_clean.info()"
   ]
  },
  {
   "cell_type": "markdown",
   "metadata": {},
   "source": [
    "## Quality - 11 ##\n",
    "\n",
    "#### Define ####\n",
    "\n",
    "Correct datatypes for *in_reply_to_status_id* and *in_reply_to_user_id* from float to integer, and convert timestamp to datetime data type.\n",
    "\n",
    "#### Code ####"
   ]
  },
  {
   "cell_type": "code",
   "execution_count": 214,
   "metadata": {},
   "outputs": [],
   "source": [
    "#For variables in_reply_to_status_id and in_reply_to_user_id I will fill with Zeros the records without data\n",
    "df_clean.in_reply_to_status_id = df_clean.in_reply_to_status_id.fillna(0)\n",
    "df_clean.in_reply_to_user_id = df_clean.in_reply_to_user_id.fillna(0)\n",
    "\n",
    "df_clean.in_reply_to_status_id = df_clean.in_reply_to_status_id.astype(np.int64)\n",
    "df_clean.in_reply_to_user_id = df_clean.in_reply_to_user_id.astype(np.int64)\n",
    "\n",
    "df_clean.timestamp = pd.to_datetime(df_clean.timestamp)"
   ]
  },
  {
   "cell_type": "markdown",
   "metadata": {},
   "source": [
    "#### Test ####"
   ]
  },
  {
   "cell_type": "code",
   "execution_count": 215,
   "metadata": {},
   "outputs": [
    {
     "name": "stdout",
     "output_type": "stream",
     "text": [
      "<class 'pandas.core.frame.DataFrame'>\n",
      "Int64Index: 1602 entries, 9 to 437\n",
      "Data columns (total 16 columns):\n",
      "tweet_id                 1602 non-null int64\n",
      "in_reply_to_status_id    1602 non-null int64\n",
      "in_reply_to_user_id      1602 non-null int64\n",
      "timestamp                1602 non-null datetime64[ns]\n",
      "source                   1602 non-null object\n",
      "text                     1602 non-null object\n",
      "expanded_urls            1602 non-null object\n",
      "rating_numerator         1602 non-null int64\n",
      "rating_denominator       1602 non-null int64\n",
      "name                     1602 non-null object\n",
      "jpg_url                  1602 non-null object\n",
      "img_num                  1602 non-null int64\n",
      "retweet_count            1602 non-null int64\n",
      "favorite_count           1602 non-null int64\n",
      "breed                    1602 non-null object\n",
      "stage                    1602 non-null object\n",
      "dtypes: datetime64[ns](1), int64(8), object(7)\n",
      "memory usage: 212.8+ KB\n"
     ]
    }
   ],
   "source": [
    "df_clean.info()"
   ]
  },
  {
   "cell_type": "markdown",
   "metadata": {},
   "source": [
    "## Storing ##"
   ]
  },
  {
   "cell_type": "code",
   "execution_count": 216,
   "metadata": {},
   "outputs": [],
   "source": [
    "#Creating a new dataframe with only the variables of interest to analyze\n",
    "\n",
    "df_clean_analysis = df_clean[['tweet_id', 'in_reply_to_status_id', 'in_reply_to_user_id', 'timestamp',\n",
    "                             'source', 'rating_numerator', 'rating_denominator', 'name', 'retweet_count',\n",
    "                             'favorite_count', 'breed', 'stage']]"
   ]
  },
  {
   "cell_type": "code",
   "execution_count": 217,
   "metadata": {},
   "outputs": [
    {
     "name": "stdout",
     "output_type": "stream",
     "text": [
      "<class 'pandas.core.frame.DataFrame'>\n",
      "Int64Index: 1602 entries, 9 to 437\n",
      "Data columns (total 12 columns):\n",
      "tweet_id                 1602 non-null int64\n",
      "in_reply_to_status_id    1602 non-null int64\n",
      "in_reply_to_user_id      1602 non-null int64\n",
      "timestamp                1602 non-null datetime64[ns]\n",
      "source                   1602 non-null object\n",
      "rating_numerator         1602 non-null int64\n",
      "rating_denominator       1602 non-null int64\n",
      "name                     1602 non-null object\n",
      "retweet_count            1602 non-null int64\n",
      "favorite_count           1602 non-null int64\n",
      "breed                    1602 non-null object\n",
      "stage                    1602 non-null object\n",
      "dtypes: datetime64[ns](1), int64(7), object(4)\n",
      "memory usage: 162.7+ KB\n"
     ]
    }
   ],
   "source": [
    "#Veryfing new dataframe was created correctly\n",
    "df_clean_analysis.info()"
   ]
  },
  {
   "cell_type": "code",
   "execution_count": 218,
   "metadata": {},
   "outputs": [],
   "source": [
    "#Saving to CSF file the clean dataframe\n",
    "df_clean_analysis.to_csv('twitter_archive_master.csv')"
   ]
  },
  {
   "cell_type": "markdown",
   "metadata": {},
   "source": [
    "## Analysis and Visualizations"
   ]
  },
  {
   "cell_type": "markdown",
   "metadata": {},
   "source": [
    "### What is the most used Twitter Source?###\n"
   ]
  },
  {
   "cell_type": "code",
   "execution_count": 219,
   "metadata": {},
   "outputs": [
    {
     "data": {
      "text/plain": [
       "Twitter for iPhone    1572\n",
       "Twitter Web Client      22\n",
       "TweetDeck                8\n",
       "Name: source, dtype: int64"
      ]
     },
     "execution_count": 219,
     "metadata": {},
     "output_type": "execute_result"
    }
   ],
   "source": [
    "df_clean_analysis.source.value_counts()"
   ]
  },
  {
   "cell_type": "markdown",
   "metadata": {},
   "source": [
    "#### * Visualization ####"
   ]
  },
  {
   "cell_type": "code",
   "execution_count": 220,
   "metadata": {},
   "outputs": [
    {
     "data": {
      "image/png": "[encoded data removed]",
      "text/plain": [
       "<matplotlib.figure.Figure at 0x7f7e522aba58>"
      ]
     },
     "metadata": {},
     "output_type": "display_data"
    }
   ],
   "source": [
    "#Visualizing Twitter Sources\n",
    "labels = ['Twitter for iPhone', 'Twitter Web Client', 'TweetDeck']\n",
    "sizes = [1572,22,8]\n",
    "colors = ['lightskyblue', 'lightcoral','gold']\n",
    "patches, texts = plt.pie(sizes,colors=colors)\n",
    "plt.legend(patches,labels, loc =\"best\")\n",
    "plt.axis('equal')\n",
    "plt.title('Most used Twitter Source')\n",
    "plt.tight_layout()\n",
    "plt.show()"
   ]
  },
  {
   "cell_type": "markdown",
   "metadata": {},
   "source": [
    "*Twitter for iPhone* is the most used Twitter source"
   ]
  },
  {
   "cell_type": "markdown",
   "metadata": {},
   "source": [
    "### Top 10 Dog Breeds\n",
    "\n",
    "Let's find out what are the most common Dog Breeds based on twitter counts"
   ]
  },
  {
   "cell_type": "code",
   "execution_count": 221,
   "metadata": {},
   "outputs": [
    {
     "data": {
      "text/plain": [
       "golden_retriever      153\n",
       "Labrador_retriever    102\n",
       "Pembroke               91\n",
       "Chihuahua              89\n",
       "pug                    58\n",
       "toy_poodle             51\n",
       "chow                   44\n",
       "Pomeranian             41\n",
       "Samoyed                37\n",
       "malamute               32\n",
       "Name: breed, dtype: int64"
      ]
     },
     "execution_count": 221,
     "metadata": {},
     "output_type": "execute_result"
    }
   ],
   "source": [
    "df_clean_analysis.breed.value_counts()[0:10].sort_values(ascending = False)"
   ]
  },
  {
   "cell_type": "markdown",
   "metadata": {},
   "source": [
    "#### Dog Breeds Visualization"
   ]
  },
  {
   "cell_type": "code",
   "execution_count": 222,
   "metadata": {},
   "outputs": [
    {
     "data": {
      "image/png": "[encoded data removed]",
      "text/plain": [
       "<matplotlib.figure.Figure at 0x7f7e522ab7f0>"
      ]
     },
     "metadata": {
      "needs_background": "light"
     },
     "output_type": "display_data"
    }
   ],
   "source": [
    "df_clean_analysis.breed.value_counts()[0:10].plot('barh', figsize = (10,8), title = \"Top 10 Dog Breeds\", alpha = 0.5);\n",
    "plt.xlabel('Number of Dogs');"
   ]
  },
  {
   "cell_type": "markdown",
   "metadata": {},
   "source": [
    "*Golden Retriever* is the top one breed that appears in more tweets, followed by *Labrador Retriever* Breed."
   ]
  },
  {
   "cell_type": "markdown",
   "metadata": {},
   "source": [
    "### Stage by Rating Numerator ###\n",
    "\n",
    "Considering that Rating Numerators scores, let's take a look at the different Dog Stages to find out how different Stages are rated."
   ]
  },
  {
   "cell_type": "code",
   "execution_count": 223,
   "metadata": {},
   "outputs": [
    {
     "data": {
      "text/plain": [
       "None       1320\n",
       "pupper      190\n",
       "doggo        58\n",
       "puppo        27\n",
       "floofer       7\n",
       "Name: stage, dtype: int64"
      ]
     },
     "execution_count": 223,
     "metadata": {},
     "output_type": "execute_result"
    }
   ],
   "source": [
    "#Descriptive information about the dog's Stages\n",
    "df_clean_analysis['stage'].value_counts()"
   ]
  },
  {
   "cell_type": "markdown",
   "metadata": {},
   "source": [
    "#### Stage by Rating Numerator Visualization"
   ]
  },
  {
   "cell_type": "code",
   "execution_count": 224,
   "metadata": {
    "scrolled": false
   },
   "outputs": [
    {
     "data": {
      "image/png": "[encoded data removed]",
      "text/plain": [
       "<matplotlib.figure.Figure at 0x7f7e8e6129e8>"
      ]
     },
     "metadata": {
      "needs_background": "light"
     },
     "output_type": "display_data"
    }
   ],
   "source": [
    "import seaborn as sns\n",
    "#Replacing Stage with name \"None\" as NaN\n",
    "df_clean_analysis['stage'].replace('None', np.nan, inplace=True)\n",
    "\n",
    "#Creating a swarmplot over a boxplot to see where data points are concentrated\n",
    "plt.figure(figsize=(10,8))\n",
    "sns.boxplot(x='stage', y ='rating_numerator', data=df_clean_analysis, color='darkgray').set_title(\"Stage by Rating Numerator\");\n",
    "sns.swarmplot(x='stage', y ='rating_numerator', data=df_clean_analysis);"
   ]
  },
  {
   "cell_type": "markdown",
   "metadata": {},
   "source": [
    "*Pupper* is the Stage that shows more variation in numerator ratings.\n",
    "\n",
    "*Puppo* and *floffer* are the stages with less count of ratings, however the few ratings given are high ratings, between 12 and 13.\n",
    "\n",
    "*doggo* stage seems to have high ratings most of them are concentrated between 11 to 13, however there are also a good number or ratings with value 14"
   ]
  },
  {
   "cell_type": "markdown",
   "metadata": {},
   "source": [
    "### About Rating Numerator ###\n",
    "\n",
    "Considering that Rating Numerators vary from 4 - 16 where 4 is the lowest rating received and 16 is the highest, let's take a look at the distribution and statistics of Rating Numerator"
   ]
  },
  {
   "cell_type": "code",
   "execution_count": 225,
   "metadata": {},
   "outputs": [
    {
     "data": {
      "text/plain": [
       "count    1602.000000\n",
       "mean       10.864544\n",
       "std         1.733242\n",
       "min         4.000000\n",
       "25%        10.000000\n",
       "50%        11.000000\n",
       "75%        12.000000\n",
       "max        16.000000\n",
       "Name: rating_numerator, dtype: float64"
      ]
     },
     "execution_count": 225,
     "metadata": {},
     "output_type": "execute_result"
    }
   ],
   "source": [
    "# Descriptive information about the dog's rating Numerator\n",
    "df_clean_analysis['rating_numerator'].describe()"
   ]
  },
  {
   "cell_type": "markdown",
   "metadata": {},
   "source": [
    "#### Rating Numerator Visualization"
   ]
  },
  {
   "cell_type": "code",
   "execution_count": 226,
   "metadata": {},
   "outputs": [
    {
     "data": {
      "image/png": "[encoded data removed]",
      "text/plain": [
       "<matplotlib.figure.Figure at 0x7f7e521e4978>"
      ]
     },
     "metadata": {
      "needs_background": "light"
     },
     "output_type": "display_data"
    }
   ],
   "source": [
    "#Rating Numerator Distribution\n",
    "plt.figure(figsize=(10,8))\n",
    "plt.hist(df_clean_analysis['rating_numerator'], alpha=0.5)\n",
    "plt.xlabel('Rating')\n",
    "plt.ylabel('Count')\n",
    "plt.title('Rating Numerator Distribution');\n"
   ]
  },
  {
   "cell_type": "markdown",
   "metadata": {},
   "source": [
    "*Rating Numerator* Distribution is a little bit Negative skewed where the great majority of counts of rating numerators are above 10, which makes sense based on the way Dogs get rated."
   ]
  },
  {
   "cell_type": "markdown",
   "metadata": {},
   "source": [
    "### Retweets and Favorite Tweets over Time"
   ]
  },
  {
   "cell_type": "code",
   "execution_count": 227,
   "metadata": {},
   "outputs": [
    {
     "data": {
      "text/plain": [
       "count     1602.000000\n",
       "mean      2630.825218\n",
       "std       4856.950015\n",
       "min         11.000000\n",
       "25%        592.250000\n",
       "50%       1305.000000\n",
       "75%       2954.500000\n",
       "max      83264.000000\n",
       "Name: retweet_count, dtype: float64"
      ]
     },
     "execution_count": 227,
     "metadata": {},
     "output_type": "execute_result"
    }
   ],
   "source": [
    "#Retweet Count Statistics\n",
    "df_clean_analysis.retweet_count.describe()"
   ]
  },
  {
   "cell_type": "code",
   "execution_count": 228,
   "metadata": {},
   "outputs": [
    {
     "data": {
      "text/plain": [
       "count      1602.000000\n",
       "mean       8783.049313\n",
       "std       13072.335645\n",
       "min          78.000000\n",
       "25%        1991.250000\n",
       "50%        4004.500000\n",
       "75%       10862.500000\n",
       "max      163731.000000\n",
       "Name: favorite_count, dtype: float64"
      ]
     },
     "execution_count": 228,
     "metadata": {},
     "output_type": "execute_result"
    }
   ],
   "source": [
    "#Favorite Count Statistics\n",
    "df_clean_analysis.favorite_count.describe()"
   ]
  },
  {
   "cell_type": "markdown",
   "metadata": {},
   "source": [
    "#### Visualization"
   ]
  },
  {
   "cell_type": "code",
   "execution_count": 229,
   "metadata": {},
   "outputs": [
    {
     "data": {
      "image/png": "[encoded data removed]",
      "text/plain": [
       "<matplotlib.figure.Figure at 0x7f7e51e18860>"
      ]
     },
     "metadata": {
      "needs_background": "light"
     },
     "output_type": "display_data"
    }
   ],
   "source": [
    "#Plotting Retweets and Favorite \n",
    "df_clean_analysis.retweet_count.groupby([df_clean_analysis[\"timestamp\"].dt.year, df_clean_analysis[\"timestamp\"].dt.month]).mean().plot('line')\n",
    "df_clean_analysis.favorite_count.groupby([df_clean_analysis[\"timestamp\"].dt.year, df_clean_analysis[\"timestamp\"].dt.month]).mean().plot('line').set_ylim(0, )\n",
    "plt.title('Retweets and Favorite tweets over time')\n",
    "plt.ylabel('Count')\n",
    "plt.xlabel('(Year, Month)')\n",
    "plt.legend(loc ='best');"
   ]
  },
  {
   "cell_type": "markdown",
   "metadata": {},
   "source": [
    "We can clearly see from above visualization how favorite counts grows almost exponentially over time, compared to retweet counts that even though still shows some increment, it is not as noticieable as favorite counts."
   ]
  },
  {
   "cell_type": "code",
   "execution_count": null,
   "metadata": {},
   "outputs": [],
   "source": []
  }
 ],
 "metadata": {
  "kernelspec": {
   "display_name": "Python 3",
   "language": "python",
   "name": "python3"
  },
  "language_info": {
   "codemirror_mode": {
    "name": "ipython",
    "version": 3
   },
   "file_extension": ".py",
   "mimetype": "text/x-python",
   "name": "python",
   "nbconvert_exporter": "python",
   "pygments_lexer": "ipython3",
   "version": "3.6.3"
  }
 },
 "nbformat": 4,
 "nbformat_minor": 2
}
